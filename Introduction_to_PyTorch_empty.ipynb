{
  "nbformat": 4,
  "nbformat_minor": 0,
  "metadata": {
    "kernelspec": {
      "display_name": "Python 3",
      "language": "python",
      "name": "python3"
    },
    "language_info": {
      "codemirror_mode": {
        "name": "ipython",
        "version": 3
      },
      "file_extension": ".py",
      "mimetype": "text/x-python",
      "name": "python",
      "nbconvert_exporter": "python",
      "pygments_lexer": "ipython3",
      "version": "3.7.3"
    },
    "colab": {
      "name": "Introduction_to_PyTorch_empty.ipynb",
      "provenance": [],
      "collapsed_sections": [],
      "include_colab_link": true
    },
    "accelerator": "GPU",
    "widgets": {
      "application/vnd.jupyter.widget-state+json": {
        "cb479b0c261c450b89fc4dc9ed4c30f4": {
          "model_module": "@jupyter-widgets/controls",
          "model_name": "HBoxModel",
          "model_module_version": "1.5.0",
          "state": {
            "_dom_classes": [],
            "_model_module": "@jupyter-widgets/controls",
            "_model_module_version": "1.5.0",
            "_model_name": "HBoxModel",
            "_view_count": null,
            "_view_module": "@jupyter-widgets/controls",
            "_view_module_version": "1.5.0",
            "_view_name": "HBoxView",
            "box_style": "",
            "children": [
              "IPY_MODEL_41e5857508ea43699933b7675869e9f7",
              "IPY_MODEL_2c636d6e033447ffa7a7beab4d18fa09",
              "IPY_MODEL_b8741e0a65d54f3aa412207f72d70598"
            ],
            "layout": "IPY_MODEL_4158dbb0df8b4a23bf464cb97d23d5b0"
          }
        },
        "41e5857508ea43699933b7675869e9f7": {
          "model_module": "@jupyter-widgets/controls",
          "model_name": "HTMLModel",
          "model_module_version": "1.5.0",
          "state": {
            "_dom_classes": [],
            "_model_module": "@jupyter-widgets/controls",
            "_model_module_version": "1.5.0",
            "_model_name": "HTMLModel",
            "_view_count": null,
            "_view_module": "@jupyter-widgets/controls",
            "_view_module_version": "1.5.0",
            "_view_name": "HTMLView",
            "description": "",
            "description_tooltip": null,
            "layout": "IPY_MODEL_085141d2b8444f2b940a825ff872d9b4",
            "placeholder": "​",
            "style": "IPY_MODEL_be94940140e94271a6c6cab3f6947109",
            "value": "100%"
          }
        },
        "2c636d6e033447ffa7a7beab4d18fa09": {
          "model_module": "@jupyter-widgets/controls",
          "model_name": "FloatProgressModel",
          "model_module_version": "1.5.0",
          "state": {
            "_dom_classes": [],
            "_model_module": "@jupyter-widgets/controls",
            "_model_module_version": "1.5.0",
            "_model_name": "FloatProgressModel",
            "_view_count": null,
            "_view_module": "@jupyter-widgets/controls",
            "_view_module_version": "1.5.0",
            "_view_name": "ProgressView",
            "bar_style": "success",
            "description": "",
            "description_tooltip": null,
            "layout": "IPY_MODEL_d10f9e12f0bd4cd9bfc9c5d14d64c37b",
            "max": 100,
            "min": 0,
            "orientation": "horizontal",
            "style": "IPY_MODEL_6982aa1eebfa4ff9bb044ae721c0128e",
            "value": 100
          }
        },
        "b8741e0a65d54f3aa412207f72d70598": {
          "model_module": "@jupyter-widgets/controls",
          "model_name": "HTMLModel",
          "model_module_version": "1.5.0",
          "state": {
            "_dom_classes": [],
            "_model_module": "@jupyter-widgets/controls",
            "_model_module_version": "1.5.0",
            "_model_name": "HTMLModel",
            "_view_count": null,
            "_view_module": "@jupyter-widgets/controls",
            "_view_module_version": "1.5.0",
            "_view_name": "HTMLView",
            "description": "",
            "description_tooltip": null,
            "layout": "IPY_MODEL_a1be59d7f85d442f81ec468951d796f0",
            "placeholder": "​",
            "style": "IPY_MODEL_5d817427f181408e83f709389232b251",
            "value": " 100/100 [00:01&lt;00:00, 75.19it/s]"
          }
        },
        "4158dbb0df8b4a23bf464cb97d23d5b0": {
          "model_module": "@jupyter-widgets/base",
          "model_name": "LayoutModel",
          "model_module_version": "1.2.0",
          "state": {
            "_model_module": "@jupyter-widgets/base",
            "_model_module_version": "1.2.0",
            "_model_name": "LayoutModel",
            "_view_count": null,
            "_view_module": "@jupyter-widgets/base",
            "_view_module_version": "1.2.0",
            "_view_name": "LayoutView",
            "align_content": null,
            "align_items": null,
            "align_self": null,
            "border": null,
            "bottom": null,
            "display": null,
            "flex": null,
            "flex_flow": null,
            "grid_area": null,
            "grid_auto_columns": null,
            "grid_auto_flow": null,
            "grid_auto_rows": null,
            "grid_column": null,
            "grid_gap": null,
            "grid_row": null,
            "grid_template_areas": null,
            "grid_template_columns": null,
            "grid_template_rows": null,
            "height": null,
            "justify_content": null,
            "justify_items": null,
            "left": null,
            "margin": null,
            "max_height": null,
            "max_width": null,
            "min_height": null,
            "min_width": null,
            "object_fit": null,
            "object_position": null,
            "order": null,
            "overflow": null,
            "overflow_x": null,
            "overflow_y": null,
            "padding": null,
            "right": null,
            "top": null,
            "visibility": null,
            "width": null
          }
        },
        "085141d2b8444f2b940a825ff872d9b4": {
          "model_module": "@jupyter-widgets/base",
          "model_name": "LayoutModel",
          "model_module_version": "1.2.0",
          "state": {
            "_model_module": "@jupyter-widgets/base",
            "_model_module_version": "1.2.0",
            "_model_name": "LayoutModel",
            "_view_count": null,
            "_view_module": "@jupyter-widgets/base",
            "_view_module_version": "1.2.0",
            "_view_name": "LayoutView",
            "align_content": null,
            "align_items": null,
            "align_self": null,
            "border": null,
            "bottom": null,
            "display": null,
            "flex": null,
            "flex_flow": null,
            "grid_area": null,
            "grid_auto_columns": null,
            "grid_auto_flow": null,
            "grid_auto_rows": null,
            "grid_column": null,
            "grid_gap": null,
            "grid_row": null,
            "grid_template_areas": null,
            "grid_template_columns": null,
            "grid_template_rows": null,
            "height": null,
            "justify_content": null,
            "justify_items": null,
            "left": null,
            "margin": null,
            "max_height": null,
            "max_width": null,
            "min_height": null,
            "min_width": null,
            "object_fit": null,
            "object_position": null,
            "order": null,
            "overflow": null,
            "overflow_x": null,
            "overflow_y": null,
            "padding": null,
            "right": null,
            "top": null,
            "visibility": null,
            "width": null
          }
        },
        "be94940140e94271a6c6cab3f6947109": {
          "model_module": "@jupyter-widgets/controls",
          "model_name": "DescriptionStyleModel",
          "model_module_version": "1.5.0",
          "state": {
            "_model_module": "@jupyter-widgets/controls",
            "_model_module_version": "1.5.0",
            "_model_name": "DescriptionStyleModel",
            "_view_count": null,
            "_view_module": "@jupyter-widgets/base",
            "_view_module_version": "1.2.0",
            "_view_name": "StyleView",
            "description_width": ""
          }
        },
        "d10f9e12f0bd4cd9bfc9c5d14d64c37b": {
          "model_module": "@jupyter-widgets/base",
          "model_name": "LayoutModel",
          "model_module_version": "1.2.0",
          "state": {
            "_model_module": "@jupyter-widgets/base",
            "_model_module_version": "1.2.0",
            "_model_name": "LayoutModel",
            "_view_count": null,
            "_view_module": "@jupyter-widgets/base",
            "_view_module_version": "1.2.0",
            "_view_name": "LayoutView",
            "align_content": null,
            "align_items": null,
            "align_self": null,
            "border": null,
            "bottom": null,
            "display": null,
            "flex": null,
            "flex_flow": null,
            "grid_area": null,
            "grid_auto_columns": null,
            "grid_auto_flow": null,
            "grid_auto_rows": null,
            "grid_column": null,
            "grid_gap": null,
            "grid_row": null,
            "grid_template_areas": null,
            "grid_template_columns": null,
            "grid_template_rows": null,
            "height": null,
            "justify_content": null,
            "justify_items": null,
            "left": null,
            "margin": null,
            "max_height": null,
            "max_width": null,
            "min_height": null,
            "min_width": null,
            "object_fit": null,
            "object_position": null,
            "order": null,
            "overflow": null,
            "overflow_x": null,
            "overflow_y": null,
            "padding": null,
            "right": null,
            "top": null,
            "visibility": null,
            "width": null
          }
        },
        "6982aa1eebfa4ff9bb044ae721c0128e": {
          "model_module": "@jupyter-widgets/controls",
          "model_name": "ProgressStyleModel",
          "model_module_version": "1.5.0",
          "state": {
            "_model_module": "@jupyter-widgets/controls",
            "_model_module_version": "1.5.0",
            "_model_name": "ProgressStyleModel",
            "_view_count": null,
            "_view_module": "@jupyter-widgets/base",
            "_view_module_version": "1.2.0",
            "_view_name": "StyleView",
            "bar_color": null,
            "description_width": ""
          }
        },
        "a1be59d7f85d442f81ec468951d796f0": {
          "model_module": "@jupyter-widgets/base",
          "model_name": "LayoutModel",
          "model_module_version": "1.2.0",
          "state": {
            "_model_module": "@jupyter-widgets/base",
            "_model_module_version": "1.2.0",
            "_model_name": "LayoutModel",
            "_view_count": null,
            "_view_module": "@jupyter-widgets/base",
            "_view_module_version": "1.2.0",
            "_view_name": "LayoutView",
            "align_content": null,
            "align_items": null,
            "align_self": null,
            "border": null,
            "bottom": null,
            "display": null,
            "flex": null,
            "flex_flow": null,
            "grid_area": null,
            "grid_auto_columns": null,
            "grid_auto_flow": null,
            "grid_auto_rows": null,
            "grid_column": null,
            "grid_gap": null,
            "grid_row": null,
            "grid_template_areas": null,
            "grid_template_columns": null,
            "grid_template_rows": null,
            "height": null,
            "justify_content": null,
            "justify_items": null,
            "left": null,
            "margin": null,
            "max_height": null,
            "max_width": null,
            "min_height": null,
            "min_width": null,
            "object_fit": null,
            "object_position": null,
            "order": null,
            "overflow": null,
            "overflow_x": null,
            "overflow_y": null,
            "padding": null,
            "right": null,
            "top": null,
            "visibility": null,
            "width": null
          }
        },
        "5d817427f181408e83f709389232b251": {
          "model_module": "@jupyter-widgets/controls",
          "model_name": "DescriptionStyleModel",
          "model_module_version": "1.5.0",
          "state": {
            "_model_module": "@jupyter-widgets/controls",
            "_model_module_version": "1.5.0",
            "_model_name": "DescriptionStyleModel",
            "_view_count": null,
            "_view_module": "@jupyter-widgets/base",
            "_view_module_version": "1.2.0",
            "_view_name": "StyleView",
            "description_width": ""
          }
        }
      }
    }
  },
  "cells": [
    {
      "cell_type": "markdown",
      "metadata": {
        "id": "view-in-github",
        "colab_type": "text"
      },
      "source": [
        "<a href=\"https://colab.research.google.com/github/uac35/uac35/blob/main/Introduction_to_PyTorch_empty.ipynb\" target=\"_parent\"><img src=\"https://colab.research.google.com/assets/colab-badge.svg\" alt=\"Open In Colab\"/></a>"
      ]
    },
    {
      "cell_type": "markdown",
      "metadata": {
        "id": "AioNI5X9ep6c"
      },
      "source": [
        "# Session 6: Introduction to PyTorch\n",
        "\n",
        "\n",
        "*This is an empty version of the notebook. Try to fill in the blanks indicated by `## TODO` comments and `...` parts in the code*"
      ]
    },
    {
      "cell_type": "markdown",
      "metadata": {
        "id": "9HDCtPmZep6g"
      },
      "source": [
        "Welcome to our PyTorch tutorial for the Deep Learning course 2022! The provided notebooks for deep learning are based on the deep learning session at [Amsterdam](https://uvadlc.github.io/). The following notebook is meant to give a short introduction to PyTorch basics, and get you setup for writing your own neural networks. PyTorch is an open source machine learning framework that allows you to write your own neural networks and optimize them efficiently. However, PyTorch is not the only framework of its kind. Alternatives to PyTorch include [TensorFlow](https://www.tensorflow.org/), [JAX](https://github.com/google/jax#quickstart-colab-in-the-cloud) and [Caffe](http://caffe.berkeleyvision.org/). We choose to teach PyTorch the because it is well established, has a huge developer community (originally developed by Meta), is very flexible and especially used in research. Many current papers publish their code in PyTorch, and thus it is good to be familiar with PyTorch as well.\n",
        "Meanwhile, TensorFlow (developed by Google) is usually known for being a production-grade deep learning library. Still, if you know one machine learning framework in depth, it is very easy to learn another one because many of them use the same concepts and ideas. For instance, TensorFlow's version 2 was heavily inspired by the most popular features of PyTorch, making the frameworks even more similar. \n",
        "If you are already familiar with PyTorch and have created your own neural network projects, feel free to just skim this notebook.\n",
        "\n",
        "This is of course not the only PyTorch tutorial. There are many great tutorials online, including the [\"60-min blitz\"](https://pytorch.org/tutorials/beginner/deep_learning_60min_blitz.html) on the official [PyTorch website](https://pytorch.org/tutorials/). Over the next few weeks, we will also keep exploring new PyTorch features in the series of Jupyter notebook tutorials about deep learning. \n",
        "\n",
        "We will use a set of standard libraries that are often used in machine learning projects. If you are running this notebook on Google Colab, all libraries should be pre-installed. If you are running this notebook locally, make sure you have installed the necessary packages."
      ]
    },
    {
      "cell_type": "code",
      "metadata": {
        "id": "LORk55BKep6j"
      },
      "source": [
        "## Standard libraries\n",
        "import os\n",
        "import math\n",
        "import numpy as np \n",
        "import time\n",
        "\n",
        "## Imports for plotting\n",
        "import matplotlib.pyplot as plt\n",
        "%matplotlib inline \n",
        "from IPython.display import set_matplotlib_formats\n",
        "set_matplotlib_formats('svg', 'pdf') # For export\n",
        "from matplotlib.colors import to_rgba\n",
        "import seaborn as sns\n",
        "sns.set()\n",
        "\n",
        "## Progress bar\n",
        "from tqdm.notebook import tqdm"
      ],
      "execution_count": 645,
      "outputs": []
    },
    {
      "cell_type": "markdown",
      "metadata": {
        "id": "0QB4GyMUep6m"
      },
      "source": [
        "## The Basics of PyTorch\n",
        "\n",
        "We will start with reviewing the very basic concepts of PyTorch. As a prerequisite, we recommend being familiar with the `numpy` package or to MATLAB as most machine learning frameworks are based on very similar concepts. If you are not familiar with numpy yet, don't worry: here is a [tutorial](https://numpy.org/devdocs/user/quickstart.html) to go through.\n",
        "\n",
        "So, let's start with importing PyTorch. The package is called `torch`, based on its original framework [Torch](http://torch.ch/). As a first step, we can check its version:"
      ]
    },
    {
      "cell_type": "code",
      "metadata": {
        "colab": {
          "base_uri": "https://localhost:8080/"
        },
        "id": "FBkSoEjdep6o",
        "outputId": "836d429b-d2a6-4f65-d9aa-4456b8edc359"
      },
      "source": [
        "import torch\n",
        "print(f\"Using torch {torch.__version__}\")"
      ],
      "execution_count": 646,
      "outputs": [
        {
          "output_type": "stream",
          "name": "stdout",
          "text": [
            "Using torch 1.11.0+cu113\n"
          ]
        }
      ]
    },
    {
      "cell_type": "markdown",
      "metadata": {
        "id": "l2TvybbFep6o"
      },
      "source": [
        "At the time of writing this tutorial (April 2022), the current stable version is 1.10. You should therefore see the output `Using torch 1.10.0`. If you see a lower version number, make sure you have installed the correct the environment, or ask one of your TAs. In case PyTorch 1.11 or newer will be published during the time of the course, don't worry. The interface between PyTorch versions doesn't change too much, and hence all code should also be runnable with newer versions.\n",
        "\n",
        "As in every machine learning framework, PyTorch provides functions that are stochastic like generating random numbers. However, a very good practice is to setup your code to be reproducible with the exact same random numbers. This is why we set a seed below. "
      ]
    },
    {
      "cell_type": "code",
      "metadata": {
        "id": "tKG3zedGep6q",
        "colab": {
          "base_uri": "https://localhost:8080/"
        },
        "outputId": "40162787-259d-4598-d53a-e25bd1fb1462"
      },
      "source": [
        "torch.manual_seed(42) # Setting the seed"
      ],
      "execution_count": 647,
      "outputs": [
        {
          "output_type": "execute_result",
          "data": {
            "text/plain": [
              "<torch._C.Generator at 0x7ff60422c1f0>"
            ]
          },
          "metadata": {},
          "execution_count": 647
        }
      ]
    },
    {
      "cell_type": "markdown",
      "metadata": {
        "id": "M4FTT4onep6r"
      },
      "source": [
        "### Tensors\n",
        "\n",
        "Tensors are the PyTorch equivalent to Numpy arrays, with the addition to also have support for GPU acceleration (more on that later).\n",
        "The name \"tensor\" is a generalization of concepts you already know. For instance, a vector is a 1-D tensor, and a matrix a 2-D tensor. When working with neural networks, we will use tensors of various shapes and number of dimensions.\n",
        "\n",
        "Most common functions you know from numpy can be used on tensors as well. Actually, since numpy arrays are so similar to tensors, we can convert most tensors to numpy arrays (and back) but we don't need it too often.\n",
        "\n",
        "#### Initialization\n",
        "\n",
        "Let's first start by looking at different ways of creating a tensor. There are many possible options, the most simple one is to call `torch.Tensor` passing the desired shape as input argument:"
      ]
    },
    {
      "cell_type": "code",
      "metadata": {
        "id": "Gg7NR4JRep6t",
        "colab": {
          "base_uri": "https://localhost:8080/"
        },
        "outputId": "0babdedf-8ca3-4b45-d1e4-fc7757ea4eb7"
      },
      "source": [
        "x = torch.Tensor(2, 3, 4)\n",
        "print(x)"
      ],
      "execution_count": 648,
      "outputs": [
        {
          "output_type": "stream",
          "name": "stdout",
          "text": [
            "tensor([[[-1.6550e-33,  3.0847e-41,  7.0065e-44,  7.0065e-44],\n",
            "         [ 6.3058e-44,  6.7262e-44,  7.2868e-44,  6.3058e-44],\n",
            "         [ 7.0065e-44,  7.4269e-44,  1.1771e-43,  7.0065e-44]],\n",
            "\n",
            "        [[ 7.0065e-44,  8.1275e-44,  6.7262e-44,  6.8664e-44],\n",
            "         [ 8.1275e-44,  7.0065e-44,  7.5670e-44,  6.4460e-44],\n",
            "         [ 7.0065e-44,  7.1466e-44,  7.2868e-44,  7.2868e-44]]])\n"
          ]
        }
      ]
    },
    {
      "cell_type": "markdown",
      "metadata": {
        "id": "zzKuZfczep6u"
      },
      "source": [
        "The function `torch.Tensor` allocates memory for the desired tensor, but reuses any values that have already been in the memory. To directly assign values to the tensor during initialization, there are many alternatives including:\n",
        "\n",
        "* `torch.zeros`: Creates a tensor filled with zeros\n",
        "* `torch.ones`: Creates a tensor filled with ones\n",
        "* `torch.rand`: Creates a tensor with random values uniformly sampled between 0 and 1\n",
        "* `torch.randn`: Creates a tensor with random values sampled from a normal distribution with mean 0 and variance 1\n",
        "* `torch.arange`: Creates a tensor containing the values $N,N+1,N+2,...,M$\n",
        "* `torch.Tensor` (input list): Creates a tensor from the list elements you provide\n",
        "* `torch.from_numpy`: Converts a numpy array into a PyTorch tensor"
      ]
    },
    {
      "cell_type": "code",
      "metadata": {
        "id": "gh0_q-Hyep6u",
        "colab": {
          "base_uri": "https://localhost:8080/"
        },
        "outputId": "16ddea0c-de04-4b40-88b3-ba51bdb3aa66"
      },
      "source": [
        "## TODO: Create a tensor from the list [[1, 2], [3, 4]]\n",
        "list=np.array([[1,2],[2,4]])\n",
        "x = torch.Tensor(list)\n",
        "print(x)"
      ],
      "execution_count": 649,
      "outputs": [
        {
          "output_type": "stream",
          "name": "stdout",
          "text": [
            "tensor([[1., 2.],\n",
            "        [2., 4.]])\n"
          ]
        }
      ]
    },
    {
      "cell_type": "code",
      "metadata": {
        "id": "7MyqGPD6ep6x",
        "colab": {
          "base_uri": "https://localhost:8080/"
        },
        "outputId": "5abed97b-7e7a-4e7e-910d-7ed5bff8995a"
      },
      "source": [
        "## TODO: Create a tensor with random values between 0 and 1 with the shape [2, 3, 4]\n",
        "x = torch.rand([2,3,4])\n",
        "print(x)"
      ],
      "execution_count": 650,
      "outputs": [
        {
          "output_type": "stream",
          "name": "stdout",
          "text": [
            "tensor([[[0.8823, 0.9150, 0.3829, 0.9593],\n",
            "         [0.3904, 0.6009, 0.2566, 0.7936],\n",
            "         [0.9408, 0.1332, 0.9346, 0.5936]],\n",
            "\n",
            "        [[0.8694, 0.5677, 0.7411, 0.4294],\n",
            "         [0.8854, 0.5739, 0.2666, 0.6274],\n",
            "         [0.2696, 0.4414, 0.2969, 0.8317]]])\n"
          ]
        }
      ]
    },
    {
      "cell_type": "markdown",
      "metadata": {
        "id": "ikqSDyUEep6z"
      },
      "source": [
        "You can obtain the shape of a tensor in the same way as in numpy (`x.shape`), or using the `.size` method:"
      ]
    },
    {
      "cell_type": "code",
      "metadata": {
        "id": "Ml5DPHxtep6z",
        "colab": {
          "base_uri": "https://localhost:8080/"
        },
        "outputId": "07d49ffc-d8de-4511-ff31-1b30de3a5a98"
      },
      "source": [
        "shape = x.shape\n",
        "print(\"Shape:\", x.shape)\n",
        "\n",
        "size = x.size()\n",
        "print(\"Size:\", size)\n",
        "\n",
        "dim1, dim2, dim3 = x.size()\n",
        "print(\"Size:\", dim1, dim2, dim3)"
      ],
      "execution_count": 651,
      "outputs": [
        {
          "output_type": "stream",
          "name": "stdout",
          "text": [
            "Shape: torch.Size([2, 3, 4])\n",
            "Size: torch.Size([2, 3, 4])\n",
            "Size: 2 3 4\n"
          ]
        }
      ]
    },
    {
      "cell_type": "markdown",
      "metadata": {
        "id": "nDdxWuBLep60"
      },
      "source": [
        "#### Operations\n",
        "\n",
        "Most operations that exist in numpy, also exist in PyTorch. A full list of operations can be found in the [PyTorch documentation](https://pytorch.org/docs/stable/tensors.html#), but we will review the most important ones here.\n",
        "\n",
        "The simplest operation is to add two tensors:"
      ]
    },
    {
      "cell_type": "code",
      "metadata": {
        "id": "Ij5tpe1Oep61",
        "colab": {
          "base_uri": "https://localhost:8080/"
        },
        "outputId": "a56d6a83-f245-41cc-9acc-928e559dc948"
      },
      "source": [
        "x1 = torch.rand(2, 3)\n",
        "x2 = torch.rand(2, 3)\n",
        "\n",
        "## TODO: Sum up the tensors x1 and x2, and store the result in y\n",
        "y = x2+x1\n",
        "\n",
        "print(\"X1\", x1)\n",
        "print(\"X2\", x2)\n",
        "print(\"Y\", y)"
      ],
      "execution_count": 652,
      "outputs": [
        {
          "output_type": "stream",
          "name": "stdout",
          "text": [
            "X1 tensor([[0.1053, 0.2695, 0.3588],\n",
            "        [0.1994, 0.5472, 0.0062]])\n",
            "X2 tensor([[0.9516, 0.0753, 0.8860],\n",
            "        [0.5832, 0.3376, 0.8090]])\n",
            "Y tensor([[1.0569, 0.3448, 1.2448],\n",
            "        [0.7826, 0.8848, 0.8151]])\n"
          ]
        }
      ]
    },
    {
      "cell_type": "markdown",
      "metadata": {
        "id": "P2ykABP2ep62"
      },
      "source": [
        "Calling `x1 + x2` creates a new tensor containing the sum of the two inputs. However, we can also use in-place operations that are applied directly on the memory of a tensor. We therefore change the values of `x2` without the chance to re-accessing the values of `x2` before the operation. An example is shown below:"
      ]
    },
    {
      "cell_type": "code",
      "metadata": {
        "id": "dLnWYgR2ep63",
        "colab": {
          "base_uri": "https://localhost:8080/"
        },
        "outputId": "71950ae0-c6a8-4d60-8d17-0cc1259fd2c6"
      },
      "source": [
        "x1 = torch.rand(2, 3)\n",
        "x2 = torch.rand(2, 3)\n",
        "print(\"X1 (before)\", x1)\n",
        "print(\"X2 (before)\", x2)\n",
        "\n",
        "x2.add_(x1)\n",
        "print(\"X1 (after)\", x1)\n",
        "print(\"X2 (after)\", x2)"
      ],
      "execution_count": 653,
      "outputs": [
        {
          "output_type": "stream",
          "name": "stdout",
          "text": [
            "X1 (before) tensor([[0.5779, 0.9040, 0.5547],\n",
            "        [0.3423, 0.6343, 0.3644]])\n",
            "X2 (before) tensor([[0.7104, 0.9464, 0.7890],\n",
            "        [0.2814, 0.7886, 0.5895]])\n",
            "X1 (after) tensor([[0.5779, 0.9040, 0.5547],\n",
            "        [0.3423, 0.6343, 0.3644]])\n",
            "X2 (after) tensor([[1.2884, 1.8504, 1.3437],\n",
            "        [0.6237, 1.4230, 0.9539]])\n"
          ]
        }
      ]
    },
    {
      "cell_type": "markdown",
      "metadata": {
        "id": "TPxzsBwiep63"
      },
      "source": [
        "In-place operations are usually marked with a underscore postfix (e.g. \"add_\" instead of \"add\").\n",
        "\n",
        "Another common operation aims at changing the shape of a tensor. A tensor of size (2,3) can be re-organized to any other shape with the same number of elements (e.g. a tensor of size (6), or (3,2), ...). In PyTorch, this operation is called `view`:"
      ]
    },
    {
      "cell_type": "code",
      "metadata": {
        "id": "bk1gyfISep64",
        "colab": {
          "base_uri": "https://localhost:8080/"
        },
        "outputId": "26059bbb-f495-4e9a-deeb-a9987a8e54fd"
      },
      "source": [
        "## TODO: Create a tensor with the input values [0, .., 5] (i.e. a range to 6)\n",
        "x = torch.Tensor([0,1,2,3,4,5])\n",
        "print(\"X\", x)"
      ],
      "execution_count": 654,
      "outputs": [
        {
          "output_type": "stream",
          "name": "stdout",
          "text": [
            "X tensor([0., 1., 2., 3., 4., 5.])\n"
          ]
        }
      ]
    },
    {
      "cell_type": "code",
      "metadata": {
        "id": "RJNZL3dvep64",
        "colab": {
          "base_uri": "https://localhost:8080/"
        },
        "outputId": "b618cd3c-d441-4e8f-d6f4-d7f260fbf4e5"
      },
      "source": [
        "x = x.view(2, 3)\n",
        "print(\"X\", x)"
      ],
      "execution_count": 655,
      "outputs": [
        {
          "output_type": "stream",
          "name": "stdout",
          "text": [
            "X tensor([[0., 1., 2.],\n",
            "        [3., 4., 5.]])\n"
          ]
        }
      ]
    },
    {
      "cell_type": "code",
      "metadata": {
        "id": "TY6Ms7NBep65",
        "colab": {
          "base_uri": "https://localhost:8080/"
        },
        "outputId": "df3c49d6-d9c8-4068-84ea-e16c45ae8ac8"
      },
      "source": [
        "x = x.permute(1, 0) # Swapping dimension 0 and 1\n",
        "print(\"X\", x)"
      ],
      "execution_count": 656,
      "outputs": [
        {
          "output_type": "stream",
          "name": "stdout",
          "text": [
            "X tensor([[0., 3.],\n",
            "        [1., 4.],\n",
            "        [2., 5.]])\n"
          ]
        }
      ]
    },
    {
      "cell_type": "markdown",
      "metadata": {
        "id": "T0xoL31wep65"
      },
      "source": [
        "Other commonly used operations include matrix multiplications, which are essential for neural networks. Quite often, we have an input vector $\\mathbf{x}$, which is transformed using a learned weight matrix $\\mathbf{W}$. There are multiple ways and functions to perform matrix multiplication, some of which we list below:\n",
        "\n",
        "* `torch.matmul`: Performs the matrix product over two tensors, where the specific behavior depends on the dimensions. If both inputs are matrices (2-dimensional tensors), it performs the standard matrix product. For higher dimensional inputs, the function supports broadcasting (for details see the [documentation](https://pytorch.org/docs/stable/generated/torch.matmul.html?highlight=matmul#torch.matmul)). Can also be written as `a @ b`, similar to numpy. \n",
        "* `torch.mm`: Performs the matrix product over two matrices, but doesn't support broadcasting (see [documentation](https://pytorch.org/docs/stable/generated/torch.mm.html?highlight=torch%20mm#torch.mm))\n",
        "* `torch.bmm`: Performs the matrix product with a support batch dimension. If the first tensor $T$ is of shape ($b\\times n\\times m$), and the second tensor $R$ ($b\\times m\\times p$), the output $O$ is of shape ($b\\times n\\times p$), and has been calculated by performing $b$ matrix multiplications of the submatrices of $T$ and $R$: $O_i = T_i @ R_i$\n",
        "* `torch.einsum`: Performs matrix multiplications and more (i.e. sums of products) using the Einstein summation convention. Explanation of the Einstein sum can be found in assignment 1.\n",
        "\n",
        "Usually, we use `torch.matmul` or `torch.bmm`. We can try a matrix multiplication with `torch.matmul` below."
      ]
    },
    {
      "cell_type": "code",
      "metadata": {
        "id": "LEdg3TP2ep67",
        "colab": {
          "base_uri": "https://localhost:8080/"
        },
        "outputId": "e4b4afed-7a61-4e4c-b507-c20359ec43f5"
      },
      "source": [
        "x = torch.arange(6)\n",
        "x = x.view(2, 3)\n",
        "print(\"X\", x)"
      ],
      "execution_count": 657,
      "outputs": [
        {
          "output_type": "stream",
          "name": "stdout",
          "text": [
            "X tensor([[0, 1, 2],\n",
            "        [3, 4, 5]])\n"
          ]
        }
      ]
    },
    {
      "cell_type": "code",
      "metadata": {
        "id": "rNtocYReep67",
        "colab": {
          "base_uri": "https://localhost:8080/"
        },
        "outputId": "79a2d68b-af12-48e0-b3d3-7e87f4a394a7"
      },
      "source": [
        "W = torch.arange(9).view(3, 3) # We can also stack multiple operations in a single line\n",
        "print(\"W\", W)"
      ],
      "execution_count": 658,
      "outputs": [
        {
          "output_type": "stream",
          "name": "stdout",
          "text": [
            "W tensor([[0, 1, 2],\n",
            "        [3, 4, 5],\n",
            "        [6, 7, 8]])\n"
          ]
        }
      ]
    },
    {
      "cell_type": "code",
      "metadata": {
        "id": "WtXNom-Wep68",
        "colab": {
          "base_uri": "https://localhost:8080/"
        },
        "outputId": "189aa624-575c-42d3-c618-9b932afebd1c"
      },
      "source": [
        "## TODO: Perform a matrix multiplication between x and W\n",
        "h = torch.mm(x,W) \n",
        "print(\"h\", h)\n",
        "# Verify the result by calculating it by hand too!"
      ],
      "execution_count": 659,
      "outputs": [
        {
          "output_type": "stream",
          "name": "stdout",
          "text": [
            "h tensor([[15, 18, 21],\n",
            "        [42, 54, 66]])\n"
          ]
        }
      ]
    },
    {
      "cell_type": "markdown",
      "metadata": {
        "id": "HCtZaiGbep68"
      },
      "source": [
        "#### Indexing\n",
        "\n",
        "We often have the situation where we need to select a part of a tensor. Indexing works just like in numpy, so let's try it:"
      ]
    },
    {
      "cell_type": "code",
      "metadata": {
        "id": "raBbCfBXep69",
        "colab": {
          "base_uri": "https://localhost:8080/"
        },
        "outputId": "cd2857db-3eb3-4e01-c364-98d123c48e2f"
      },
      "source": [
        "x = torch.arange(12).view(3, 4)\n",
        "print(\"X\", x)"
      ],
      "execution_count": 660,
      "outputs": [
        {
          "output_type": "stream",
          "name": "stdout",
          "text": [
            "X tensor([[ 0,  1,  2,  3],\n",
            "        [ 4,  5,  6,  7],\n",
            "        [ 8,  9, 10, 11]])\n"
          ]
        }
      ]
    },
    {
      "cell_type": "code",
      "metadata": {
        "id": "Kpq2Bcqjep69",
        "colab": {
          "base_uri": "https://localhost:8080/"
        },
        "outputId": "f51de8ba-a6c4-497c-b118-7456e9fe98bc"
      },
      "source": [
        "## TODO: Print the second column of the tensor x\n",
        "print(\"X\",x[:,1]) "
      ],
      "execution_count": 661,
      "outputs": [
        {
          "output_type": "stream",
          "name": "stdout",
          "text": [
            "X tensor([1, 5, 9])\n"
          ]
        }
      ]
    },
    {
      "cell_type": "code",
      "metadata": {
        "id": "raqXSVhRep6-",
        "colab": {
          "base_uri": "https://localhost:8080/"
        },
        "outputId": "7ef602fe-102b-4f9c-b4f1-60dd6baf7752"
      },
      "source": [
        "## TODO: Print the first row of the tensor x\n",
        "print(\"X\",x[0,:])"
      ],
      "execution_count": 662,
      "outputs": [
        {
          "output_type": "stream",
          "name": "stdout",
          "text": [
            "X tensor([0, 1, 2, 3])\n"
          ]
        }
      ]
    },
    {
      "cell_type": "code",
      "metadata": {
        "id": "7RpSnTDRep6-",
        "colab": {
          "base_uri": "https://localhost:8080/"
        },
        "outputId": "14281494-a936-4e77-94da-91df723a4bda"
      },
      "source": [
        "## TODO: Print the elements of the tensor x that are both in first two rows and the last column \n",
        "print(\"X\",x[0:2,3])"
      ],
      "execution_count": 663,
      "outputs": [
        {
          "output_type": "stream",
          "name": "stdout",
          "text": [
            "X tensor([3, 7])\n"
          ]
        }
      ]
    },
    {
      "cell_type": "code",
      "metadata": {
        "id": "2Yma9L8Pep6_",
        "colab": {
          "base_uri": "https://localhost:8080/"
        },
        "outputId": "3af6d714-cb3a-435e-9ff9-f3e54e689d0a"
      },
      "source": [
        "## TODO: Print the middle two rows of tensor x\n",
        "print(...)"
      ],
      "execution_count": 664,
      "outputs": [
        {
          "output_type": "stream",
          "name": "stdout",
          "text": [
            "Ellipsis\n"
          ]
        }
      ]
    },
    {
      "cell_type": "markdown",
      "metadata": {
        "id": "Lh0plQZaep6_"
      },
      "source": [
        "### Dynamic Computation Graph and Backpropagation\n",
        "\n",
        "One of the main reasons for using PyTorch in Deep Learning projects is that we can automatically get **gradients/derivatives** of functions that we define. We will mainly use PyTorch for implementing neural networks, and they are just fancy functions. If we use weight matrices in our function that we want to learn, then those are called the **parameters** or simply the **weights**.\n",
        "\n",
        "If our neural network would output a single scalar value, we would talk about taking the **derivative**, but you will see that quite often we will have **multiple** output variables (\"values\"); in that case we talk about **gradients**. It's a more general term.\n",
        "\n",
        "Given an input $\\mathbf{x}$, we define our function by **manipulating** that input, usually by matrix-multiplications with weight matrices and additions with so-called bias vectors. As we manipulate our input, we are automatically creating a **computational graph**. This graph shows how to arrive at our output from our input. \n",
        "PyTorch is a **define-by-run** framework; this means that we can just do our manipulations, and PyTorch will keep track of that graph for us. Thus, we create a dynamic computation graph along the way.\n",
        "\n",
        "So, to recap: the only thing we have to do is to compute the **output**, and then we can ask PyTorch to automatically get the **gradients**. \n",
        "\n",
        "> **Note:  Why do we want gradients?** Consider that we have defined a function, a neural net, that is supposed to compute a certain output $y$ for an input vector $\\mathbf{x}$. We then define an **error measure** that tells us how wrong our network is; how bad it is in predicting output $y$ from input $\\mathbf{x}$. Based on this error measure, we can use the gradients to **update** the weights $\\mathbf{W}$ that were responsible for the output, so that the next time we present input $\\mathbf{x}$ to our network, the output will be closer to what we want.\n",
        "\n",
        "The first thing we have to do is to specify which tensors require gradients. By default, when we create a tensor, it does not require gradients."
      ]
    },
    {
      "cell_type": "code",
      "metadata": {
        "id": "yh0l3tyQep7A",
        "colab": {
          "base_uri": "https://localhost:8080/"
        },
        "outputId": "e924731a-f163-4d94-ac9d-64a57b7bff90"
      },
      "source": [
        "x = torch.ones((3,))\n",
        "print(x.requires_grad)"
      ],
      "execution_count": 665,
      "outputs": [
        {
          "output_type": "stream",
          "name": "stdout",
          "text": [
            "False\n"
          ]
        }
      ]
    },
    {
      "cell_type": "markdown",
      "metadata": {
        "id": "vsABb6Hdep7B"
      },
      "source": [
        "We can change this for an existing tensor using the function `requires_grad_()` (underscore indicating that this is a in-place operation). Alternatively, when creating a tensor, you can pass the argument `requires_grad=True` to most initializers we have seen above."
      ]
    },
    {
      "cell_type": "code",
      "metadata": {
        "id": "F9zewccWep7C",
        "colab": {
          "base_uri": "https://localhost:8080/"
        },
        "outputId": "2f638937-973c-4385-9cf5-74a0753a4795"
      },
      "source": [
        "x.requires_grad_(True)\n",
        "print(x.requires_grad)"
      ],
      "execution_count": 666,
      "outputs": [
        {
          "output_type": "stream",
          "name": "stdout",
          "text": [
            "True\n"
          ]
        }
      ]
    },
    {
      "cell_type": "markdown",
      "metadata": {
        "id": "g2CzaIbdep7C"
      },
      "source": [
        "In order to get familiar with the concept of a computation graph, we will create one for the following function:\n",
        "\n",
        "$$y = \\frac{1}{|x|}\\sum_i \\left[(x_i + 2)^2 + 3\\right]$$\n",
        "\n",
        "You could imagine that $x$ are our parameters, and we want to optimize (either maximize or minimize) the output $y$. For this, we want to obtain the gradients $\\partial y / \\partial \\mathbf{x}$. For our example, we'll use $\\mathbf{x}=[0,1,2]$ as our input."
      ]
    },
    {
      "cell_type": "code",
      "metadata": {
        "id": "VpRe6pQqep7C",
        "colab": {
          "base_uri": "https://localhost:8080/"
        },
        "outputId": "9a6aa7a1-5899-41b4-cc32-1b960618a552"
      },
      "source": [
        "## TODO: Create a tensor with values [0.0, 1.0, 2.0] which is requires gradients\n",
        "# Note that only float tensors can have gradients\n",
        "x = torch.FloatTensor([0.0,1.0,2.0])\n",
        "x.requires_grad_(True)\n",
        "print(\"X\", x)"
      ],
      "execution_count": 667,
      "outputs": [
        {
          "output_type": "stream",
          "name": "stdout",
          "text": [
            "X tensor([0., 1., 2.], requires_grad=True)\n"
          ]
        }
      ]
    },
    {
      "cell_type": "markdown",
      "metadata": {
        "id": "va0H-rl1ep7C"
      },
      "source": [
        "Now let's build the computation graph step by step. You can combine multiple operations in a single line, but we will separate them here to get a better understanding of how each operation is added to the computation graph."
      ]
    },
    {
      "cell_type": "code",
      "metadata": {
        "id": "mr3QOvGfep7D",
        "colab": {
          "base_uri": "https://localhost:8080/"
        },
        "outputId": "a878ff8e-5af7-4fcb-9f76-251b05dc045b"
      },
      "source": [
        "## TODO: Implement the function above in four steps, each representing one single operation (add -> a, square -> b, add -> c, mean -> y)\n",
        "a = torch.add(x,2)\n",
        "print(\"A\",a)\n",
        "b = torch.multiply(a,a)\n",
        "print(\"B\",b)\n",
        "c = torch.add(b,b)\n",
        "print(\"C\",c)\n",
        "y = torch.mean(c)\n",
        "print(\"Y\", y)"
      ],
      "execution_count": 668,
      "outputs": [
        {
          "output_type": "stream",
          "name": "stdout",
          "text": [
            "A tensor([2., 3., 4.], grad_fn=<AddBackward0>)\n",
            "B tensor([ 4.,  9., 16.], grad_fn=<MulBackward0>)\n",
            "C tensor([ 8., 18., 32.], grad_fn=<AddBackward0>)\n",
            "Y tensor(19.3333, grad_fn=<MeanBackward0>)\n"
          ]
        }
      ]
    },
    {
      "cell_type": "markdown",
      "metadata": {
        "id": "CJrdC_WLep7E"
      },
      "source": [
        "Using the statements above, we have created a computation graph.\n",
        "\n",
        "We calculate $a$ based on the inputs $x$ and the constant $2$, $b$ is $a$ squared, and so on.\n",
        "Each node of the computation graph has automatically defined a function for calculating the gradients with respect to its inputs, `grad_fn`. You can see this when we printed the output tensor $y$. This is why the computation graph is usually visualized in the reverse direction (arrows point from the result to the inputs). We can perform backpropagation on the computation graph by calling the function `backward()` on the last output, which effectively calculates the gradients for each tensor that has the property `requires_grad=True`:"
      ]
    },
    {
      "cell_type": "code",
      "metadata": {
        "id": "OCn51Q5eep7E"
      },
      "source": [
        "y.backward()"
      ],
      "execution_count": 669,
      "outputs": []
    },
    {
      "cell_type": "markdown",
      "metadata": {
        "id": "vHRkUw2Gep7E"
      },
      "source": [
        "`x.grad` will now contain the gradient $\\partial y/ \\partial \\mathcal{x}$, and this gradient indicates how a change in $\\mathbf{x}$ will affect output $y$ given the current input $\\mathbf{x}=[0,1,2]$:"
      ]
    },
    {
      "cell_type": "code",
      "metadata": {
        "id": "YtmjeUaiep7F",
        "colab": {
          "base_uri": "https://localhost:8080/"
        },
        "outputId": "536bd1e5-4ed2-4829-bc46-cd471431e0a3"
      },
      "source": [
        "print(x.grad)"
      ],
      "execution_count": 670,
      "outputs": [
        {
          "output_type": "stream",
          "name": "stdout",
          "text": [
            "tensor([2.6667, 4.0000, 5.3333])\n"
          ]
        }
      ]
    },
    {
      "cell_type": "markdown",
      "metadata": {
        "id": "nmFGdoZcep7F"
      },
      "source": [
        "We can also verify these gradients by hand. We will calculate the gradients using the chain rule, in the same way as PyTorch did it:\n",
        "\n",
        "$$\\frac{\\partial y}{\\partial x_i} = \\frac{\\partial y}{\\partial c_i}\\frac{\\partial c_i}{\\partial b_i}\\frac{\\partial b_i}{\\partial a_i}\\frac{\\partial a_i}{\\partial x_i}$$\n",
        "\n",
        "Note that we have simplified this equation to index notation, and by using the fact that all operation besides the mean do not combine the elements in the tensor. The partial derivatives are:\n",
        "\n",
        "$$\\frac{\\partial a_i}{\\partial x_i} = 1,\\hspace{1cm}\n",
        "\\frac{\\partial b_i}{\\partial a_i} = 2\\cdot a_i,\\hspace{1cm}\n",
        "\\frac{\\partial c_i}{\\partial b_i} = 1,\\hspace{1cm}\n",
        "\\frac{\\partial y}{\\partial c_i} = \\frac{1}{3}$$\n",
        "\n",
        "Hence, with the input being $\\mathbf{x}=[0,1,2]$, our gradients are $\\partial y/\\partial \\mathbf{x}=[4/3,2,8/3]$. The previous code cell should have printed the same result."
      ]
    },
    {
      "cell_type": "markdown",
      "metadata": {
        "id": "MUryuWOVep7G"
      },
      "source": [
        "### GPU support\n",
        "\n",
        "A crucial feature of PyTorch is the support of GPUs, short for Graphics Processing Unit. A GPU can perform many thousands of small operations in parallel, making it very well suitable for performing large matrix operations in neural networks. When comparing GPUs to CPUs, we can list the following main differences (credit: [Kevin Krewell, 2009](https://blogs.nvidia.com/blog/2009/12/16/whats-the-difference-between-a-cpu-and-a-gpu/)) \n",
        "\n",
        "<center style=\"width: 100%\">\n",
        "<table>\n",
        "<tr>\n",
        "    <th>CPU</th>\n",
        "    <th>GPU</th>\n",
        "</tr>\n",
        "<tr>\n",
        "    <td>Central Processing Unit</td>\n",
        "    <td>Graphics Processing Unit</td>\n",
        "</tr>\n",
        "<tr>\n",
        "    <td>Several cores</td>\n",
        "    <td>Many cores</td>\n",
        "</tr>\n",
        "<tr>\n",
        "    <td>Low latency</td>\n",
        "    <td>High throughput</td>\n",
        "</tr>\n",
        "<tr>\n",
        "    <td>Good for serial processing</td>\n",
        "    <td>Good for parallel processing</td>\n",
        "</tr>\n",
        "<tr>\n",
        "    <td>Can do a handful of operations at once</td>\n",
        "    <td>Can do thousands of operations at once</td>\n",
        "</tr>\n",
        "</table>\n",
        "</center>\n",
        "\n",
        "CPUs and GPUs have both different advantages and disadvantages, which is why many computers contain both components and use them for different tasks. In case you are not familiar with GPUs, you can read up more details in this [NVIDIA blog post](https://blogs.nvidia.com/blog/2009/12/16/whats-the-difference-between-a-cpu-and-a-gpu/) or [here](https://www.intel.com/content/www/us/en/products/docs/processors/what-is-a-gpu.html). \n",
        "\n",
        "GPUs can accelerate the training of your network up to a factor of $100$ which is essential for large neural networks. PyTorch implements a lot of functionality for supporting GPUs (mostly those of NVIDIA due to the libraries [CUDA](https://developer.nvidia.com/cuda-zone) and [cuDNN](https://developer.nvidia.com/cudnn)). First, let's check whether you have a GPU available:"
      ]
    },
    {
      "cell_type": "code",
      "metadata": {
        "id": "iItMTVDrep7G",
        "colab": {
          "base_uri": "https://localhost:8080/"
        },
        "outputId": "996dc595-7a08-4770-ce01-994626a2d6ee"
      },
      "source": [
        "gpu_avail = torch.cuda.is_available()\n",
        "print(f\"Is the GPU available? {gpu_avail}\")"
      ],
      "execution_count": 671,
      "outputs": [
        {
          "output_type": "stream",
          "name": "stdout",
          "text": [
            "Is the GPU available? True\n"
          ]
        }
      ]
    },
    {
      "cell_type": "markdown",
      "metadata": {
        "id": "gYp1ZyaAep7H"
      },
      "source": [
        "If you have a GPU on your computer but the command above returns False, make sure you have the correct CUDA-version installed. On Google Colab, make sure that you have selected a GPU in your runtime setup (in the menu, check under `Runtime -> Change runtime type`). \n",
        "\n",
        "By default, all tensors you create are stored on the CPU. We can push a tensor to the GPU by using the function `.to(...)`, or `.cuda()`. However, it is often a good practice to define a `device` object in your code which points to the GPU if you have one, and otherwise to the CPU. Then, you can write your code with respect to this device object, and it allows you to run the same code on both a CPU-only system, and one with a GPU. Let's try it below. We can specify the device as follows: "
      ]
    },
    {
      "cell_type": "code",
      "metadata": {
        "id": "PsmLsBYEep7H",
        "colab": {
          "base_uri": "https://localhost:8080/"
        },
        "outputId": "a312d696-4b0c-45f4-d353-214f3e58af96"
      },
      "source": [
        "device = torch.device(\"cuda\") if torch.cuda.is_available() else torch.device(\"cpu\")\n",
        "print(f\"Device {device}\")"
      ],
      "execution_count": 672,
      "outputs": [
        {
          "output_type": "stream",
          "name": "stdout",
          "text": [
            "Device cuda\n"
          ]
        }
      ]
    },
    {
      "cell_type": "markdown",
      "metadata": {
        "id": "--l6cu36ep7I"
      },
      "source": [
        "Now let's create a tensor and push it to the device:"
      ]
    },
    {
      "cell_type": "code",
      "metadata": {
        "id": "CjCeUxO3ep7J",
        "colab": {
          "base_uri": "https://localhost:8080/"
        },
        "outputId": "e8a344cc-5b62-4f05-a74c-9acd2b524db4"
      },
      "source": [
        "x = torch.zeros(2, 3)\n",
        "\n",
        "## TODO: Push the tensor to \"device\"\n",
        "x = x.to(device)\n",
        "print(\"X\", x)"
      ],
      "execution_count": 673,
      "outputs": [
        {
          "output_type": "stream",
          "name": "stdout",
          "text": [
            "X tensor([[0., 0., 0.],\n",
            "        [0., 0., 0.]], device='cuda:0')\n"
          ]
        }
      ]
    },
    {
      "cell_type": "markdown",
      "metadata": {
        "id": "BAMAXLszep7J"
      },
      "source": [
        "In case you have a GPU, you should now see the attribute `device='cuda:0'` being printed next to your tensor. The zero next to cuda indicates that this is the zero-th GPU device on your computer. PyTorch also supports multi-GPU systems, but this you will only need once you have very big networks to train (if interested, see the [PyTorch documentation](https://pytorch.org/docs/stable/distributed.html#distributed-basics)). We can also compare the runtime of a large matrix multiplication on the CPU with a operation on the GPU:"
      ]
    },
    {
      "cell_type": "code",
      "metadata": {
        "id": "JY9EFuoFep7K",
        "colab": {
          "base_uri": "https://localhost:8080/"
        },
        "outputId": "7ec406be-4700-4b7e-a0c6-46e7493daeb9"
      },
      "source": [
        "x = torch.randn(5000, 5000)\n",
        "\n",
        "## CPU version\n",
        "start_time = time.time()\n",
        "_ = torch.matmul(x, x)\n",
        "end_time = time.time()\n",
        "print(\"CPU time: %6.5fs\" % (end_time - start_time))\n",
        "\n",
        "## GPU version\n",
        "x = x.to(device)\n",
        "# The first operation on a CUDA device can be slow as it has to establish a CPU-GPU communication first. \n",
        "# Hence, we run an arbitrary command first without timing it for a fair comparison.\n",
        "if torch.cuda.is_available():\n",
        "    _ = torch.matmul(x*0.0, x)\n",
        "start_time = time.time()\n",
        "_ = torch.matmul(x, x)\n",
        "end_time = time.time()\n",
        "print(\"GPU time: %6.5fs\" % (end_time - start_time))"
      ],
      "execution_count": 674,
      "outputs": [
        {
          "output_type": "stream",
          "name": "stdout",
          "text": [
            "CPU time: 3.02947s\n",
            "GPU time: 0.00020s\n"
          ]
        }
      ]
    },
    {
      "cell_type": "markdown",
      "metadata": {
        "id": "GVjiPOpoep7K"
      },
      "source": [
        "Depending on the size of the operation and the CPU/GPU in your system, the speedup of this operation can be >500x. As `matmul` operations are very common in neural networks, we can already see the great benefit of training a NN on a GPU. The time estimate can be relatively noisy here because we haven't run it for multiple times. Feel free to extend this, but it also takes longer to run.\n",
        "\n",
        "When generating random numbers, the seed between CPU and GPU is not synchronized. Hence, we need to set the seed on the GPU separately to ensure a reproducible code. Note that due to different GPU architectures, running the same code on different GPUs does not guarantee the same random numbers. Still, we don't want that our code gives us a different output every time we run it on the exact same hardware. Hence, we also set the seed on the GPU:"
      ]
    },
    {
      "cell_type": "code",
      "metadata": {
        "id": "AiggRQbAep7L"
      },
      "source": [
        "# GPU operations have a separate seed we also want to set\n",
        "if torch.cuda.is_available(): \n",
        "    torch.cuda.manual_seed(42)\n",
        "    torch.cuda.manual_seed_all(42)\n",
        "    \n",
        "# Additionally, some operations on a GPU are implemented stochastic for efficiency\n",
        "# We want to ensure that all operations are deterministic on GPU (if used) for reproducibility\n",
        "torch.backends.cudnn.determinstic = True\n",
        "torch.backends.cudnn.benchmark = False"
      ],
      "execution_count": 675,
      "outputs": []
    },
    {
      "cell_type": "markdown",
      "metadata": {
        "id": "ju4ZYi-mep7M"
      },
      "source": [
        "## Learning by example: Continuous XOR\n",
        "\n",
        "If we want to build a neural network in PyTorch, we could specify all our parameters (weight matrices, bias vectors) using `Tensors` (with `requires_grad=True`), ask PyTorch to calculate the gradients and then adjust the parameters. But things can quickly get cumbersome if we have a lot of parameters. In PyTorch, there is a package called `torch.nn` that makes building neural networks more convenient. \n",
        "\n",
        "We will introduce the libraries and all additional parts you might need to train a neural network in PyTorch, using a simple example classifier on a simple yet well known example: XOR. Given two binary inputs $x_1$ and $x_2$, the label to predict is $1$ if either $x_1$ or $x_2$ is $1$ while the other is $0$, or the label is $0$ in all other cases. The example became famous by the fact that a single neuron, i.e. a linear classifier, cannot learn this simple function.\n",
        "Hence, we will learn how to build a small neural network that can learn this function. \n",
        "To make it a little more interesting, we move the XOR into continuous space and introduce some gaussian noise on the binary inputs."
      ]
    },
    {
      "cell_type": "markdown",
      "metadata": {
        "id": "TdLRJ8Iqep7M"
      },
      "source": [
        "### The model\n",
        "\n",
        "The package `torch.nn` defines a series of useful classes like linear networks layers, activation functions, loss functions etc. A full list can be found [here](https://pytorch.org/docs/stable/nn.html). In case you need a certain network layer, check the documentation of the package first before writing the layer yourself as the package likely contains the code for it already. We import it below:"
      ]
    },
    {
      "cell_type": "code",
      "metadata": {
        "id": "d8CWCQVXep7M"
      },
      "source": [
        "import torch.nn as nn"
      ],
      "execution_count": 676,
      "outputs": []
    },
    {
      "cell_type": "markdown",
      "metadata": {
        "id": "o224RZvcep7N"
      },
      "source": [
        "Additionally to `torch.nn`, there is also `torch.nn.functional`. It contains functions that are used in network layers. This is in contrast to `torch.nn` which defines them as `nn.Modules` (more on it below), and `torch.nn` actually uses a lot of functionalities from `torch.nn.functional`. Hence, the functional package is useful in many situations, and so we import it as well here."
      ]
    },
    {
      "cell_type": "code",
      "metadata": {
        "id": "CqoTd-Jjep7N"
      },
      "source": [
        "import torch.nn.functional as F"
      ],
      "execution_count": 677,
      "outputs": []
    },
    {
      "cell_type": "markdown",
      "metadata": {
        "id": "JpUkM0x6ep7O"
      },
      "source": [
        "#### nn.Module\n",
        "\n",
        "In PyTorch, a neural network is build up out of modules. Modules can contain other modules, and a neural network is considered to be a module itself as well. The basic template of a module is as follows:"
      ]
    },
    {
      "cell_type": "code",
      "metadata": {
        "id": "CqsV2kPaep7O"
      },
      "source": [
        "class MyModule(nn.Module):\n",
        "    \n",
        "    def __init__(self):\n",
        "        super().__init__()\n",
        "        # Some init for my module\n",
        "        \n",
        "    def forward(self, x):\n",
        "        # Function for performing the calculation of the module.\n",
        "        pass"
      ],
      "execution_count": 678,
      "outputs": []
    },
    {
      "cell_type": "markdown",
      "metadata": {
        "id": "LQ-vFCzcep7O"
      },
      "source": [
        "The forward function is where the computation of the module is taken place, and is executed when you call the module (`nn = MyModule(); nn(x)`). In the init function, we usually create the parameters of the module, using `nn.Parameter`, or defining other modules that are used in the forward function. The backward calculation is done automatically, but could be overwritten as well if wanted.\n",
        "\n",
        "#### Simple classifier\n",
        "We can now make use of the pre-defined modules in the `torch.nn` package, and define our own small neural network. We will use a minimal network with an input layer, one hidden layer with tanh as activation function, and an output layer. In other words, our network is defined by:\n",
        "\n",
        "$$y = w_2 \\sigma\\left(w_1 x + b \\right) + b_2$$\n",
        "\n",
        "The input neurons are shown in blue, which represent the coordinates $x_1$ and $x_2$ of a data point. The hidden neurons including a tanh activation are shown in white, and the output neuron in red.\n",
        "In PyTorch, we can define this as follows:"
      ]
    },
    {
      "cell_type": "code",
      "metadata": {
        "id": "Zqvf58I3ep7P"
      },
      "source": [
        "class SimpleClassifier(nn.Module):\n",
        "    \n",
        "    def __init__(self, num_inputs, num_hidden, num_outputs):\n",
        "        super().__init__()\n",
        "        # Initialize the modules we need to build the network\n",
        "        ## TODO: Implement the linear layers using nn.Linear(input_neurons, output_neurons)\n",
        "        self.linear1 = nn.Linear(num_inputs,num_outputs)\n",
        "        self.linear2 = nn.Linear(num_outputs,num_inputs)\n",
        "        ## TODO: Implement the activation function using nn.Tanh\n",
        "        self.act_fn = nn.Tanh()\n",
        "        \n",
        "        \n",
        "    def forward(self, x):\n",
        "        # Perform the calculation of the model to determine the prediction\n",
        "        ## TODO: Execute the NN modules in sequence to build the neural network computation graph\n",
        "        x = self.linear1(x)\n",
        "        x = self.linear2(x)\n",
        "        x = self.act_fn(x)\n",
        "        return x"
      ],
      "execution_count": 679,
      "outputs": []
    },
    {
      "cell_type": "markdown",
      "metadata": {
        "id": "g0cdAtcKep7P"
      },
      "source": [
        "For the examples in this notebook, we will use a tiny neural network with two input neurons and four hidden neurons. As we perform binary classification, we will use a single output neuron. Note that we do not apply a sigmoid on the output yet. This is because other functions, especially the loss, are more efficient and precise to calculate on the original outputs instead of the sigmoid output. We will discuss the detailed reason later."
      ]
    },
    {
      "cell_type": "code",
      "metadata": {
        "id": "zR6bKuU_ep7Q",
        "colab": {
          "base_uri": "https://localhost:8080/"
        },
        "outputId": "a1864734-f5bb-4103-ad47-76da035ec4af"
      },
      "source": [
        "model = SimpleClassifier(num_inputs=2, num_hidden=4, num_outputs=1)\n",
        "# Printing a module shows all its submodules\n",
        "print(model)"
      ],
      "execution_count": 680,
      "outputs": [
        {
          "output_type": "stream",
          "name": "stdout",
          "text": [
            "SimpleClassifier(\n",
            "  (linear1): Linear(in_features=2, out_features=1, bias=True)\n",
            "  (linear2): Linear(in_features=1, out_features=2, bias=True)\n",
            "  (act_fn): Tanh()\n",
            ")\n"
          ]
        }
      ]
    },
    {
      "cell_type": "markdown",
      "metadata": {
        "id": "V9zFx5Bpep7Q"
      },
      "source": [
        "Printing the model lists all submodules it contains. The parameters of a module can be obtained by using its `parameters()` functions, or `named_parameters()` to get a name to each parameter object. For our small neural network, we have the following parameters:"
      ]
    },
    {
      "cell_type": "code",
      "metadata": {
        "id": "1whiQ1oKep7Q",
        "colab": {
          "base_uri": "https://localhost:8080/"
        },
        "outputId": "f89197fc-ac1c-4714-c6be-960c336a7600"
      },
      "source": [
        "for name, param in model.named_parameters():\n",
        "    print(\"Parameter %s, shape %s\" % (name, str(param.shape)))"
      ],
      "execution_count": 681,
      "outputs": [
        {
          "output_type": "stream",
          "name": "stdout",
          "text": [
            "Parameter linear1.weight, shape torch.Size([1, 2])\n",
            "Parameter linear1.bias, shape torch.Size([1])\n",
            "Parameter linear2.weight, shape torch.Size([2, 1])\n",
            "Parameter linear2.bias, shape torch.Size([2])\n"
          ]
        }
      ]
    },
    {
      "cell_type": "markdown",
      "metadata": {
        "id": "jIXuloayep7R"
      },
      "source": [
        "Each linear layer has a weight matrix of the shape `[output, input]`, and a bias of the shape `[output]`. The tanh activation function does not have any parameters. Note that parameters are only registered for `nn.Module` objects that are direct object attributes, i.e. `self.a = ...`. If you define a list of modules, the parameters of those are not registered for the outer module and can cause some issues when you try to optimize your module. There are alternatives, like `nn.ModuleList`, `nn.ModuleDict` and `nn.Sequential`, that allow you to have different data structures of modules. We will use them in a few later tutorials and explain them there. "
      ]
    },
    {
      "cell_type": "markdown",
      "metadata": {
        "id": "dvCiAJc5ep7R"
      },
      "source": [
        "### The data\n",
        "\n",
        "PyTorch also provides a few functionalities to load the training and test data efficiently, summarized in the package `torch.utils.data`."
      ]
    },
    {
      "cell_type": "code",
      "metadata": {
        "id": "z6uw0G7Aep7S"
      },
      "source": [
        "import torch.utils.data as data"
      ],
      "execution_count": 682,
      "outputs": []
    },
    {
      "cell_type": "markdown",
      "metadata": {
        "id": "Tk_bQhcNep7S"
      },
      "source": [
        "The data package defines two classes which are the standard interface for handling data in PyTorch: `data.Dataset`, and `data.DataLoader`. The dataset class provides an uniform interface to access the training/test data, while the data loader makes sure to efficiently load and stack the data points from the dataset into batches during training."
      ]
    },
    {
      "cell_type": "markdown",
      "metadata": {
        "id": "2JZlq4saep7T"
      },
      "source": [
        "#### The dataset class\n",
        "\n",
        "The dataset class summarizes the basic functionality of a dataset in a natural way. To define a dataset in PyTorch, we simply specify two functions: `__getitem__`, and `__len__`. The get-item function has to return the $i$-th data point in the dataset, while the len function returns the size of the dataset. For the XOR dataset, we can define the dataset class as follows:"
      ]
    },
    {
      "cell_type": "code",
      "metadata": {
        "id": "agjQwBd1ep7T"
      },
      "source": [
        "class XORDataset(data.Dataset):\n",
        "    \n",
        "    def __init__(self, size, std=0.1):\n",
        "        \"\"\"\n",
        "        Inputs:\n",
        "            size - Number of data points we want to generate\n",
        "            std - Standard deviation of the noise (see generate_continuous_xor function)\n",
        "        \"\"\"\n",
        "        super().__init__()\n",
        "        self.size = size\n",
        "        self.std = std\n",
        "        self.generate_continuous_xor()\n",
        "        \n",
        "    \n",
        "    def generate_continuous_xor(self):\n",
        "        # Each data point in the XOR dataset has two variables, x and y, that can be either 0 or 1\n",
        "        # The label is their XOR combination, i.e. 1 if only x or only y is 1 while the other is 0.\n",
        "        # If x=y, the label is 0.\n",
        "        data = torch.randint(low=0, high=2, size=(self.size, 2), dtype=torch.float32)\n",
        "        label = (data.sum(dim=1) == 1).to(torch.long)\n",
        "        # To make it slightly more challenging, we add a bit of gaussian noise to the data points.\n",
        "        data += self.std * torch.randn(data.shape)\n",
        "        \n",
        "        self.data = data\n",
        "        self.label = label\n",
        "        \n",
        "    \n",
        "    def __len__(self):\n",
        "        ## TODO: Return the number of data points the data has\n",
        "        return len(self.data)\n",
        "    \n",
        "    \n",
        "    def __getitem__(self, idx):\n",
        "        ## TODO: Return the idx-th data point and label of the dataset\n",
        "        data_point = self.data[idx]\n",
        "        data_label = self.label[idx]\n",
        "        return data_point, data_label"
      ],
      "execution_count": 683,
      "outputs": []
    },
    {
      "cell_type": "markdown",
      "metadata": {
        "id": "qI0kqmggep7T"
      },
      "source": [
        "Let's try to create such a dataset and inspect it:"
      ]
    },
    {
      "cell_type": "code",
      "metadata": {
        "id": "Nr9Y6AO9ep7T",
        "colab": {
          "base_uri": "https://localhost:8080/"
        },
        "outputId": "83760673-aae2-44f7-e537-8e8efb1c88b0"
      },
      "source": [
        "dataset = XORDataset(size=200)\n",
        "print(\"Size of dataset:\", len(dataset))\n",
        "print(\"Data point 0:\", dataset[0])"
      ],
      "execution_count": 684,
      "outputs": [
        {
          "output_type": "stream",
          "name": "stdout",
          "text": [
            "Size of dataset: 200\n",
            "Data point 0: (tensor([ 1.0489, -0.1283]), tensor(1))\n"
          ]
        }
      ]
    },
    {
      "cell_type": "markdown",
      "metadata": {
        "id": "xOgRTwRuep7U"
      },
      "source": [
        "To better relate to the dataset, we visualize the samples below. "
      ]
    },
    {
      "cell_type": "code",
      "metadata": {
        "id": "TSomGtECep7U"
      },
      "source": [
        "def visualize_samples(data, label):\n",
        "    if isinstance(data, torch.Tensor):\n",
        "        data = data.cpu().numpy()\n",
        "    if isinstance(label, torch.Tensor):\n",
        "        label = label.cpu().numpy()\n",
        "    data_0 = data[label == 0]\n",
        "    data_1 = data[label == 1]\n",
        "    \n",
        "    plt.figure(figsize=(4,4))\n",
        "    plt.scatter(data_0[:,0], data_0[:,1], edgecolor=\"#333\", label=\"Class 0\")\n",
        "    plt.scatter(data_1[:,0], data_1[:,1], edgecolor=\"#333\", label=\"Class 1\")\n",
        "    plt.title(\"Dataset samples\")\n",
        "    plt.ylabel(r\"$x_2$\")\n",
        "    plt.xlabel(r\"$x_1$\")\n",
        "    plt.legend()"
      ],
      "execution_count": 685,
      "outputs": []
    },
    {
      "cell_type": "code",
      "metadata": {
        "id": "1d-EH4V-ep7V",
        "colab": {
          "base_uri": "https://localhost:8080/",
          "height": 398
        },
        "outputId": "4c318e0f-ecb3-407a-be7f-4b8563374c74"
      },
      "source": [
        "visualize_samples(dataset.data, dataset.label)\n",
        "plt.show()"
      ],
      "execution_count": 686,
      "outputs": [
        {
          "output_type": "display_data",
          "data": {
            "text/plain": [
              "<Figure size 288x288 with 1 Axes>"
            ],
            "image/svg+xml": "<?xml version=\"1.0\" encoding=\"utf-8\" standalone=\"no\"?>\n<!DOCTYPE svg PUBLIC \"-//W3C//DTD SVG 1.1//EN\"\n  \"http://www.w3.org/Graphics/SVG/1.1/DTD/svg11.dtd\">\n<!-- Created with matplotlib (https://matplotlib.org/) -->\n<svg height=\"282.717813pt\" version=\"1.1\" viewBox=\"0 0 289.424844 282.717813\" width=\"289.424844pt\" xmlns=\"http://www.w3.org/2000/svg\" xmlns:xlink=\"http://www.w3.org/1999/xlink\">\n <defs>\n  <style type=\"text/css\">\n*{stroke-linecap:butt;stroke-linejoin:round;}\n  </style>\n </defs>\n <g id=\"figure_1\">\n  <g id=\"patch_1\">\n   <path d=\"M 0 282.717813 \nL 289.424844 282.717813 \nL 289.424844 0 \nL 0 0 \nz\n\" style=\"fill:#ffffff;\"/>\n  </g>\n  <g id=\"axes_1\">\n   <g id=\"patch_2\">\n    <path d=\"M 59.024844 239.758125 \nL 282.224844 239.758125 \nL 282.224844 22.318125 \nL 59.024844 22.318125 \nz\n\" style=\"fill:#eaeaf2;\"/>\n   </g>\n   <g id=\"matplotlib.axis_1\">\n    <g id=\"xtick_1\">\n     <g id=\"line2d_1\">\n      <path clip-path=\"url(#p65b1cf50c4)\" d=\"M 107.672488 239.758125 \nL 107.672488 22.318125 \n\" style=\"fill:none;stroke:#ffffff;stroke-linecap:round;\"/>\n     </g>\n     <g id=\"text_1\">\n      <!-- 0.0 -->\n      <defs>\n       <path d=\"M 31.78125 66.40625 \nQ 24.171875 66.40625 20.328125 58.90625 \nQ 16.5 51.421875 16.5 36.375 \nQ 16.5 21.390625 20.328125 13.890625 \nQ 24.171875 6.390625 31.78125 6.390625 \nQ 39.453125 6.390625 43.28125 13.890625 \nQ 47.125 21.390625 47.125 36.375 \nQ 47.125 51.421875 43.28125 58.90625 \nQ 39.453125 66.40625 31.78125 66.40625 \nz\nM 31.78125 74.21875 \nQ 44.046875 74.21875 50.515625 64.515625 \nQ 56.984375 54.828125 56.984375 36.375 \nQ 56.984375 17.96875 50.515625 8.265625 \nQ 44.046875 -1.421875 31.78125 -1.421875 \nQ 19.53125 -1.421875 13.0625 8.265625 \nQ 6.59375 17.96875 6.59375 36.375 \nQ 6.59375 54.828125 13.0625 64.515625 \nQ 19.53125 74.21875 31.78125 74.21875 \nz\n\" id=\"DejaVuSans-48\"/>\n       <path d=\"M 10.6875 12.40625 \nL 21 12.40625 \nL 21 0 \nL 10.6875 0 \nz\n\" id=\"DejaVuSans-46\"/>\n      </defs>\n      <g style=\"fill:#262626;\" transform=\"translate(98.92577 257.616406)scale(0.11 -0.11)\">\n       <use xlink:href=\"#DejaVuSans-48\"/>\n       <use x=\"63.623047\" xlink:href=\"#DejaVuSans-46\"/>\n       <use x=\"95.410156\" xlink:href=\"#DejaVuSans-48\"/>\n      </g>\n     </g>\n    </g>\n    <g id=\"xtick_2\">\n     <g id=\"line2d_2\">\n      <path clip-path=\"url(#p65b1cf50c4)\" d=\"M 176.400861 239.758125 \nL 176.400861 22.318125 \n\" style=\"fill:none;stroke:#ffffff;stroke-linecap:round;\"/>\n     </g>\n     <g id=\"text_2\">\n      <!-- 0.5 -->\n      <defs>\n       <path d=\"M 10.796875 72.90625 \nL 49.515625 72.90625 \nL 49.515625 64.59375 \nL 19.828125 64.59375 \nL 19.828125 46.734375 \nQ 21.96875 47.46875 24.109375 47.828125 \nQ 26.265625 48.1875 28.421875 48.1875 \nQ 40.625 48.1875 47.75 41.5 \nQ 54.890625 34.8125 54.890625 23.390625 \nQ 54.890625 11.625 47.5625 5.09375 \nQ 40.234375 -1.421875 26.90625 -1.421875 \nQ 22.3125 -1.421875 17.546875 -0.640625 \nQ 12.796875 0.140625 7.71875 1.703125 \nL 7.71875 11.625 \nQ 12.109375 9.234375 16.796875 8.0625 \nQ 21.484375 6.890625 26.703125 6.890625 \nQ 35.15625 6.890625 40.078125 11.328125 \nQ 45.015625 15.765625 45.015625 23.390625 \nQ 45.015625 31 40.078125 35.4375 \nQ 35.15625 39.890625 26.703125 39.890625 \nQ 22.75 39.890625 18.8125 39.015625 \nQ 14.890625 38.140625 10.796875 36.28125 \nz\n\" id=\"DejaVuSans-53\"/>\n      </defs>\n      <g style=\"fill:#262626;\" transform=\"translate(167.654143 257.616406)scale(0.11 -0.11)\">\n       <use xlink:href=\"#DejaVuSans-48\"/>\n       <use x=\"63.623047\" xlink:href=\"#DejaVuSans-46\"/>\n       <use x=\"95.410156\" xlink:href=\"#DejaVuSans-53\"/>\n      </g>\n     </g>\n    </g>\n    <g id=\"xtick_3\">\n     <g id=\"line2d_3\">\n      <path clip-path=\"url(#p65b1cf50c4)\" d=\"M 245.129234 239.758125 \nL 245.129234 22.318125 \n\" style=\"fill:none;stroke:#ffffff;stroke-linecap:round;\"/>\n     </g>\n     <g id=\"text_3\">\n      <!-- 1.0 -->\n      <defs>\n       <path d=\"M 12.40625 8.296875 \nL 28.515625 8.296875 \nL 28.515625 63.921875 \nL 10.984375 60.40625 \nL 10.984375 69.390625 \nL 28.421875 72.90625 \nL 38.28125 72.90625 \nL 38.28125 8.296875 \nL 54.390625 8.296875 \nL 54.390625 0 \nL 12.40625 0 \nz\n\" id=\"DejaVuSans-49\"/>\n      </defs>\n      <g style=\"fill:#262626;\" transform=\"translate(236.382516 257.616406)scale(0.11 -0.11)\">\n       <use xlink:href=\"#DejaVuSans-49\"/>\n       <use x=\"63.623047\" xlink:href=\"#DejaVuSans-46\"/>\n       <use x=\"95.410156\" xlink:href=\"#DejaVuSans-48\"/>\n      </g>\n     </g>\n    </g>\n    <g id=\"text_4\">\n     <!-- $x_1$ -->\n     <defs>\n      <path d=\"M 60.015625 54.6875 \nL 34.90625 27.875 \nL 50.296875 0 \nL 39.984375 0 \nL 28.421875 21.6875 \nL 8.296875 0 \nL -2.59375 0 \nL 24.3125 28.8125 \nL 10.015625 54.6875 \nL 20.3125 54.6875 \nL 30.8125 34.90625 \nL 49.125 54.6875 \nz\n\" id=\"DejaVuSans-Oblique-120\"/>\n     </defs>\n     <g style=\"fill:#262626;\" transform=\"translate(164.204844 273.022188)scale(0.12 -0.12)\">\n      <use transform=\"translate(0 0.3125)\" xlink:href=\"#DejaVuSans-Oblique-120\"/>\n      <use transform=\"translate(59.179688 -16.09375)scale(0.7)\" xlink:href=\"#DejaVuSans-49\"/>\n     </g>\n    </g>\n   </g>\n   <g id=\"matplotlib.axis_2\">\n    <g id=\"ytick_1\">\n     <g id=\"line2d_4\">\n      <path clip-path=\"url(#p65b1cf50c4)\" d=\"M 59.024844 224.142114 \nL 282.224844 224.142114 \n\" style=\"fill:none;stroke:#ffffff;stroke-linecap:round;\"/>\n     </g>\n     <g id=\"text_5\">\n      <!-- −0.2 -->\n      <defs>\n       <path d=\"M 10.59375 35.5 \nL 73.1875 35.5 \nL 73.1875 27.203125 \nL 10.59375 27.203125 \nz\n\" id=\"DejaVuSans-8722\"/>\n       <path d=\"M 19.1875 8.296875 \nL 53.609375 8.296875 \nL 53.609375 0 \nL 7.328125 0 \nL 7.328125 8.296875 \nQ 12.9375 14.109375 22.625 23.890625 \nQ 32.328125 33.6875 34.8125 36.53125 \nQ 39.546875 41.84375 41.421875 45.53125 \nQ 43.3125 49.21875 43.3125 52.78125 \nQ 43.3125 58.59375 39.234375 62.25 \nQ 35.15625 65.921875 28.609375 65.921875 \nQ 23.96875 65.921875 18.8125 64.3125 \nQ 13.671875 62.703125 7.8125 59.421875 \nL 7.8125 69.390625 \nQ 13.765625 71.78125 18.9375 73 \nQ 24.125 74.21875 28.421875 74.21875 \nQ 39.75 74.21875 46.484375 68.546875 \nQ 53.21875 62.890625 53.21875 53.421875 \nQ 53.21875 48.921875 51.53125 44.890625 \nQ 49.859375 40.875 45.40625 35.40625 \nQ 44.1875 33.984375 37.640625 27.21875 \nQ 31.109375 20.453125 19.1875 8.296875 \nz\n\" id=\"DejaVuSans-50\"/>\n      </defs>\n      <g style=\"fill:#262626;\" transform=\"translate(22.81375 228.321255)scale(0.11 -0.11)\">\n       <use xlink:href=\"#DejaVuSans-8722\"/>\n       <use x=\"83.789062\" xlink:href=\"#DejaVuSans-48\"/>\n       <use x=\"147.412109\" xlink:href=\"#DejaVuSans-46\"/>\n       <use x=\"179.199219\" xlink:href=\"#DejaVuSans-50\"/>\n      </g>\n     </g>\n    </g>\n    <g id=\"ytick_2\">\n     <g id=\"line2d_5\">\n      <path clip-path=\"url(#p65b1cf50c4)\" d=\"M 59.024844 197.463285 \nL 282.224844 197.463285 \n\" style=\"fill:none;stroke:#ffffff;stroke-linecap:round;\"/>\n     </g>\n     <g id=\"text_6\">\n      <!-- 0.0 -->\n      <g style=\"fill:#262626;\" transform=\"translate(32.031406 201.642426)scale(0.11 -0.11)\">\n       <use xlink:href=\"#DejaVuSans-48\"/>\n       <use x=\"63.623047\" xlink:href=\"#DejaVuSans-46\"/>\n       <use x=\"95.410156\" xlink:href=\"#DejaVuSans-48\"/>\n      </g>\n     </g>\n    </g>\n    <g id=\"ytick_3\">\n     <g id=\"line2d_6\">\n      <path clip-path=\"url(#p65b1cf50c4)\" d=\"M 59.024844 170.784456 \nL 282.224844 170.784456 \n\" style=\"fill:none;stroke:#ffffff;stroke-linecap:round;\"/>\n     </g>\n     <g id=\"text_7\">\n      <!-- 0.2 -->\n      <g style=\"fill:#262626;\" transform=\"translate(32.031406 174.963596)scale(0.11 -0.11)\">\n       <use xlink:href=\"#DejaVuSans-48\"/>\n       <use x=\"63.623047\" xlink:href=\"#DejaVuSans-46\"/>\n       <use x=\"95.410156\" xlink:href=\"#DejaVuSans-50\"/>\n      </g>\n     </g>\n    </g>\n    <g id=\"ytick_4\">\n     <g id=\"line2d_7\">\n      <path clip-path=\"url(#p65b1cf50c4)\" d=\"M 59.024844 144.105626 \nL 282.224844 144.105626 \n\" style=\"fill:none;stroke:#ffffff;stroke-linecap:round;\"/>\n     </g>\n     <g id=\"text_8\">\n      <!-- 0.4 -->\n      <defs>\n       <path d=\"M 37.796875 64.3125 \nL 12.890625 25.390625 \nL 37.796875 25.390625 \nz\nM 35.203125 72.90625 \nL 47.609375 72.90625 \nL 47.609375 25.390625 \nL 58.015625 25.390625 \nL 58.015625 17.1875 \nL 47.609375 17.1875 \nL 47.609375 0 \nL 37.796875 0 \nL 37.796875 17.1875 \nL 4.890625 17.1875 \nL 4.890625 26.703125 \nz\n\" id=\"DejaVuSans-52\"/>\n      </defs>\n      <g style=\"fill:#262626;\" transform=\"translate(32.031406 148.284767)scale(0.11 -0.11)\">\n       <use xlink:href=\"#DejaVuSans-48\"/>\n       <use x=\"63.623047\" xlink:href=\"#DejaVuSans-46\"/>\n       <use x=\"95.410156\" xlink:href=\"#DejaVuSans-52\"/>\n      </g>\n     </g>\n    </g>\n    <g id=\"ytick_5\">\n     <g id=\"line2d_8\">\n      <path clip-path=\"url(#p65b1cf50c4)\" d=\"M 59.024844 117.426797 \nL 282.224844 117.426797 \n\" style=\"fill:none;stroke:#ffffff;stroke-linecap:round;\"/>\n     </g>\n     <g id=\"text_9\">\n      <!-- 0.6 -->\n      <defs>\n       <path d=\"M 33.015625 40.375 \nQ 26.375 40.375 22.484375 35.828125 \nQ 18.609375 31.296875 18.609375 23.390625 \nQ 18.609375 15.53125 22.484375 10.953125 \nQ 26.375 6.390625 33.015625 6.390625 \nQ 39.65625 6.390625 43.53125 10.953125 \nQ 47.40625 15.53125 47.40625 23.390625 \nQ 47.40625 31.296875 43.53125 35.828125 \nQ 39.65625 40.375 33.015625 40.375 \nz\nM 52.59375 71.296875 \nL 52.59375 62.3125 \nQ 48.875 64.0625 45.09375 64.984375 \nQ 41.3125 65.921875 37.59375 65.921875 \nQ 27.828125 65.921875 22.671875 59.328125 \nQ 17.53125 52.734375 16.796875 39.40625 \nQ 19.671875 43.65625 24.015625 45.921875 \nQ 28.375 48.1875 33.59375 48.1875 \nQ 44.578125 48.1875 50.953125 41.515625 \nQ 57.328125 34.859375 57.328125 23.390625 \nQ 57.328125 12.15625 50.6875 5.359375 \nQ 44.046875 -1.421875 33.015625 -1.421875 \nQ 20.359375 -1.421875 13.671875 8.265625 \nQ 6.984375 17.96875 6.984375 36.375 \nQ 6.984375 53.65625 15.1875 63.9375 \nQ 23.390625 74.21875 37.203125 74.21875 \nQ 40.921875 74.21875 44.703125 73.484375 \nQ 48.484375 72.75 52.59375 71.296875 \nz\n\" id=\"DejaVuSans-54\"/>\n      </defs>\n      <g style=\"fill:#262626;\" transform=\"translate(32.031406 121.605938)scale(0.11 -0.11)\">\n       <use xlink:href=\"#DejaVuSans-48\"/>\n       <use x=\"63.623047\" xlink:href=\"#DejaVuSans-46\"/>\n       <use x=\"95.410156\" xlink:href=\"#DejaVuSans-54\"/>\n      </g>\n     </g>\n    </g>\n    <g id=\"ytick_6\">\n     <g id=\"line2d_9\">\n      <path clip-path=\"url(#p65b1cf50c4)\" d=\"M 59.024844 90.747968 \nL 282.224844 90.747968 \n\" style=\"fill:none;stroke:#ffffff;stroke-linecap:round;\"/>\n     </g>\n     <g id=\"text_10\">\n      <!-- 0.8 -->\n      <defs>\n       <path d=\"M 31.78125 34.625 \nQ 24.75 34.625 20.71875 30.859375 \nQ 16.703125 27.09375 16.703125 20.515625 \nQ 16.703125 13.921875 20.71875 10.15625 \nQ 24.75 6.390625 31.78125 6.390625 \nQ 38.8125 6.390625 42.859375 10.171875 \nQ 46.921875 13.96875 46.921875 20.515625 \nQ 46.921875 27.09375 42.890625 30.859375 \nQ 38.875 34.625 31.78125 34.625 \nz\nM 21.921875 38.8125 \nQ 15.578125 40.375 12.03125 44.71875 \nQ 8.5 49.078125 8.5 55.328125 \nQ 8.5 64.0625 14.71875 69.140625 \nQ 20.953125 74.21875 31.78125 74.21875 \nQ 42.671875 74.21875 48.875 69.140625 \nQ 55.078125 64.0625 55.078125 55.328125 \nQ 55.078125 49.078125 51.53125 44.71875 \nQ 48 40.375 41.703125 38.8125 \nQ 48.828125 37.15625 52.796875 32.3125 \nQ 56.78125 27.484375 56.78125 20.515625 \nQ 56.78125 9.90625 50.3125 4.234375 \nQ 43.84375 -1.421875 31.78125 -1.421875 \nQ 19.734375 -1.421875 13.25 4.234375 \nQ 6.78125 9.90625 6.78125 20.515625 \nQ 6.78125 27.484375 10.78125 32.3125 \nQ 14.796875 37.15625 21.921875 38.8125 \nz\nM 18.3125 54.390625 \nQ 18.3125 48.734375 21.84375 45.5625 \nQ 25.390625 42.390625 31.78125 42.390625 \nQ 38.140625 42.390625 41.71875 45.5625 \nQ 45.3125 48.734375 45.3125 54.390625 \nQ 45.3125 60.0625 41.71875 63.234375 \nQ 38.140625 66.40625 31.78125 66.40625 \nQ 25.390625 66.40625 21.84375 63.234375 \nQ 18.3125 60.0625 18.3125 54.390625 \nz\n\" id=\"DejaVuSans-56\"/>\n      </defs>\n      <g style=\"fill:#262626;\" transform=\"translate(32.031406 94.927109)scale(0.11 -0.11)\">\n       <use xlink:href=\"#DejaVuSans-48\"/>\n       <use x=\"63.623047\" xlink:href=\"#DejaVuSans-46\"/>\n       <use x=\"95.410156\" xlink:href=\"#DejaVuSans-56\"/>\n      </g>\n     </g>\n    </g>\n    <g id=\"ytick_7\">\n     <g id=\"line2d_10\">\n      <path clip-path=\"url(#p65b1cf50c4)\" d=\"M 59.024844 64.069139 \nL 282.224844 64.069139 \n\" style=\"fill:none;stroke:#ffffff;stroke-linecap:round;\"/>\n     </g>\n     <g id=\"text_11\">\n      <!-- 1.0 -->\n      <g style=\"fill:#262626;\" transform=\"translate(32.031406 68.248279)scale(0.11 -0.11)\">\n       <use xlink:href=\"#DejaVuSans-49\"/>\n       <use x=\"63.623047\" xlink:href=\"#DejaVuSans-46\"/>\n       <use x=\"95.410156\" xlink:href=\"#DejaVuSans-48\"/>\n      </g>\n     </g>\n    </g>\n    <g id=\"ytick_8\">\n     <g id=\"line2d_11\">\n      <path clip-path=\"url(#p65b1cf50c4)\" d=\"M 59.024844 37.390309 \nL 282.224844 37.390309 \n\" style=\"fill:none;stroke:#ffffff;stroke-linecap:round;\"/>\n     </g>\n     <g id=\"text_12\">\n      <!-- 1.2 -->\n      <g style=\"fill:#262626;\" transform=\"translate(32.031406 41.56945)scale(0.11 -0.11)\">\n       <use xlink:href=\"#DejaVuSans-49\"/>\n       <use x=\"63.623047\" xlink:href=\"#DejaVuSans-46\"/>\n       <use x=\"95.410156\" xlink:href=\"#DejaVuSans-50\"/>\n      </g>\n     </g>\n    </g>\n    <g id=\"text_13\">\n     <!-- $x_2$ -->\n     <g style=\"fill:#262626;\" transform=\"translate(16.318125 137.458125)rotate(-90)scale(0.12 -0.12)\">\n      <use transform=\"translate(0 0.3125)\" xlink:href=\"#DejaVuSans-Oblique-120\"/>\n      <use transform=\"translate(59.179688 -16.09375)scale(0.7)\" xlink:href=\"#DejaVuSans-50\"/>\n     </g>\n    </g>\n   </g>\n   <g id=\"PathCollection_1\">\n    <defs>\n     <path d=\"M 0 3 \nC 0.795609 3 1.55874 2.683901 2.12132 2.12132 \nC 2.683901 1.55874 3 0.795609 3 0 \nC 3 -0.795609 2.683901 -1.55874 2.12132 -2.12132 \nC 1.55874 -2.683901 0.795609 -3 0 -3 \nC -0.795609 -3 -1.55874 -2.683901 -2.12132 -2.12132 \nC -2.683901 -1.55874 -3 -0.795609 -3 0 \nC -3 0.795609 -2.683901 1.55874 -2.12132 2.12132 \nC -1.55874 2.683901 -0.795609 3 0 3 \nz\n\" id=\"md6b5b78243\" style=\"stroke:#333333;\"/>\n    </defs>\n    <g clip-path=\"url(#p65b1cf50c4)\">\n     <use style=\"fill:#4c72b0;stroke:#333333;\" x=\"228.930652\" xlink:href=\"#md6b5b78243\" y=\"94.35046\"/>\n     <use style=\"fill:#4c72b0;stroke:#333333;\" x=\"261.135509\" xlink:href=\"#md6b5b78243\" y=\"83.619919\"/>\n     <use style=\"fill:#4c72b0;stroke:#333333;\" x=\"258.147811\" xlink:href=\"#md6b5b78243\" y=\"45.03566\"/>\n     <use style=\"fill:#4c72b0;stroke:#333333;\" x=\"233.854043\" xlink:href=\"#md6b5b78243\" y=\"59.843214\"/>\n     <use style=\"fill:#4c72b0;stroke:#333333;\" x=\"69.170298\" xlink:href=\"#md6b5b78243\" y=\"200.680937\"/>\n     <use style=\"fill:#4c72b0;stroke:#333333;\" x=\"264.327378\" xlink:href=\"#md6b5b78243\" y=\"49.657922\"/>\n     <use style=\"fill:#4c72b0;stroke:#333333;\" x=\"234.630556\" xlink:href=\"#md6b5b78243\" y=\"32.201761\"/>\n     <use style=\"fill:#4c72b0;stroke:#333333;\" x=\"113.024947\" xlink:href=\"#md6b5b78243\" y=\"215.952736\"/>\n     <use style=\"fill:#4c72b0;stroke:#333333;\" x=\"99.110882\" xlink:href=\"#md6b5b78243\" y=\"187.677964\"/>\n     <use style=\"fill:#4c72b0;stroke:#333333;\" x=\"135.792315\" xlink:href=\"#md6b5b78243\" y=\"204.903215\"/>\n     <use style=\"fill:#4c72b0;stroke:#333333;\" x=\"251.976224\" xlink:href=\"#md6b5b78243\" y=\"64.325985\"/>\n     <use style=\"fill:#4c72b0;stroke:#333333;\" x=\"252.633291\" xlink:href=\"#md6b5b78243\" y=\"71.919319\"/>\n     <use style=\"fill:#4c72b0;stroke:#333333;\" x=\"104.408744\" xlink:href=\"#md6b5b78243\" y=\"205.402142\"/>\n     <use style=\"fill:#4c72b0;stroke:#333333;\" x=\"246.677739\" xlink:href=\"#md6b5b78243\" y=\"59.499814\"/>\n     <use style=\"fill:#4c72b0;stroke:#333333;\" x=\"113.8869\" xlink:href=\"#md6b5b78243\" y=\"201.303879\"/>\n     <use style=\"fill:#4c72b0;stroke:#333333;\" x=\"246.169442\" xlink:href=\"#md6b5b78243\" y=\"56.503195\"/>\n     <use style=\"fill:#4c72b0;stroke:#333333;\" x=\"247.192099\" xlink:href=\"#md6b5b78243\" y=\"68.21429\"/>\n     <use style=\"fill:#4c72b0;stroke:#333333;\" x=\"262.66807\" xlink:href=\"#md6b5b78243\" y=\"57.842081\"/>\n     <use style=\"fill:#4c72b0;stroke:#333333;\" x=\"112.034529\" xlink:href=\"#md6b5b78243\" y=\"199.698103\"/>\n     <use style=\"fill:#4c72b0;stroke:#333333;\" x=\"91.442333\" xlink:href=\"#md6b5b78243\" y=\"204.140992\"/>\n     <use style=\"fill:#4c72b0;stroke:#333333;\" x=\"239.473941\" xlink:href=\"#md6b5b78243\" y=\"55.198005\"/>\n     <use style=\"fill:#4c72b0;stroke:#333333;\" x=\"263.798876\" xlink:href=\"#md6b5b78243\" y=\"88.6661\"/>\n     <use style=\"fill:#4c72b0;stroke:#333333;\" x=\"235.504494\" xlink:href=\"#md6b5b78243\" y=\"82.026501\"/>\n     <use style=\"fill:#4c72b0;stroke:#333333;\" x=\"111.62108\" xlink:href=\"#md6b5b78243\" y=\"217.366712\"/>\n     <use style=\"fill:#4c72b0;stroke:#333333;\" x=\"233.255204\" xlink:href=\"#md6b5b78243\" y=\"68.99627\"/>\n     <use style=\"fill:#4c72b0;stroke:#333333;\" x=\"272.079389\" xlink:href=\"#md6b5b78243\" y=\"72.28336\"/>\n     <use style=\"fill:#4c72b0;stroke:#333333;\" x=\"104.470038\" xlink:href=\"#md6b5b78243\" y=\"206.439692\"/>\n     <use style=\"fill:#4c72b0;stroke:#333333;\" x=\"237.876418\" xlink:href=\"#md6b5b78243\" y=\"38.97802\"/>\n     <use style=\"fill:#4c72b0;stroke:#333333;\" x=\"106.633753\" xlink:href=\"#md6b5b78243\" y=\"199.527691\"/>\n     <use style=\"fill:#4c72b0;stroke:#333333;\" x=\"237.033458\" xlink:href=\"#md6b5b78243\" y=\"57.502179\"/>\n     <use style=\"fill:#4c72b0;stroke:#333333;\" x=\"125.773304\" xlink:href=\"#md6b5b78243\" y=\"205.779794\"/>\n     <use style=\"fill:#4c72b0;stroke:#333333;\" x=\"259.747227\" xlink:href=\"#md6b5b78243\" y=\"54.863177\"/>\n     <use style=\"fill:#4c72b0;stroke:#333333;\" x=\"250.861132\" xlink:href=\"#md6b5b78243\" y=\"73.876937\"/>\n     <use style=\"fill:#4c72b0;stroke:#333333;\" x=\"250.424901\" xlink:href=\"#md6b5b78243\" y=\"73.260455\"/>\n     <use style=\"fill:#4c72b0;stroke:#333333;\" x=\"113.568172\" xlink:href=\"#md6b5b78243\" y=\"175.236331\"/>\n     <use style=\"fill:#4c72b0;stroke:#333333;\" x=\"114.841245\" xlink:href=\"#md6b5b78243\" y=\"210.387713\"/>\n     <use style=\"fill:#4c72b0;stroke:#333333;\" x=\"131.850808\" xlink:href=\"#md6b5b78243\" y=\"208.024196\"/>\n     <use style=\"fill:#4c72b0;stroke:#333333;\" x=\"121.226528\" xlink:href=\"#md6b5b78243\" y=\"225.211057\"/>\n     <use style=\"fill:#4c72b0;stroke:#333333;\" x=\"122.468374\" xlink:href=\"#md6b5b78243\" y=\"201.842911\"/>\n     <use style=\"fill:#4c72b0;stroke:#333333;\" x=\"122.281284\" xlink:href=\"#md6b5b78243\" y=\"197.522654\"/>\n     <use style=\"fill:#4c72b0;stroke:#333333;\" x=\"105.643562\" xlink:href=\"#md6b5b78243\" y=\"196.090089\"/>\n     <use style=\"fill:#4c72b0;stroke:#333333;\" x=\"223.274663\" xlink:href=\"#md6b5b78243\" y=\"46.017184\"/>\n     <use style=\"fill:#4c72b0;stroke:#333333;\" x=\"241.194304\" xlink:href=\"#md6b5b78243\" y=\"62.451558\"/>\n     <use style=\"fill:#4c72b0;stroke:#333333;\" x=\"251.372641\" xlink:href=\"#md6b5b78243\" y=\"54.101511\"/>\n     <use style=\"fill:#4c72b0;stroke:#333333;\" x=\"114.364114\" xlink:href=\"#md6b5b78243\" y=\"216.075711\"/>\n     <use style=\"fill:#4c72b0;stroke:#333333;\" x=\"245.186799\" xlink:href=\"#md6b5b78243\" y=\"53.547587\"/>\n     <use style=\"fill:#4c72b0;stroke:#333333;\" x=\"245.061379\" xlink:href=\"#md6b5b78243\" y=\"68.483985\"/>\n     <use style=\"fill:#4c72b0;stroke:#333333;\" x=\"108.30282\" xlink:href=\"#md6b5b78243\" y=\"212.723797\"/>\n     <use style=\"fill:#4c72b0;stroke:#333333;\" x=\"77.521311\" xlink:href=\"#md6b5b78243\" y=\"220.461823\"/>\n     <use style=\"fill:#4c72b0;stroke:#333333;\" x=\"100.125209\" xlink:href=\"#md6b5b78243\" y=\"211.971732\"/>\n     <use style=\"fill:#4c72b0;stroke:#333333;\" x=\"236.621527\" xlink:href=\"#md6b5b78243\" y=\"51.272291\"/>\n     <use style=\"fill:#4c72b0;stroke:#333333;\" x=\"251.008165\" xlink:href=\"#md6b5b78243\" y=\"58.94104\"/>\n     <use style=\"fill:#4c72b0;stroke:#333333;\" x=\"76.093404\" xlink:href=\"#md6b5b78243\" y=\"209.96749\"/>\n     <use style=\"fill:#4c72b0;stroke:#333333;\" x=\"239.838443\" xlink:href=\"#md6b5b78243\" y=\"73.912016\"/>\n     <use style=\"fill:#4c72b0;stroke:#333333;\" x=\"109.030382\" xlink:href=\"#md6b5b78243\" y=\"202.003062\"/>\n     <use style=\"fill:#4c72b0;stroke:#333333;\" x=\"247.681012\" xlink:href=\"#md6b5b78243\" y=\"72.487404\"/>\n     <use style=\"fill:#4c72b0;stroke:#333333;\" x=\"137.944651\" xlink:href=\"#md6b5b78243\" y=\"204.588557\"/>\n     <use style=\"fill:#4c72b0;stroke:#333333;\" x=\"259.489605\" xlink:href=\"#md6b5b78243\" y=\"86.462219\"/>\n     <use style=\"fill:#4c72b0;stroke:#333333;\" x=\"256.059465\" xlink:href=\"#md6b5b78243\" y=\"52.622117\"/>\n     <use style=\"fill:#4c72b0;stroke:#333333;\" x=\"81.622116\" xlink:href=\"#md6b5b78243\" y=\"191.929215\"/>\n     <use style=\"fill:#4c72b0;stroke:#333333;\" x=\"263.76553\" xlink:href=\"#md6b5b78243\" y=\"65.444789\"/>\n     <use style=\"fill:#4c72b0;stroke:#333333;\" x=\"256.393037\" xlink:href=\"#md6b5b78243\" y=\"71.137753\"/>\n     <use style=\"fill:#4c72b0;stroke:#333333;\" x=\"93.471564\" xlink:href=\"#md6b5b78243\" y=\"197.934367\"/>\n     <use style=\"fill:#4c72b0;stroke:#333333;\" x=\"105.034331\" xlink:href=\"#md6b5b78243\" y=\"229.874489\"/>\n     <use style=\"fill:#4c72b0;stroke:#333333;\" x=\"101.889267\" xlink:href=\"#md6b5b78243\" y=\"182.741185\"/>\n     <use style=\"fill:#4c72b0;stroke:#333333;\" x=\"87.910855\" xlink:href=\"#md6b5b78243\" y=\"190.307474\"/>\n     <use style=\"fill:#4c72b0;stroke:#333333;\" x=\"252.781553\" xlink:href=\"#md6b5b78243\" y=\"68.775267\"/>\n     <use style=\"fill:#4c72b0;stroke:#333333;\" x=\"264.764805\" xlink:href=\"#md6b5b78243\" y=\"60.6242\"/>\n     <use style=\"fill:#4c72b0;stroke:#333333;\" x=\"237.364712\" xlink:href=\"#md6b5b78243\" y=\"83.633778\"/>\n     <use style=\"fill:#4c72b0;stroke:#333333;\" x=\"87.077797\" xlink:href=\"#md6b5b78243\" y=\"186.819064\"/>\n     <use style=\"fill:#4c72b0;stroke:#333333;\" x=\"248.024072\" xlink:href=\"#md6b5b78243\" y=\"87.387085\"/>\n     <use style=\"fill:#4c72b0;stroke:#333333;\" x=\"235.613494\" xlink:href=\"#md6b5b78243\" y=\"65.089837\"/>\n     <use style=\"fill:#4c72b0;stroke:#333333;\" x=\"128.598226\" xlink:href=\"#md6b5b78243\" y=\"218.692614\"/>\n     <use style=\"fill:#4c72b0;stroke:#333333;\" x=\"121.367318\" xlink:href=\"#md6b5b78243\" y=\"194.146148\"/>\n     <use style=\"fill:#4c72b0;stroke:#333333;\" x=\"105.381335\" xlink:href=\"#md6b5b78243\" y=\"191.363732\"/>\n     <use style=\"fill:#4c72b0;stroke:#333333;\" x=\"110.944385\" xlink:href=\"#md6b5b78243\" y=\"180.859104\"/>\n     <use style=\"fill:#4c72b0;stroke:#333333;\" x=\"241.988211\" xlink:href=\"#md6b5b78243\" y=\"58.804236\"/>\n     <use style=\"fill:#4c72b0;stroke:#333333;\" x=\"260.742553\" xlink:href=\"#md6b5b78243\" y=\"70.127041\"/>\n     <use style=\"fill:#4c72b0;stroke:#333333;\" x=\"119.153922\" xlink:href=\"#md6b5b78243\" y=\"196.980963\"/>\n     <use style=\"fill:#4c72b0;stroke:#333333;\" x=\"139.04145\" xlink:href=\"#md6b5b78243\" y=\"208.014356\"/>\n     <use style=\"fill:#4c72b0;stroke:#333333;\" x=\"111.304571\" xlink:href=\"#md6b5b78243\" y=\"201.714477\"/>\n     <use style=\"fill:#4c72b0;stroke:#333333;\" x=\"249.774913\" xlink:href=\"#md6b5b78243\" y=\"70.465153\"/>\n     <use style=\"fill:#4c72b0;stroke:#333333;\" x=\"248.889554\" xlink:href=\"#md6b5b78243\" y=\"71.218558\"/>\n     <use style=\"fill:#4c72b0;stroke:#333333;\" x=\"103.90802\" xlink:href=\"#md6b5b78243\" y=\"206.697548\"/>\n     <use style=\"fill:#4c72b0;stroke:#333333;\" x=\"259.058453\" xlink:href=\"#md6b5b78243\" y=\"44.162968\"/>\n     <use style=\"fill:#4c72b0;stroke:#333333;\" x=\"214.91598\" xlink:href=\"#md6b5b78243\" y=\"81.904081\"/>\n     <use style=\"fill:#4c72b0;stroke:#333333;\" x=\"257.242609\" xlink:href=\"#md6b5b78243\" y=\"40.174028\"/>\n     <use style=\"fill:#4c72b0;stroke:#333333;\" x=\"131.376573\" xlink:href=\"#md6b5b78243\" y=\"199.356599\"/>\n     <use style=\"fill:#4c72b0;stroke:#333333;\" x=\"243.438727\" xlink:href=\"#md6b5b78243\" y=\"54.110703\"/>\n     <use style=\"fill:#4c72b0;stroke:#333333;\" x=\"113.89782\" xlink:href=\"#md6b5b78243\" y=\"192.016109\"/>\n     <use style=\"fill:#4c72b0;stroke:#333333;\" x=\"116.864899\" xlink:href=\"#md6b5b78243\" y=\"215.394276\"/>\n     <use style=\"fill:#4c72b0;stroke:#333333;\" x=\"98.212823\" xlink:href=\"#md6b5b78243\" y=\"192.516372\"/>\n     <use style=\"fill:#4c72b0;stroke:#333333;\" x=\"230.759892\" xlink:href=\"#md6b5b78243\" y=\"41.403398\"/>\n     <use style=\"fill:#4c72b0;stroke:#333333;\" x=\"252.428121\" xlink:href=\"#md6b5b78243\" y=\"48.685812\"/>\n     <use style=\"fill:#4c72b0;stroke:#333333;\" x=\"212.09533\" xlink:href=\"#md6b5b78243\" y=\"50.919414\"/>\n     <use style=\"fill:#4c72b0;stroke:#333333;\" x=\"120.821411\" xlink:href=\"#md6b5b78243\" y=\"201.149576\"/>\n     <use style=\"fill:#4c72b0;stroke:#333333;\" x=\"95.947717\" xlink:href=\"#md6b5b78243\" y=\"204.325141\"/>\n     <use style=\"fill:#4c72b0;stroke:#333333;\" x=\"121.594994\" xlink:href=\"#md6b5b78243\" y=\"194.048764\"/>\n     <use style=\"fill:#4c72b0;stroke:#333333;\" x=\"227.23464\" xlink:href=\"#md6b5b78243\" y=\"70.179811\"/>\n     <use style=\"fill:#4c72b0;stroke:#333333;\" x=\"121.214192\" xlink:href=\"#md6b5b78243\" y=\"191.813511\"/>\n     <use style=\"fill:#4c72b0;stroke:#333333;\" x=\"105.326714\" xlink:href=\"#md6b5b78243\" y=\"190.517448\"/>\n     <use style=\"fill:#4c72b0;stroke:#333333;\" x=\"101.344869\" xlink:href=\"#md6b5b78243\" y=\"208.103682\"/>\n     <use style=\"fill:#4c72b0;stroke:#333333;\" x=\"108.464446\" xlink:href=\"#md6b5b78243\" y=\"211.823085\"/>\n     <use style=\"fill:#4c72b0;stroke:#333333;\" x=\"224.606494\" xlink:href=\"#md6b5b78243\" y=\"54.41783\"/>\n    </g>\n   </g>\n   <g id=\"PathCollection_2\">\n    <defs>\n     <path d=\"M 0 3 \nC 0.795609 3 1.55874 2.683901 2.12132 2.12132 \nC 2.683901 1.55874 3 0.795609 3 0 \nC 3 -0.795609 2.683901 -1.55874 2.12132 -2.12132 \nC 1.55874 -2.683901 0.795609 -3 0 -3 \nC -0.795609 -3 -1.55874 -2.683901 -2.12132 -2.12132 \nC -2.683901 -1.55874 -3 -0.795609 -3 0 \nC -3 0.795609 -2.683901 1.55874 -2.12132 2.12132 \nC -1.55874 2.683901 -0.795609 3 0 3 \nz\n\" id=\"m9b60a42e86\" style=\"stroke:#333333;\"/>\n    </defs>\n    <g clip-path=\"url(#p65b1cf50c4)\">\n     <use style=\"fill:#dd8452;stroke:#333333;\" x=\"251.855737\" xlink:href=\"#m9b60a42e86\" y=\"214.578898\"/>\n     <use style=\"fill:#dd8452;stroke:#333333;\" x=\"248.496615\" xlink:href=\"#m9b60a42e86\" y=\"197.814632\"/>\n     <use style=\"fill:#dd8452;stroke:#333333;\" x=\"267.330118\" xlink:href=\"#m9b60a42e86\" y=\"193.143061\"/>\n     <use style=\"fill:#dd8452;stroke:#333333;\" x=\"252.020647\" xlink:href=\"#m9b60a42e86\" y=\"190.621844\"/>\n     <use style=\"fill:#dd8452;stroke:#333333;\" x=\"100.21424\" xlink:href=\"#m9b60a42e86\" y=\"51.595766\"/>\n     <use style=\"fill:#dd8452;stroke:#333333;\" x=\"250.252011\" xlink:href=\"#m9b60a42e86\" y=\"191.612358\"/>\n     <use style=\"fill:#dd8452;stroke:#333333;\" x=\"110.772458\" xlink:href=\"#m9b60a42e86\" y=\"69.145652\"/>\n     <use style=\"fill:#dd8452;stroke:#333333;\" x=\"242.205303\" xlink:href=\"#m9b60a42e86\" y=\"198.428775\"/>\n     <use style=\"fill:#dd8452;stroke:#333333;\" x=\"106.554835\" xlink:href=\"#m9b60a42e86\" y=\"50.972526\"/>\n     <use style=\"fill:#dd8452;stroke:#333333;\" x=\"256.584919\" xlink:href=\"#m9b60a42e86\" y=\"217.623219\"/>\n     <use style=\"fill:#dd8452;stroke:#333333;\" x=\"244.333549\" xlink:href=\"#m9b60a42e86\" y=\"203.543436\"/>\n     <use style=\"fill:#dd8452;stroke:#333333;\" x=\"232.476437\" xlink:href=\"#m9b60a42e86\" y=\"212.1627\"/>\n     <use style=\"fill:#dd8452;stroke:#333333;\" x=\"94.016196\" xlink:href=\"#m9b60a42e86\" y=\"57.640446\"/>\n     <use style=\"fill:#dd8452;stroke:#333333;\" x=\"116.636625\" xlink:href=\"#m9b60a42e86\" y=\"62.381987\"/>\n     <use style=\"fill:#dd8452;stroke:#333333;\" x=\"108.894458\" xlink:href=\"#m9b60a42e86\" y=\"85.727642\"/>\n     <use style=\"fill:#dd8452;stroke:#333333;\" x=\"92.954115\" xlink:href=\"#m9b60a42e86\" y=\"67.81715\"/>\n     <use style=\"fill:#dd8452;stroke:#333333;\" x=\"100.351454\" xlink:href=\"#m9b60a42e86\" y=\"69.238519\"/>\n     <use style=\"fill:#dd8452;stroke:#333333;\" x=\"262.012658\" xlink:href=\"#m9b60a42e86\" y=\"186.644021\"/>\n     <use style=\"fill:#dd8452;stroke:#333333;\" x=\"252.601584\" xlink:href=\"#m9b60a42e86\" y=\"198.863016\"/>\n     <use style=\"fill:#dd8452;stroke:#333333;\" x=\"223.702193\" xlink:href=\"#m9b60a42e86\" y=\"186.173662\"/>\n     <use style=\"fill:#dd8452;stroke:#333333;\" x=\"97.202714\" xlink:href=\"#m9b60a42e86\" y=\"61.732159\"/>\n     <use style=\"fill:#dd8452;stroke:#333333;\" x=\"221.632356\" xlink:href=\"#m9b60a42e86\" y=\"193.415896\"/>\n     <use style=\"fill:#dd8452;stroke:#333333;\" x=\"239.563541\" xlink:href=\"#m9b60a42e86\" y=\"210.684989\"/>\n     <use style=\"fill:#dd8452;stroke:#333333;\" x=\"238.64033\" xlink:href=\"#m9b60a42e86\" y=\"180.99855\"/>\n     <use style=\"fill:#dd8452;stroke:#333333;\" x=\"232.217069\" xlink:href=\"#m9b60a42e86\" y=\"190.103877\"/>\n     <use style=\"fill:#dd8452;stroke:#333333;\" x=\"263.609764\" xlink:href=\"#m9b60a42e86\" y=\"178.252223\"/>\n     <use style=\"fill:#dd8452;stroke:#333333;\" x=\"125.171635\" xlink:href=\"#m9b60a42e86\" y=\"44.360517\"/>\n     <use style=\"fill:#dd8452;stroke:#333333;\" x=\"260.735294\" xlink:href=\"#m9b60a42e86\" y=\"181.087487\"/>\n     <use style=\"fill:#dd8452;stroke:#333333;\" x=\"99.145018\" xlink:href=\"#m9b60a42e86\" y=\"60.228706\"/>\n     <use style=\"fill:#dd8452;stroke:#333333;\" x=\"261.10154\" xlink:href=\"#m9b60a42e86\" y=\"207.037305\"/>\n     <use style=\"fill:#dd8452;stroke:#333333;\" x=\"82.215504\" xlink:href=\"#m9b60a42e86\" y=\"66.078922\"/>\n     <use style=\"fill:#dd8452;stroke:#333333;\" x=\"135.74704\" xlink:href=\"#m9b60a42e86\" y=\"59.844772\"/>\n     <use style=\"fill:#dd8452;stroke:#333333;\" x=\"245.210755\" xlink:href=\"#m9b60a42e86\" y=\"201.8339\"/>\n     <use style=\"fill:#dd8452;stroke:#333333;\" x=\"242.343651\" xlink:href=\"#m9b60a42e86\" y=\"197.712801\"/>\n     <use style=\"fill:#dd8452;stroke:#333333;\" x=\"110.579423\" xlink:href=\"#m9b60a42e86\" y=\"66.351026\"/>\n     <use style=\"fill:#dd8452;stroke:#333333;\" x=\"235.325746\" xlink:href=\"#m9b60a42e86\" y=\"190.307836\"/>\n     <use style=\"fill:#dd8452;stroke:#333333;\" x=\"122.087328\" xlink:href=\"#m9b60a42e86\" y=\"81.625219\"/>\n     <use style=\"fill:#dd8452;stroke:#333333;\" x=\"106.319627\" xlink:href=\"#m9b60a42e86\" y=\"91.742339\"/>\n     <use style=\"fill:#dd8452;stroke:#333333;\" x=\"236.950938\" xlink:href=\"#m9b60a42e86\" y=\"182.802113\"/>\n     <use style=\"fill:#dd8452;stroke:#333333;\" x=\"263.635539\" xlink:href=\"#m9b60a42e86\" y=\"197.774505\"/>\n     <use style=\"fill:#dd8452;stroke:#333333;\" x=\"115.930573\" xlink:href=\"#m9b60a42e86\" y=\"49.29121\"/>\n     <use style=\"fill:#dd8452;stroke:#333333;\" x=\"124.947843\" xlink:href=\"#m9b60a42e86\" y=\"63.664246\"/>\n     <use style=\"fill:#dd8452;stroke:#333333;\" x=\"79.944896\" xlink:href=\"#m9b60a42e86\" y=\"67.41485\"/>\n     <use style=\"fill:#dd8452;stroke:#333333;\" x=\"249.894482\" xlink:href=\"#m9b60a42e86\" y=\"180.166033\"/>\n     <use style=\"fill:#dd8452;stroke:#333333;\" x=\"95.448566\" xlink:href=\"#m9b60a42e86\" y=\"65.697183\"/>\n     <use style=\"fill:#dd8452;stroke:#333333;\" x=\"270.210323\" xlink:href=\"#m9b60a42e86\" y=\"203.905946\"/>\n     <use style=\"fill:#dd8452;stroke:#333333;\" x=\"110.242706\" xlink:href=\"#m9b60a42e86\" y=\"78.762016\"/>\n     <use style=\"fill:#dd8452;stroke:#333333;\" x=\"124.832086\" xlink:href=\"#m9b60a42e86\" y=\"87.164618\"/>\n     <use style=\"fill:#dd8452;stroke:#333333;\" x=\"133.694546\" xlink:href=\"#m9b60a42e86\" y=\"51.411543\"/>\n     <use style=\"fill:#dd8452;stroke:#333333;\" x=\"232.883853\" xlink:href=\"#m9b60a42e86\" y=\"225.336347\"/>\n     <use style=\"fill:#dd8452;stroke:#333333;\" x=\"95.442307\" xlink:href=\"#m9b60a42e86\" y=\"82.63108\"/>\n     <use style=\"fill:#dd8452;stroke:#333333;\" x=\"112.922321\" xlink:href=\"#m9b60a42e86\" y=\"66.925392\"/>\n     <use style=\"fill:#dd8452;stroke:#333333;\" x=\"226.419053\" xlink:href=\"#m9b60a42e86\" y=\"200.900198\"/>\n     <use style=\"fill:#dd8452;stroke:#333333;\" x=\"240.891087\" xlink:href=\"#m9b60a42e86\" y=\"196.50205\"/>\n     <use style=\"fill:#dd8452;stroke:#333333;\" x=\"111.718079\" xlink:href=\"#m9b60a42e86\" y=\"68.859896\"/>\n     <use style=\"fill:#dd8452;stroke:#333333;\" x=\"109.204851\" xlink:href=\"#m9b60a42e86\" y=\"38.176728\"/>\n     <use style=\"fill:#dd8452;stroke:#333333;\" x=\"242.826288\" xlink:href=\"#m9b60a42e86\" y=\"191.300392\"/>\n     <use style=\"fill:#dd8452;stroke:#333333;\" x=\"237.831675\" xlink:href=\"#m9b60a42e86\" y=\"202.012505\"/>\n     <use style=\"fill:#dd8452;stroke:#333333;\" x=\"110.499805\" xlink:href=\"#m9b60a42e86\" y=\"55.177285\"/>\n     <use style=\"fill:#dd8452;stroke:#333333;\" x=\"101.555725\" xlink:href=\"#m9b60a42e86\" y=\"42.444284\"/>\n     <use style=\"fill:#dd8452;stroke:#333333;\" x=\"92.17711\" xlink:href=\"#m9b60a42e86\" y=\"85.773097\"/>\n     <use style=\"fill:#dd8452;stroke:#333333;\" x=\"114.594612\" xlink:href=\"#m9b60a42e86\" y=\"66.379975\"/>\n     <use style=\"fill:#dd8452;stroke:#333333;\" x=\"98.01518\" xlink:href=\"#m9b60a42e86\" y=\"68.82651\"/>\n     <use style=\"fill:#dd8452;stroke:#333333;\" x=\"107.653825\" xlink:href=\"#m9b60a42e86\" y=\"59.006126\"/>\n     <use style=\"fill:#dd8452;stroke:#333333;\" x=\"120.398071\" xlink:href=\"#m9b60a42e86\" y=\"73.694964\"/>\n     <use style=\"fill:#dd8452;stroke:#333333;\" x=\"228.381521\" xlink:href=\"#m9b60a42e86\" y=\"210.052931\"/>\n     <use style=\"fill:#dd8452;stroke:#333333;\" x=\"85.2446\" xlink:href=\"#m9b60a42e86\" y=\"88.156645\"/>\n     <use style=\"fill:#dd8452;stroke:#333333;\" x=\"241.942699\" xlink:href=\"#m9b60a42e86\" y=\"192.175031\"/>\n     <use style=\"fill:#dd8452;stroke:#333333;\" x=\"240.553918\" xlink:href=\"#m9b60a42e86\" y=\"194.929233\"/>\n     <use style=\"fill:#dd8452;stroke:#333333;\" x=\"262.357454\" xlink:href=\"#m9b60a42e86\" y=\"169.364311\"/>\n     <use style=\"fill:#dd8452;stroke:#333333;\" x=\"238.192276\" xlink:href=\"#m9b60a42e86\" y=\"199.562842\"/>\n     <use style=\"fill:#dd8452;stroke:#333333;\" x=\"109.512208\" xlink:href=\"#m9b60a42e86\" y=\"74.771589\"/>\n     <use style=\"fill:#dd8452;stroke:#333333;\" x=\"222.293536\" xlink:href=\"#m9b60a42e86\" y=\"191.163935\"/>\n     <use style=\"fill:#dd8452;stroke:#333333;\" x=\"233.983821\" xlink:href=\"#m9b60a42e86\" y=\"188.200938\"/>\n     <use style=\"fill:#dd8452;stroke:#333333;\" x=\"111.969163\" xlink:href=\"#m9b60a42e86\" y=\"67.008089\"/>\n     <use style=\"fill:#dd8452;stroke:#333333;\" x=\"130.554477\" xlink:href=\"#m9b60a42e86\" y=\"55.038812\"/>\n     <use style=\"fill:#dd8452;stroke:#333333;\" x=\"256.078408\" xlink:href=\"#m9b60a42e86\" y=\"185.826483\"/>\n     <use style=\"fill:#dd8452;stroke:#333333;\" x=\"111.887687\" xlink:href=\"#m9b60a42e86\" y=\"61.221266\"/>\n     <use style=\"fill:#dd8452;stroke:#333333;\" x=\"114.31593\" xlink:href=\"#m9b60a42e86\" y=\"67.237107\"/>\n     <use style=\"fill:#dd8452;stroke:#333333;\" x=\"117.686249\" xlink:href=\"#m9b60a42e86\" y=\"87.495662\"/>\n     <use style=\"fill:#dd8452;stroke:#333333;\" x=\"239.728844\" xlink:href=\"#m9b60a42e86\" y=\"178.94335\"/>\n     <use style=\"fill:#dd8452;stroke:#333333;\" x=\"247.615058\" xlink:href=\"#m9b60a42e86\" y=\"170.03224\"/>\n     <use style=\"fill:#dd8452;stroke:#333333;\" x=\"234.528512\" xlink:href=\"#m9b60a42e86\" y=\"205.123936\"/>\n     <use style=\"fill:#dd8452;stroke:#333333;\" x=\"107.081085\" xlink:href=\"#m9b60a42e86\" y=\"59.336741\"/>\n     <use style=\"fill:#dd8452;stroke:#333333;\" x=\"254.982684\" xlink:href=\"#m9b60a42e86\" y=\"222.991916\"/>\n     <use style=\"fill:#dd8452;stroke:#333333;\" x=\"236.135007\" xlink:href=\"#m9b60a42e86\" y=\"210.803651\"/>\n     <use style=\"fill:#dd8452;stroke:#333333;\" x=\"250.475059\" xlink:href=\"#m9b60a42e86\" y=\"183.461228\"/>\n     <use style=\"fill:#dd8452;stroke:#333333;\" x=\"133.49807\" xlink:href=\"#m9b60a42e86\" y=\"51.440421\"/>\n     <use style=\"fill:#dd8452;stroke:#333333;\" x=\"89.424337\" xlink:href=\"#m9b60a42e86\" y=\"68.390292\"/>\n     <use style=\"fill:#dd8452;stroke:#333333;\" x=\"235.925134\" xlink:href=\"#m9b60a42e86\" y=\"198.671371\"/>\n     <use style=\"fill:#dd8452;stroke:#333333;\" x=\"121.094089\" xlink:href=\"#m9b60a42e86\" y=\"88.113281\"/>\n     <use style=\"fill:#dd8452;stroke:#333333;\" x=\"126.405509\" xlink:href=\"#m9b60a42e86\" y=\"48.761886\"/>\n     <use style=\"fill:#dd8452;stroke:#333333;\" x=\"126.556057\" xlink:href=\"#m9b60a42e86\" y=\"54.710869\"/>\n     <use style=\"fill:#dd8452;stroke:#333333;\" x=\"100.093591\" xlink:href=\"#m9b60a42e86\" y=\"57.585918\"/>\n     <use style=\"fill:#dd8452;stroke:#333333;\" x=\"248.839413\" xlink:href=\"#m9b60a42e86\" y=\"213.430573\"/>\n     <use style=\"fill:#dd8452;stroke:#333333;\" x=\"250.063013\" xlink:href=\"#m9b60a42e86\" y=\"209.237279\"/>\n    </g>\n   </g>\n   <g id=\"patch_3\">\n    <path d=\"M 59.024844 239.758125 \nL 59.024844 22.318125 \n\" style=\"fill:none;stroke:#ffffff;stroke-linecap:square;stroke-linejoin:miter;stroke-width:1.25;\"/>\n   </g>\n   <g id=\"patch_4\">\n    <path d=\"M 282.224844 239.758125 \nL 282.224844 22.318125 \n\" style=\"fill:none;stroke:#ffffff;stroke-linecap:square;stroke-linejoin:miter;stroke-width:1.25;\"/>\n   </g>\n   <g id=\"patch_5\">\n    <path d=\"M 59.024844 239.758125 \nL 282.224844 239.758125 \n\" style=\"fill:none;stroke:#ffffff;stroke-linecap:square;stroke-linejoin:miter;stroke-width:1.25;\"/>\n   </g>\n   <g id=\"patch_6\">\n    <path d=\"M 59.024844 22.318125 \nL 282.224844 22.318125 \n\" style=\"fill:none;stroke:#ffffff;stroke-linecap:square;stroke-linejoin:miter;stroke-width:1.25;\"/>\n   </g>\n   <g id=\"text_14\">\n    <!-- Dataset samples -->\n    <defs>\n     <path d=\"M 19.671875 64.796875 \nL 19.671875 8.109375 \nL 31.59375 8.109375 \nQ 46.6875 8.109375 53.6875 14.9375 \nQ 60.6875 21.78125 60.6875 36.53125 \nQ 60.6875 51.171875 53.6875 57.984375 \nQ 46.6875 64.796875 31.59375 64.796875 \nz\nM 9.8125 72.90625 \nL 30.078125 72.90625 \nQ 51.265625 72.90625 61.171875 64.09375 \nQ 71.09375 55.28125 71.09375 36.53125 \nQ 71.09375 17.671875 61.125 8.828125 \nQ 51.171875 0 30.078125 0 \nL 9.8125 0 \nz\n\" id=\"DejaVuSans-68\"/>\n     <path d=\"M 34.28125 27.484375 \nQ 23.390625 27.484375 19.1875 25 \nQ 14.984375 22.515625 14.984375 16.5 \nQ 14.984375 11.71875 18.140625 8.90625 \nQ 21.296875 6.109375 26.703125 6.109375 \nQ 34.1875 6.109375 38.703125 11.40625 \nQ 43.21875 16.703125 43.21875 25.484375 \nL 43.21875 27.484375 \nz\nM 52.203125 31.203125 \nL 52.203125 0 \nL 43.21875 0 \nL 43.21875 8.296875 \nQ 40.140625 3.328125 35.546875 0.953125 \nQ 30.953125 -1.421875 24.3125 -1.421875 \nQ 15.921875 -1.421875 10.953125 3.296875 \nQ 6 8.015625 6 15.921875 \nQ 6 25.140625 12.171875 29.828125 \nQ 18.359375 34.515625 30.609375 34.515625 \nL 43.21875 34.515625 \nL 43.21875 35.40625 \nQ 43.21875 41.609375 39.140625 45 \nQ 35.0625 48.390625 27.6875 48.390625 \nQ 23 48.390625 18.546875 47.265625 \nQ 14.109375 46.140625 10.015625 43.890625 \nL 10.015625 52.203125 \nQ 14.9375 54.109375 19.578125 55.046875 \nQ 24.21875 56 28.609375 56 \nQ 40.484375 56 46.34375 49.84375 \nQ 52.203125 43.703125 52.203125 31.203125 \nz\n\" id=\"DejaVuSans-97\"/>\n     <path d=\"M 18.3125 70.21875 \nL 18.3125 54.6875 \nL 36.8125 54.6875 \nL 36.8125 47.703125 \nL 18.3125 47.703125 \nL 18.3125 18.015625 \nQ 18.3125 11.328125 20.140625 9.421875 \nQ 21.96875 7.515625 27.59375 7.515625 \nL 36.8125 7.515625 \nL 36.8125 0 \nL 27.59375 0 \nQ 17.1875 0 13.234375 3.875 \nQ 9.28125 7.765625 9.28125 18.015625 \nL 9.28125 47.703125 \nL 2.6875 47.703125 \nL 2.6875 54.6875 \nL 9.28125 54.6875 \nL 9.28125 70.21875 \nz\n\" id=\"DejaVuSans-116\"/>\n     <path d=\"M 44.28125 53.078125 \nL 44.28125 44.578125 \nQ 40.484375 46.53125 36.375 47.5 \nQ 32.28125 48.484375 27.875 48.484375 \nQ 21.1875 48.484375 17.84375 46.4375 \nQ 14.5 44.390625 14.5 40.28125 \nQ 14.5 37.15625 16.890625 35.375 \nQ 19.28125 33.59375 26.515625 31.984375 \nL 29.59375 31.296875 \nQ 39.15625 29.25 43.1875 25.515625 \nQ 47.21875 21.78125 47.21875 15.09375 \nQ 47.21875 7.46875 41.1875 3.015625 \nQ 35.15625 -1.421875 24.609375 -1.421875 \nQ 20.21875 -1.421875 15.453125 -0.5625 \nQ 10.6875 0.296875 5.421875 2 \nL 5.421875 11.28125 \nQ 10.40625 8.6875 15.234375 7.390625 \nQ 20.0625 6.109375 24.8125 6.109375 \nQ 31.15625 6.109375 34.5625 8.28125 \nQ 37.984375 10.453125 37.984375 14.40625 \nQ 37.984375 18.0625 35.515625 20.015625 \nQ 33.0625 21.96875 24.703125 23.78125 \nL 21.578125 24.515625 \nQ 13.234375 26.265625 9.515625 29.90625 \nQ 5.8125 33.546875 5.8125 39.890625 \nQ 5.8125 47.609375 11.28125 51.796875 \nQ 16.75 56 26.8125 56 \nQ 31.78125 56 36.171875 55.265625 \nQ 40.578125 54.546875 44.28125 53.078125 \nz\n\" id=\"DejaVuSans-115\"/>\n     <path d=\"M 56.203125 29.59375 \nL 56.203125 25.203125 \nL 14.890625 25.203125 \nQ 15.484375 15.921875 20.484375 11.0625 \nQ 25.484375 6.203125 34.421875 6.203125 \nQ 39.59375 6.203125 44.453125 7.46875 \nQ 49.3125 8.734375 54.109375 11.28125 \nL 54.109375 2.78125 \nQ 49.265625 0.734375 44.1875 -0.34375 \nQ 39.109375 -1.421875 33.890625 -1.421875 \nQ 20.796875 -1.421875 13.15625 6.1875 \nQ 5.515625 13.8125 5.515625 26.8125 \nQ 5.515625 40.234375 12.765625 48.109375 \nQ 20.015625 56 32.328125 56 \nQ 43.359375 56 49.78125 48.890625 \nQ 56.203125 41.796875 56.203125 29.59375 \nz\nM 47.21875 32.234375 \nQ 47.125 39.59375 43.09375 43.984375 \nQ 39.0625 48.390625 32.421875 48.390625 \nQ 24.90625 48.390625 20.390625 44.140625 \nQ 15.875 39.890625 15.1875 32.171875 \nz\n\" id=\"DejaVuSans-101\"/>\n     <path id=\"DejaVuSans-32\"/>\n     <path d=\"M 52 44.1875 \nQ 55.375 50.25 60.0625 53.125 \nQ 64.75 56 71.09375 56 \nQ 79.640625 56 84.28125 50.015625 \nQ 88.921875 44.046875 88.921875 33.015625 \nL 88.921875 0 \nL 79.890625 0 \nL 79.890625 32.71875 \nQ 79.890625 40.578125 77.09375 44.375 \nQ 74.3125 48.1875 68.609375 48.1875 \nQ 61.625 48.1875 57.5625 43.546875 \nQ 53.515625 38.921875 53.515625 30.90625 \nL 53.515625 0 \nL 44.484375 0 \nL 44.484375 32.71875 \nQ 44.484375 40.625 41.703125 44.40625 \nQ 38.921875 48.1875 33.109375 48.1875 \nQ 26.21875 48.1875 22.15625 43.53125 \nQ 18.109375 38.875 18.109375 30.90625 \nL 18.109375 0 \nL 9.078125 0 \nL 9.078125 54.6875 \nL 18.109375 54.6875 \nL 18.109375 46.1875 \nQ 21.1875 51.21875 25.484375 53.609375 \nQ 29.78125 56 35.6875 56 \nQ 41.65625 56 45.828125 52.96875 \nQ 50 49.953125 52 44.1875 \nz\n\" id=\"DejaVuSans-109\"/>\n     <path d=\"M 18.109375 8.203125 \nL 18.109375 -20.796875 \nL 9.078125 -20.796875 \nL 9.078125 54.6875 \nL 18.109375 54.6875 \nL 18.109375 46.390625 \nQ 20.953125 51.265625 25.265625 53.625 \nQ 29.59375 56 35.59375 56 \nQ 45.5625 56 51.78125 48.09375 \nQ 58.015625 40.1875 58.015625 27.296875 \nQ 58.015625 14.40625 51.78125 6.484375 \nQ 45.5625 -1.421875 35.59375 -1.421875 \nQ 29.59375 -1.421875 25.265625 0.953125 \nQ 20.953125 3.328125 18.109375 8.203125 \nz\nM 48.6875 27.296875 \nQ 48.6875 37.203125 44.609375 42.84375 \nQ 40.53125 48.484375 33.40625 48.484375 \nQ 26.265625 48.484375 22.1875 42.84375 \nQ 18.109375 37.203125 18.109375 27.296875 \nQ 18.109375 17.390625 22.1875 11.75 \nQ 26.265625 6.109375 33.40625 6.109375 \nQ 40.53125 6.109375 44.609375 11.75 \nQ 48.6875 17.390625 48.6875 27.296875 \nz\n\" id=\"DejaVuSans-112\"/>\n     <path d=\"M 9.421875 75.984375 \nL 18.40625 75.984375 \nL 18.40625 0 \nL 9.421875 0 \nz\n\" id=\"DejaVuSans-108\"/>\n    </defs>\n    <g style=\"fill:#262626;\" transform=\"translate(120.282031 16.318125)scale(0.12 -0.12)\">\n     <use xlink:href=\"#DejaVuSans-68\"/>\n     <use x=\"77.001953\" xlink:href=\"#DejaVuSans-97\"/>\n     <use x=\"138.28125\" xlink:href=\"#DejaVuSans-116\"/>\n     <use x=\"177.490234\" xlink:href=\"#DejaVuSans-97\"/>\n     <use x=\"238.769531\" xlink:href=\"#DejaVuSans-115\"/>\n     <use x=\"290.869141\" xlink:href=\"#DejaVuSans-101\"/>\n     <use x=\"352.392578\" xlink:href=\"#DejaVuSans-116\"/>\n     <use x=\"391.601562\" xlink:href=\"#DejaVuSans-32\"/>\n     <use x=\"423.388672\" xlink:href=\"#DejaVuSans-115\"/>\n     <use x=\"475.488281\" xlink:href=\"#DejaVuSans-97\"/>\n     <use x=\"536.767578\" xlink:href=\"#DejaVuSans-109\"/>\n     <use x=\"634.179688\" xlink:href=\"#DejaVuSans-112\"/>\n     <use x=\"697.65625\" xlink:href=\"#DejaVuSans-108\"/>\n     <use x=\"725.439453\" xlink:href=\"#DejaVuSans-101\"/>\n     <use x=\"786.962891\" xlink:href=\"#DejaVuSans-115\"/>\n    </g>\n   </g>\n   <g id=\"legend_1\">\n    <g id=\"patch_7\">\n     <path d=\"M 199.891562 148.834063 \nL 274.524844 148.834063 \nQ 276.724844 148.834063 276.724844 146.634063 \nL 276.724844 115.442187 \nQ 276.724844 113.242188 274.524844 113.242188 \nL 199.891562 113.242188 \nQ 197.691562 113.242188 197.691562 115.442187 \nL 197.691562 146.634063 \nQ 197.691562 148.834063 199.891562 148.834063 \nz\n\" style=\"fill:#eaeaf2;opacity:0.8;stroke:#cccccc;stroke-linejoin:miter;\"/>\n    </g>\n    <g id=\"PathCollection_3\">\n     <g>\n      <use style=\"fill:#4c72b0;stroke:#333333;\" x=\"213.091562\" xlink:href=\"#md6b5b78243\" y=\"123.112969\"/>\n     </g>\n    </g>\n    <g id=\"text_15\">\n     <!-- Class 0 -->\n     <defs>\n      <path d=\"M 64.40625 67.28125 \nL 64.40625 56.890625 \nQ 59.421875 61.53125 53.78125 63.8125 \nQ 48.140625 66.109375 41.796875 66.109375 \nQ 29.296875 66.109375 22.65625 58.46875 \nQ 16.015625 50.828125 16.015625 36.375 \nQ 16.015625 21.96875 22.65625 14.328125 \nQ 29.296875 6.6875 41.796875 6.6875 \nQ 48.140625 6.6875 53.78125 8.984375 \nQ 59.421875 11.28125 64.40625 15.921875 \nL 64.40625 5.609375 \nQ 59.234375 2.09375 53.4375 0.328125 \nQ 47.65625 -1.421875 41.21875 -1.421875 \nQ 24.65625 -1.421875 15.125 8.703125 \nQ 5.609375 18.84375 5.609375 36.375 \nQ 5.609375 53.953125 15.125 64.078125 \nQ 24.65625 74.21875 41.21875 74.21875 \nQ 47.75 74.21875 53.53125 72.484375 \nQ 59.328125 70.75 64.40625 67.28125 \nz\n\" id=\"DejaVuSans-67\"/>\n     </defs>\n     <g style=\"fill:#262626;\" transform=\"translate(232.891562 126.000469)scale(0.11 -0.11)\">\n      <use xlink:href=\"#DejaVuSans-67\"/>\n      <use x=\"69.824219\" xlink:href=\"#DejaVuSans-108\"/>\n      <use x=\"97.607422\" xlink:href=\"#DejaVuSans-97\"/>\n      <use x=\"158.886719\" xlink:href=\"#DejaVuSans-115\"/>\n      <use x=\"210.986328\" xlink:href=\"#DejaVuSans-115\"/>\n      <use x=\"263.085938\" xlink:href=\"#DejaVuSans-32\"/>\n      <use x=\"294.873047\" xlink:href=\"#DejaVuSans-48\"/>\n     </g>\n    </g>\n    <g id=\"PathCollection_4\">\n     <g>\n      <use style=\"fill:#dd8452;stroke:#333333;\" x=\"213.091562\" xlink:href=\"#m9b60a42e86\" y=\"139.258906\"/>\n     </g>\n    </g>\n    <g id=\"text_16\">\n     <!-- Class 1 -->\n     <g style=\"fill:#262626;\" transform=\"translate(232.891562 142.146406)scale(0.11 -0.11)\">\n      <use xlink:href=\"#DejaVuSans-67\"/>\n      <use x=\"69.824219\" xlink:href=\"#DejaVuSans-108\"/>\n      <use x=\"97.607422\" xlink:href=\"#DejaVuSans-97\"/>\n      <use x=\"158.886719\" xlink:href=\"#DejaVuSans-115\"/>\n      <use x=\"210.986328\" xlink:href=\"#DejaVuSans-115\"/>\n      <use x=\"263.085938\" xlink:href=\"#DejaVuSans-32\"/>\n      <use x=\"294.873047\" xlink:href=\"#DejaVuSans-49\"/>\n     </g>\n    </g>\n   </g>\n  </g>\n </g>\n <defs>\n  <clipPath id=\"p65b1cf50c4\">\n   <rect height=\"217.44\" width=\"223.2\" x=\"59.024844\" y=\"22.318125\"/>\n  </clipPath>\n </defs>\n</svg>\n",
            "application/pdf": "[encoded data removed]"
          },
          "metadata": {}
        }
      ]
    },
    {
      "cell_type": "markdown",
      "metadata": {
        "id": "HfIuq17Hep7W"
      },
      "source": [
        "#### The data loader class\n",
        "\n",
        "The class `torch.utils.data.DataLoader` represents a Python iterable over a dataset with support for automatic batching, multi-process data loading and many more features. The data loader communicates with the dataset using the function `__getitem__`, and stacks its outputs as tensors over the first dimension to form a batch.\n",
        "In contrast to the dataset class, we usually don't have to define our own data loader class, but can just create an object of it with the dataset as input. Additionally, we can configure our data loader with the following input arguments (only a selection, see full list [here](https://pytorch.org/docs/stable/data.html#torch.utils.data.DataLoader)):\n",
        "\n",
        "* `batch_size`: Number of samples to stack per batch\n",
        "* `shuffle`: If True, the data is returned in a random order. This is important during training for introducing stochasticity. \n",
        "* `num_workers`: Number of subprocesses to use for data loading. The default, 0, means that the data will be loaded in the main process which can slow down training for datasets where loading a data point takes a considerable amount of time (e.g. large images). More workers are recommended for those, but can cause issues on Windows computers. For tiny datasets as ours, 0 workers are usually faster.\n",
        "* `pin_memory`: If True, the data loader will copy Tensors into CUDA pinned memory before returning them. This can save some time for large data points on GPUs. Usually a good practice to use for a training set, but not necessarily for validation and test to save memory on the GPU.\n",
        "* `drop_last`: If True, the last batch is dropped in case it is smaller than the specified batch size. This occurs when the dataset size is not a multiple of the batch size. Only potentially helpful during training to keep a consistent batch size.\n",
        "\n",
        "Let's create a simple data loader below:"
      ]
    },
    {
      "cell_type": "code",
      "metadata": {
        "id": "69dTqF6nep7W"
      },
      "source": [
        "data_loader = data.DataLoader(dataset, batch_size=8, shuffle=True)"
      ],
      "execution_count": 687,
      "outputs": []
    },
    {
      "cell_type": "code",
      "metadata": {
        "id": "UzANHtyjep7W",
        "colab": {
          "base_uri": "https://localhost:8080/"
        },
        "outputId": "5d46aec5-de7c-477b-9f74-259efd4d6dda"
      },
      "source": [
        "# next(iter(...)) catches the first batch of the data loader\n",
        "# If shuffle is True, this will return a different batch every time we run this cell\n",
        "# For iterating over the whole dataset, we can simple use \"for batch in data_loader: ...\"\n",
        "data_inputs, data_labels = next(iter(data_loader))\n",
        "\n",
        "# The shape of the outputs are [batch_size, d_1,...,d_N] where d_1,...,d_N are the \n",
        "# dimensions of the data point returned from the dataset class\n",
        "print(\"Data inputs\", data_inputs.shape, \"\\n\", data_inputs)\n",
        "print(\"Data labels\", data_labels.shape, \"\\n\", data_labels)"
      ],
      "execution_count": 688,
      "outputs": [
        {
          "output_type": "stream",
          "name": "stdout",
          "text": [
            "Data inputs torch.Size([8, 2]) \n",
            " tensor([[ 0.1374,  1.0702],\n",
            "        [ 0.9435,  0.8533],\n",
            "        [ 0.9797, -0.0019],\n",
            "        [ 0.0976,  0.8198],\n",
            "        [ 0.0264, -0.0319],\n",
            "        [ 1.1346, -0.0023],\n",
            "        [ 0.0313,  0.9780],\n",
            "        [ 0.9109, -0.2090]])\n",
            "Data labels torch.Size([8]) \n",
            " tensor([1, 0, 1, 1, 0, 1, 1, 1])\n"
          ]
        }
      ]
    },
    {
      "cell_type": "markdown",
      "metadata": {
        "id": "ri2ZYrKYep7W"
      },
      "source": [
        "### Optimization\n",
        "\n",
        "After defining the model and the dataset, it is time to prepare the optimization of the model. During training, we will perform the following steps:\n",
        "\n",
        "1. Get a batch from the data loader\n",
        "2. Obtain the predictions from the model for the batch\n",
        "3. Calculate the loss based on the difference between predictions and labels\n",
        "4. Backpropagation: calculate the gradients for every parameter with respect to the loss\n",
        "5. Update the parameters of the model in the direction of the gradients\n",
        "\n",
        "We have seen how we can do step 1, 2 and 4 in PyTorch. Now, we will look at step 3 and 5."
      ]
    },
    {
      "cell_type": "markdown",
      "metadata": {
        "id": "JNVaX9zdep7X"
      },
      "source": [
        "#### Loss modules\n",
        "\n",
        "We can calculate the loss for a batch by simply performing a few tensor operations as those are automatically added to the computation graph. For instance, for binary classification, we can use Binary Cross Entropy (BCE) which is defined as follows:\n",
        "\n",
        "$$\\mathcal{L}_{BCE} = \\sum_i y_i \\log x_i + (1 - y_i) \\log (1 - x_i)$$\n",
        "\n",
        "where $y$ are our labels, and $x$ our predictions, both in the range of $[0,1]$. However, PyTorch already provides a list of predefined loss functions which we can use (see [here](https://pytorch.org/docs/stable/nn.html#loss-functions) for a full list). For instance, for BCE, PyTorch has two modules: `nn.BCELoss()`, `nn.BCEWithLogitsLoss()`. While `nn.BCELoss` expects the inputs $x$ to be in the range $[0,1]$, i.e. the output of a sigmoid, `nn.BCEWithLogitsLoss` combines a sigmoid layer and the BCE loss in a single class. This version is numerically more stable than using a plain Sigmoid followed by a BCE loss because of the logarithms applied in the loss function. Hence, it is adviced to use loss functions applied on \"logits\" where possible (remember to not apply a sigmoid on the output of the model in this case!). For our model defined above, we therefore use the module `nn.BCEWithLogitsLoss`. "
      ]
    },
    {
      "cell_type": "code",
      "metadata": {
        "id": "oXG4TCzzep7X"
      },
      "source": [
        "loss_module = nn.BCEWithLogitsLoss()"
      ],
      "execution_count": 689,
      "outputs": []
    },
    {
      "cell_type": "markdown",
      "metadata": {
        "id": "Ppf_qrxAep7X"
      },
      "source": [
        "#### Stochastic Gradient Descent\n",
        "\n",
        "For updating the parameters, PyTorch provides the package `torch.optim` that has most popular optimizers implemented. We will discuss the specific optimizers and their differences later in the course, but will for now use the simplest of them: `torch.optim.SGD`. Stochastic Gradient Descent updates parameters by multiplying the gradients with a small constant, called learning rate, and subtracting those from the parameters (hence minimizing the loss). Therefore, we slowly move towards the direction of minimizing the loss. A good default value of the learning rate for a small network as ours is 0.1. "
      ]
    },
    {
      "cell_type": "code",
      "metadata": {
        "id": "pt45FV38ep7X"
      },
      "source": [
        "# Input to the optimizer are the parameters of the model: model.parameters()\n",
        "optimizer = torch.optim.SGD(model.parameters(), lr=0.1)"
      ],
      "execution_count": 690,
      "outputs": []
    },
    {
      "cell_type": "markdown",
      "metadata": {
        "id": "gLrz9YoCep7Z"
      },
      "source": [
        "The optimizer provides two useful functions: `optimizer.step()`, and `optimizer.zero_grad()`. The step function updates the parameters based on the gradients as explained above. The function `optimizer.zero_grad()` sets the gradients of all parameters to zero. While this function seems less relevant at first, it is a crucial pre-step before performing backpropagation. If we would call the `backward` function on the loss while the parameter gradients are non-zero from the previous batch, the new gradients would actually be added to the previous ones instead of overwriting them. This is done because a parameter might occur multiple times in a computation graph, and we need to sum the gradients in this case instead of replacing them. Hence, remember to call `optimizer.zero_grad()` before calculating the gradients of a batch."
      ]
    },
    {
      "cell_type": "markdown",
      "metadata": {
        "id": "Ut-shwNTep7Z"
      },
      "source": [
        "### Training\n",
        "\n",
        "Finally, we are ready to train our model. As a first step, we create a slightly larger dataset and specify a data loader with a larger batch size. "
      ]
    },
    {
      "cell_type": "code",
      "metadata": {
        "id": "TE1_H5xQep7Z"
      },
      "source": [
        "train_dataset = XORDataset(size=1000)\n",
        "train_data_loader = data.DataLoader(train_dataset, batch_size=128, shuffle=True)"
      ],
      "execution_count": 691,
      "outputs": []
    },
    {
      "cell_type": "markdown",
      "metadata": {
        "id": "JOyCo5Ydep7Z"
      },
      "source": [
        "Now, we can write a small training function. Remember our five steps: load a batch, obtain the predictions, calculate the loss, backpropagate, and update. Additionally, we have to push all data and model parameters to the device of our choice (GPU if available). For the tiny neural network we have, communicating the data to the GPU actually takes much more time than we could save from running the operation on GPU. For large networks, the communication time is significantly smaller than the actual runtime making a GPU crucial in these cases. Still, to practice, we will push the data to GPU here. "
      ]
    },
    {
      "cell_type": "code",
      "metadata": {
        "id": "-gt0u6eOep7Z",
        "colab": {
          "base_uri": "https://localhost:8080/"
        },
        "outputId": "2a2202ec-c5e0-418a-978b-7d1f1b357f4f"
      },
      "source": [
        "# Push model to device. Has to be only done once\n",
        "model.to(device)"
      ],
      "execution_count": 692,
      "outputs": [
        {
          "output_type": "execute_result",
          "data": {
            "text/plain": [
              "SimpleClassifier(\n",
              "  (linear1): Linear(in_features=2, out_features=1, bias=True)\n",
              "  (linear2): Linear(in_features=1, out_features=2, bias=True)\n",
              "  (act_fn): Tanh()\n",
              ")"
            ]
          },
          "metadata": {},
          "execution_count": 692
        }
      ]
    },
    {
      "cell_type": "markdown",
      "metadata": {
        "id": "XL2d4Nbvep7a"
      },
      "source": [
        "In addition, we set our model to training mode. This is done by calling `model.train()`. There exist certain modules that need to perform a different forward step during training than during testing (e.g. BatchNorm and Dropout), and we can switch between them using `model.train()` and `model.eval()`."
      ]
    },
    {
      "cell_type": "code",
      "metadata": {
        "id": "NYkwm_uHep7a"
      },
      "source": [
        "def train_model(model, optimizer, data_loader, loss_module, num_epochs=100):\n",
        "    # Set model to train mode\n",
        "    model.train() \n",
        "    \n",
        "    # Training loop\n",
        "    for epoch in tqdm(range(num_epochs)):\n",
        "        for data_inputs, data_labels in data_loader:\n",
        "            optimizer.zero_grad()\n",
        "            ## TODO: Step 1 - Move input data to device\n",
        "            data_inputs, data_labels = data_inputs.to(device), data_labels.to(device)\n",
        "            \n",
        "            ## TODO: Step 2 - Run the model on the input data\n",
        "            preds = model(data_inputs)\n",
        "            \n",
        "            ## TODO: Step 3 - Calculate the loss using the module loss_module\n",
        "            data_labels = torch.nn.functional.one_hot(data_labels)\n",
        "            loss = loss_module(preds,data_labels.float())\n",
        "            \n",
        "            ## TODO: Step 4 - Perform backpropagation\n",
        "            loss.backward()\n",
        "            \n",
        "            ## TODO: Step 5 - Update parameters\n",
        "            \n",
        "            optimizer.step()\n"
      ],
      "execution_count": 704,
      "outputs": []
    },
    {
      "cell_type": "code",
      "metadata": {
        "id": "DdgkOZeSep7a",
        "colab": {
          "base_uri": "https://localhost:8080/",
          "height": 49,
          "referenced_widgets": [
            "cb479b0c261c450b89fc4dc9ed4c30f4",
            "41e5857508ea43699933b7675869e9f7",
            "2c636d6e033447ffa7a7beab4d18fa09",
            "b8741e0a65d54f3aa412207f72d70598",
            "4158dbb0df8b4a23bf464cb97d23d5b0",
            "085141d2b8444f2b940a825ff872d9b4",
            "be94940140e94271a6c6cab3f6947109",
            "d10f9e12f0bd4cd9bfc9c5d14d64c37b",
            "6982aa1eebfa4ff9bb044ae721c0128e",
            "a1be59d7f85d442f81ec468951d796f0",
            "5d817427f181408e83f709389232b251"
          ]
        },
        "outputId": "39a582fb-cf44-4f52-f64b-b1c536d29b39"
      },
      "source": [
        "train_model(model, optimizer, train_data_loader, loss_module)"
      ],
      "execution_count": 705,
      "outputs": [
        {
          "output_type": "display_data",
          "data": {
            "text/plain": [
              "  0%|          | 0/100 [00:00<?, ?it/s]"
            ],
            "application/vnd.jupyter.widget-view+json": {
              "version_major": 2,
              "version_minor": 0,
              "model_id": "cb479b0c261c450b89fc4dc9ed4c30f4"
            }
          },
          "metadata": {}
        }
      ]
    },
    {
      "cell_type": "markdown",
      "metadata": {
        "id": "TlhRpD78ep7b"
      },
      "source": [
        "#### Saving a model\n",
        "\n",
        "After finish training a model, we save the model to disk so that we can load the same weights at a later time. For this, we extract the so-called `state_dict` from the model which contains all learnable parameters. For our simple model, the state dict contains the following entries:"
      ]
    },
    {
      "cell_type": "code",
      "metadata": {
        "id": "GULIMB3Aep7b",
        "colab": {
          "base_uri": "https://localhost:8080/"
        },
        "outputId": "d129ab34-278a-4645-ade0-18ab9b152695"
      },
      "source": [
        "state_dict = model.state_dict()\n",
        "print(state_dict)"
      ],
      "execution_count": 695,
      "outputs": [
        {
          "output_type": "stream",
          "name": "stdout",
          "text": [
            "OrderedDict([('linear1.weight', tensor([[-0.0274, -0.0072]], device='cuda:0')), ('linear1.bias', tensor([-0.0967], device='cuda:0')), ('linear2.weight', tensor([[-0.7429],\n",
            "        [-0.7543]], device='cuda:0')), ('linear2.bias', tensor([-0.0626, -0.1112], device='cuda:0'))])\n"
          ]
        }
      ]
    },
    {
      "cell_type": "markdown",
      "metadata": {
        "id": "ACD_5isAep7c"
      },
      "source": [
        "To save the state dictionary, we can use `torch.save`:"
      ]
    },
    {
      "cell_type": "code",
      "metadata": {
        "id": "EDxJI30Wep7c"
      },
      "source": [
        "# torch.save(object, filename). For the filename, any extension can be used\n",
        "torch.save(state_dict, \"our_model.tar\")"
      ],
      "execution_count": 696,
      "outputs": []
    },
    {
      "cell_type": "markdown",
      "metadata": {
        "id": "iBuaMMnYep7d"
      },
      "source": [
        "To load a model from a state dict, we use the function `torch.load` to load the state dict from the disk, and the module function `load_state_dict` to overwrite our parameters with the new values:"
      ]
    },
    {
      "cell_type": "code",
      "metadata": {
        "id": "NuIG3uGOep7f",
        "colab": {
          "base_uri": "https://localhost:8080/"
        },
        "outputId": "a263ef3d-0503-4768-8090-cc9d0c857e69"
      },
      "source": [
        "# Load state dict from the disk (make sure it is the same name as above)\n",
        "state_dict = torch.load(\"our_model.tar\")\n",
        "\n",
        "# Create a new model and load the state\n",
        "new_model = SimpleClassifier(num_inputs=2, num_hidden=4, num_outputs=1)\n",
        "new_model.load_state_dict(state_dict)\n",
        "\n",
        "# Verify that the parameters are the same\n",
        "print(\"Original model\\n\", model.state_dict())\n",
        "print(\"\\nLoaded model\\n\", new_model.state_dict())"
      ],
      "execution_count": 697,
      "outputs": [
        {
          "output_type": "stream",
          "name": "stdout",
          "text": [
            "Original model\n",
            " OrderedDict([('linear1.weight', tensor([[-0.0274, -0.0072]], device='cuda:0')), ('linear1.bias', tensor([-0.0967], device='cuda:0')), ('linear2.weight', tensor([[-0.7429],\n",
            "        [-0.7543]], device='cuda:0')), ('linear2.bias', tensor([-0.0626, -0.1112], device='cuda:0'))])\n",
            "\n",
            "Loaded model\n",
            " OrderedDict([('linear1.weight', tensor([[-0.0274, -0.0072]])), ('linear1.bias', tensor([-0.0967])), ('linear2.weight', tensor([[-0.7429],\n",
            "        [-0.7543]])), ('linear2.bias', tensor([-0.0626, -0.1112]))])\n"
          ]
        }
      ]
    },
    {
      "cell_type": "markdown",
      "metadata": {
        "id": "7olm7rCCep7f"
      },
      "source": [
        "A detailed tutorial on saving and loading models in PyTorch can be found [here](https://pytorch.org/tutorials/beginner/saving_loading_models.html)."
      ]
    },
    {
      "cell_type": "markdown",
      "metadata": {
        "id": "AD8u-zxmep7f"
      },
      "source": [
        "### Evaluation\n",
        "\n",
        "Once we have trained a model, it is time to evaluate it on a held-out test set. As our dataset consist of randomly generated data points, we need to first create a test set with a corresponding data loader."
      ]
    },
    {
      "cell_type": "code",
      "metadata": {
        "id": "aqQa1Ahdep7f"
      },
      "source": [
        "test_dataset = XORDataset(size=500)\n",
        "# drop_last -> Don't drop the last batch although it is smaller than 128\n",
        "test_data_loader = data.DataLoader(test_dataset, batch_size=128, shuffle=False, drop_last=False) "
      ],
      "execution_count": 698,
      "outputs": []
    },
    {
      "cell_type": "markdown",
      "metadata": {
        "id": "Gu13bT0iep7g"
      },
      "source": [
        "As metric, we will use accuracy which is calculated as follows:\n",
        "\n",
        "$$acc = \\frac{\\#\\text{correct predictions}}{\\#\\text{all predictions}} = \\frac{TP+TN}{TP+TN+FP+FN}$$\n",
        "\n",
        "where TP are the true positives, TN true negatives, FP false positives, and FN the fale negatives. \n",
        "\n",
        "When evaluating the model, we don't need to keep track of the computation graph as we don't intend to calculate the gradients. This reduces the required memory and speed up the model. In PyTorch, we can deactivate the computation graph using `with torch.no_grad(): ...`. Remember to additionally set the model to eval mode."
      ]
    },
    {
      "cell_type": "code",
      "metadata": {
        "id": "NX-GBbQPep7g"
      },
      "source": [
        "def eval_model(model, data_loader):\n",
        "    model.eval() # Set model to eval mode\n",
        "    true_preds, num_preds = 0., 0.\n",
        "    \n",
        "    with torch.no_grad(): # Deactivate gradients for the following code\n",
        "        for data_inputs, data_labels in data_loader:\n",
        "            \n",
        "            ## TODO: Step 1 - Move data to device\n",
        "            data_inputs, data_labels = data_inputs.to(device), data_labels.to(device)\n",
        "            \n",
        "            ## TODO: Step 2 - Run the model on the input data\n",
        "            preds = model(data_inputs)\n",
        "            \n",
        "            ## TODO: Step 3 - Determine binary predictions of the model\n",
        "            _, pred_labels = torch.max(preds.data, 1)\n",
        "            \n",
        "            ## TODO: Step 4 - Keep records of predictions for the accuracy metric (true_preds=TP+TN, num_preds=TP+TN+FP+FN)\n",
        "            true_preds += (pred_labels == data_labels).sum().item()\n",
        "            num_preds += data_labels.size(0)\n",
        "            \n",
        "    acc = true_preds / num_preds\n",
        "    print(\"Accuracy of the model: %4.2f%%\" % (100.0*acc))"
      ],
      "execution_count": 699,
      "outputs": []
    },
    {
      "cell_type": "code",
      "metadata": {
        "id": "xnujzPkmep7h",
        "colab": {
          "base_uri": "https://localhost:8080/"
        },
        "outputId": "fdb9e5d6-0093-4919-9766-80703d22d8f0"
      },
      "source": [
        "eval_model(model, test_data_loader)"
      ],
      "execution_count": 700,
      "outputs": [
        {
          "output_type": "stream",
          "name": "stdout",
          "text": [
            "Accuracy of the model: 50.00%\n"
          ]
        }
      ]
    },
    {
      "cell_type": "markdown",
      "metadata": {
        "id": "0qmwrS2mep7h"
      },
      "source": [
        "If we trained our model correctly, we should see a score close to 100% accuracy. However, this is only possible because of our simple task, and unfortunately, we usually don't get such high scores on test sets of more complex tasks."
      ]
    },
    {
      "cell_type": "markdown",
      "metadata": {
        "id": "rv6ZxyhPep7i"
      },
      "source": [
        "#### Visualizing classification boundaries\n",
        "\n",
        "To visualize what our model has learned, we can perform a prediction for every data point in a range of $[-0.5, 1.5]$, and visualize the predicted class as in the sample figure at the beginning of this section. This shows where the model has created decision boundaries, and which points would be classified as $0$, and which as $1$. We therefore get a background image out of blue (class 0) and orange (class 1). The spots where the model is uncertain we will see a blurry overlap. The specific code is less relevant compared to the output figure which should hopefully show us a clear separation of classes:"
      ]
    },
    {
      "cell_type": "code",
      "metadata": {
        "id": "GgXFiRspep7i",
        "colab": {
          "base_uri": "https://localhost:8080/",
          "height": 757
        },
        "outputId": "955c5043-a526-4ca3-f0ca-f8cb6a362985"
      },
      "source": [
        "@torch.no_grad() # Decorator, same effect as \"with torch.no_grad(): ...\" over the whole function.\n",
        "def visualize_classification(model, data, label):\n",
        "    if isinstance(data, torch.Tensor):\n",
        "        data = data.cpu().numpy()\n",
        "    if isinstance(label, torch.Tensor):\n",
        "        label = label.cpu().numpy()\n",
        "    data_0 = data[label == 0]\n",
        "    data_1 = data[label == 1]\n",
        "    \n",
        "    plt.figure(figsize=(4,4))\n",
        "    plt.scatter(data_0[:,0], data_0[:,1], edgecolor=\"#333\", label=\"Class 0\")\n",
        "    plt.scatter(data_1[:,0], data_1[:,1], edgecolor=\"#333\", label=\"Class 1\")\n",
        "    plt.title(\"Dataset samples\")\n",
        "    plt.ylabel(r\"$x_2$\")\n",
        "    plt.xlabel(r\"$x_1$\")\n",
        "    plt.legend()\n",
        "    \n",
        "    # Let's make use of a lot of operations we have learned above\n",
        "    model.to(device)\n",
        "    c0 = torch.Tensor(to_rgba(\"C0\")).to(device)\n",
        "    c1 = torch.Tensor(to_rgba(\"C1\")).to(device)\n",
        "    x1 = torch.arange(-0.5, 1.5, step=0.01, device=device)\n",
        "    x2 = torch.arange(-0.5, 1.5, step=0.01, device=device)\n",
        "    xx1, xx2 = torch.meshgrid(x1, x2) # Meshgrid function as in numpy\n",
        "    model_inputs = torch.stack([xx1, xx2], dim=-1)\n",
        "    preds = model(model_inputs)\n",
        "    preds = torch.sigmoid(preds)\n",
        "    output_image = preds * c0[None,None] + (1 - preds) * c1[None,None] # Specifying \"None\" in a dimension creates a new one\n",
        "    output_image = output_image.cpu().numpy() # Convert to numpy array. This only works for tensors on CPU, hence first push to CPU\n",
        "    plt.imshow(output_image, origin='upper', extent=(-0.5, 1.5, -0.5, 1.5))\n",
        "    plt.grid(False)\n",
        "\n",
        "visualize_classification(model, dataset.data, dataset.label)\n",
        "plt.show()"
      ],
      "execution_count": 701,
      "outputs": [
        {
          "output_type": "error",
          "ename": "RuntimeError",
          "evalue": "ignored",
          "traceback": [
            "\u001b[0;31m---------------------------------------------------------------------------\u001b[0m",
            "\u001b[0;31mRuntimeError\u001b[0m                              Traceback (most recent call last)",
            "\u001b[0;32m<ipython-input-701-f662ae606232>\u001b[0m in \u001b[0;36m<module>\u001b[0;34m()\u001b[0m\n\u001b[1;32m     31\u001b[0m     \u001b[0mplt\u001b[0m\u001b[0;34m.\u001b[0m\u001b[0mgrid\u001b[0m\u001b[0;34m(\u001b[0m\u001b[0;32mFalse\u001b[0m\u001b[0;34m)\u001b[0m\u001b[0;34m\u001b[0m\u001b[0;34m\u001b[0m\u001b[0m\n\u001b[1;32m     32\u001b[0m \u001b[0;34m\u001b[0m\u001b[0m\n\u001b[0;32m---> 33\u001b[0;31m \u001b[0mvisualize_classification\u001b[0m\u001b[0;34m(\u001b[0m\u001b[0mmodel\u001b[0m\u001b[0;34m,\u001b[0m \u001b[0mdataset\u001b[0m\u001b[0;34m.\u001b[0m\u001b[0mdata\u001b[0m\u001b[0;34m,\u001b[0m \u001b[0mdataset\u001b[0m\u001b[0;34m.\u001b[0m\u001b[0mlabel\u001b[0m\u001b[0;34m)\u001b[0m\u001b[0;34m\u001b[0m\u001b[0;34m\u001b[0m\u001b[0m\n\u001b[0m\u001b[1;32m     34\u001b[0m \u001b[0mplt\u001b[0m\u001b[0;34m.\u001b[0m\u001b[0mshow\u001b[0m\u001b[0;34m(\u001b[0m\u001b[0;34m)\u001b[0m\u001b[0;34m\u001b[0m\u001b[0;34m\u001b[0m\u001b[0m\n",
            "\u001b[0;32m/usr/local/lib/python3.7/dist-packages/torch/autograd/grad_mode.py\u001b[0m in \u001b[0;36mdecorate_context\u001b[0;34m(*args, **kwargs)\u001b[0m\n\u001b[1;32m     25\u001b[0m         \u001b[0;32mdef\u001b[0m \u001b[0mdecorate_context\u001b[0m\u001b[0;34m(\u001b[0m\u001b[0;34m*\u001b[0m\u001b[0margs\u001b[0m\u001b[0;34m,\u001b[0m \u001b[0;34m**\u001b[0m\u001b[0mkwargs\u001b[0m\u001b[0;34m)\u001b[0m\u001b[0;34m:\u001b[0m\u001b[0;34m\u001b[0m\u001b[0;34m\u001b[0m\u001b[0m\n\u001b[1;32m     26\u001b[0m             \u001b[0;32mwith\u001b[0m \u001b[0mself\u001b[0m\u001b[0;34m.\u001b[0m\u001b[0mclone\u001b[0m\u001b[0;34m(\u001b[0m\u001b[0;34m)\u001b[0m\u001b[0;34m:\u001b[0m\u001b[0;34m\u001b[0m\u001b[0;34m\u001b[0m\u001b[0m\n\u001b[0;32m---> 27\u001b[0;31m                 \u001b[0;32mreturn\u001b[0m \u001b[0mfunc\u001b[0m\u001b[0;34m(\u001b[0m\u001b[0;34m*\u001b[0m\u001b[0margs\u001b[0m\u001b[0;34m,\u001b[0m \u001b[0;34m**\u001b[0m\u001b[0mkwargs\u001b[0m\u001b[0;34m)\u001b[0m\u001b[0;34m\u001b[0m\u001b[0;34m\u001b[0m\u001b[0m\n\u001b[0m\u001b[1;32m     28\u001b[0m         \u001b[0;32mreturn\u001b[0m \u001b[0mcast\u001b[0m\u001b[0;34m(\u001b[0m\u001b[0mF\u001b[0m\u001b[0;34m,\u001b[0m \u001b[0mdecorate_context\u001b[0m\u001b[0;34m)\u001b[0m\u001b[0;34m\u001b[0m\u001b[0;34m\u001b[0m\u001b[0m\n\u001b[1;32m     29\u001b[0m \u001b[0;34m\u001b[0m\u001b[0m\n",
            "\u001b[0;32m<ipython-input-701-f662ae606232>\u001b[0m in \u001b[0;36mvisualize_classification\u001b[0;34m(model, data, label)\u001b[0m\n\u001b[1;32m     26\u001b[0m     \u001b[0mpreds\u001b[0m \u001b[0;34m=\u001b[0m \u001b[0mmodel\u001b[0m\u001b[0;34m(\u001b[0m\u001b[0mmodel_inputs\u001b[0m\u001b[0;34m)\u001b[0m\u001b[0;34m\u001b[0m\u001b[0;34m\u001b[0m\u001b[0m\n\u001b[1;32m     27\u001b[0m     \u001b[0mpreds\u001b[0m \u001b[0;34m=\u001b[0m \u001b[0mtorch\u001b[0m\u001b[0;34m.\u001b[0m\u001b[0msigmoid\u001b[0m\u001b[0;34m(\u001b[0m\u001b[0mpreds\u001b[0m\u001b[0;34m)\u001b[0m\u001b[0;34m\u001b[0m\u001b[0;34m\u001b[0m\u001b[0m\n\u001b[0;32m---> 28\u001b[0;31m     \u001b[0moutput_image\u001b[0m \u001b[0;34m=\u001b[0m \u001b[0mpreds\u001b[0m \u001b[0;34m*\u001b[0m \u001b[0mc0\u001b[0m\u001b[0;34m[\u001b[0m\u001b[0;32mNone\u001b[0m\u001b[0;34m,\u001b[0m\u001b[0;32mNone\u001b[0m\u001b[0;34m]\u001b[0m \u001b[0;34m+\u001b[0m \u001b[0;34m(\u001b[0m\u001b[0;36m1\u001b[0m \u001b[0;34m-\u001b[0m \u001b[0mpreds\u001b[0m\u001b[0;34m)\u001b[0m \u001b[0;34m*\u001b[0m \u001b[0mc1\u001b[0m\u001b[0;34m[\u001b[0m\u001b[0;32mNone\u001b[0m\u001b[0;34m,\u001b[0m\u001b[0;32mNone\u001b[0m\u001b[0;34m]\u001b[0m \u001b[0;31m# Specifying \"None\" in a dimension creates a new one\u001b[0m\u001b[0;34m\u001b[0m\u001b[0;34m\u001b[0m\u001b[0m\n\u001b[0m\u001b[1;32m     29\u001b[0m     \u001b[0moutput_image\u001b[0m \u001b[0;34m=\u001b[0m \u001b[0moutput_image\u001b[0m\u001b[0;34m.\u001b[0m\u001b[0mcpu\u001b[0m\u001b[0;34m(\u001b[0m\u001b[0;34m)\u001b[0m\u001b[0;34m.\u001b[0m\u001b[0mnumpy\u001b[0m\u001b[0;34m(\u001b[0m\u001b[0;34m)\u001b[0m \u001b[0;31m# Convert to numpy array. This only works for tensors on CPU, hence first push to CPU\u001b[0m\u001b[0;34m\u001b[0m\u001b[0;34m\u001b[0m\u001b[0m\n\u001b[1;32m     30\u001b[0m     \u001b[0mplt\u001b[0m\u001b[0;34m.\u001b[0m\u001b[0mimshow\u001b[0m\u001b[0;34m(\u001b[0m\u001b[0moutput_image\u001b[0m\u001b[0;34m,\u001b[0m \u001b[0morigin\u001b[0m\u001b[0;34m=\u001b[0m\u001b[0;34m'upper'\u001b[0m\u001b[0;34m,\u001b[0m \u001b[0mextent\u001b[0m\u001b[0;34m=\u001b[0m\u001b[0;34m(\u001b[0m\u001b[0;34m-\u001b[0m\u001b[0;36m0.5\u001b[0m\u001b[0;34m,\u001b[0m \u001b[0;36m1.5\u001b[0m\u001b[0;34m,\u001b[0m \u001b[0;34m-\u001b[0m\u001b[0;36m0.5\u001b[0m\u001b[0;34m,\u001b[0m \u001b[0;36m1.5\u001b[0m\u001b[0;34m)\u001b[0m\u001b[0;34m)\u001b[0m\u001b[0;34m\u001b[0m\u001b[0;34m\u001b[0m\u001b[0m\n",
            "\u001b[0;31mRuntimeError\u001b[0m: The size of tensor a (2) must match the size of tensor b (4) at non-singleton dimension 2"
          ]
        },
        {
          "output_type": "display_data",
          "data": {
            "text/plain": [
              "<Figure size 288x288 with 1 Axes>"
            ],
            "image/svg+xml": "<?xml version=\"1.0\" encoding=\"utf-8\" standalone=\"no\"?>\n<!DOCTYPE svg PUBLIC \"-//W3C//DTD SVG 1.1//EN\"\n  \"http://www.w3.org/Graphics/SVG/1.1/DTD/svg11.dtd\">\n<!-- Created with matplotlib (https://matplotlib.org/) -->\n<svg height=\"282.717813pt\" version=\"1.1\" viewBox=\"0 0 289.424844 282.717813\" width=\"289.424844pt\" xmlns=\"http://www.w3.org/2000/svg\" xmlns:xlink=\"http://www.w3.org/1999/xlink\">\n <defs>\n  <style type=\"text/css\">\n*{stroke-linecap:butt;stroke-linejoin:round;}\n  </style>\n </defs>\n <g id=\"figure_1\">\n  <g id=\"patch_1\">\n   <path d=\"M 0 282.717813 \nL 289.424844 282.717813 \nL 289.424844 0 \nL 0 0 \nz\n\" style=\"fill:#ffffff;\"/>\n  </g>\n  <g id=\"axes_1\">\n   <g id=\"patch_2\">\n    <path d=\"M 59.024844 239.758125 \nL 282.224844 239.758125 \nL 282.224844 22.318125 \nL 59.024844 22.318125 \nz\n\" style=\"fill:#eaeaf2;\"/>\n   </g>\n   <g id=\"matplotlib.axis_1\">\n    <g id=\"xtick_1\">\n     <g id=\"line2d_1\">\n      <path clip-path=\"url(#p6bb8a040b2)\" d=\"M 107.672488 239.758125 \nL 107.672488 22.318125 \n\" style=\"fill:none;stroke:#ffffff;stroke-linecap:round;\"/>\n     </g>\n     <g id=\"text_1\">\n      <!-- 0.0 -->\n      <defs>\n       <path d=\"M 31.78125 66.40625 \nQ 24.171875 66.40625 20.328125 58.90625 \nQ 16.5 51.421875 16.5 36.375 \nQ 16.5 21.390625 20.328125 13.890625 \nQ 24.171875 6.390625 31.78125 6.390625 \nQ 39.453125 6.390625 43.28125 13.890625 \nQ 47.125 21.390625 47.125 36.375 \nQ 47.125 51.421875 43.28125 58.90625 \nQ 39.453125 66.40625 31.78125 66.40625 \nz\nM 31.78125 74.21875 \nQ 44.046875 74.21875 50.515625 64.515625 \nQ 56.984375 54.828125 56.984375 36.375 \nQ 56.984375 17.96875 50.515625 8.265625 \nQ 44.046875 -1.421875 31.78125 -1.421875 \nQ 19.53125 -1.421875 13.0625 8.265625 \nQ 6.59375 17.96875 6.59375 36.375 \nQ 6.59375 54.828125 13.0625 64.515625 \nQ 19.53125 74.21875 31.78125 74.21875 \nz\n\" id=\"DejaVuSans-48\"/>\n       <path d=\"M 10.6875 12.40625 \nL 21 12.40625 \nL 21 0 \nL 10.6875 0 \nz\n\" id=\"DejaVuSans-46\"/>\n      </defs>\n      <g style=\"fill:#262626;\" transform=\"translate(98.92577 257.616406)scale(0.11 -0.11)\">\n       <use xlink:href=\"#DejaVuSans-48\"/>\n       <use x=\"63.623047\" xlink:href=\"#DejaVuSans-46\"/>\n       <use x=\"95.410156\" xlink:href=\"#DejaVuSans-48\"/>\n      </g>\n     </g>\n    </g>\n    <g id=\"xtick_2\">\n     <g id=\"line2d_2\">\n      <path clip-path=\"url(#p6bb8a040b2)\" d=\"M 176.400861 239.758125 \nL 176.400861 22.318125 \n\" style=\"fill:none;stroke:#ffffff;stroke-linecap:round;\"/>\n     </g>\n     <g id=\"text_2\">\n      <!-- 0.5 -->\n      <defs>\n       <path d=\"M 10.796875 72.90625 \nL 49.515625 72.90625 \nL 49.515625 64.59375 \nL 19.828125 64.59375 \nL 19.828125 46.734375 \nQ 21.96875 47.46875 24.109375 47.828125 \nQ 26.265625 48.1875 28.421875 48.1875 \nQ 40.625 48.1875 47.75 41.5 \nQ 54.890625 34.8125 54.890625 23.390625 \nQ 54.890625 11.625 47.5625 5.09375 \nQ 40.234375 -1.421875 26.90625 -1.421875 \nQ 22.3125 -1.421875 17.546875 -0.640625 \nQ 12.796875 0.140625 7.71875 1.703125 \nL 7.71875 11.625 \nQ 12.109375 9.234375 16.796875 8.0625 \nQ 21.484375 6.890625 26.703125 6.890625 \nQ 35.15625 6.890625 40.078125 11.328125 \nQ 45.015625 15.765625 45.015625 23.390625 \nQ 45.015625 31 40.078125 35.4375 \nQ 35.15625 39.890625 26.703125 39.890625 \nQ 22.75 39.890625 18.8125 39.015625 \nQ 14.890625 38.140625 10.796875 36.28125 \nz\n\" id=\"DejaVuSans-53\"/>\n      </defs>\n      <g style=\"fill:#262626;\" transform=\"translate(167.654143 257.616406)scale(0.11 -0.11)\">\n       <use xlink:href=\"#DejaVuSans-48\"/>\n       <use x=\"63.623047\" xlink:href=\"#DejaVuSans-46\"/>\n       <use x=\"95.410156\" xlink:href=\"#DejaVuSans-53\"/>\n      </g>\n     </g>\n    </g>\n    <g id=\"xtick_3\">\n     <g id=\"line2d_3\">\n      <path clip-path=\"url(#p6bb8a040b2)\" d=\"M 245.129234 239.758125 \nL 245.129234 22.318125 \n\" style=\"fill:none;stroke:#ffffff;stroke-linecap:round;\"/>\n     </g>\n     <g id=\"text_3\">\n      <!-- 1.0 -->\n      <defs>\n       <path d=\"M 12.40625 8.296875 \nL 28.515625 8.296875 \nL 28.515625 63.921875 \nL 10.984375 60.40625 \nL 10.984375 69.390625 \nL 28.421875 72.90625 \nL 38.28125 72.90625 \nL 38.28125 8.296875 \nL 54.390625 8.296875 \nL 54.390625 0 \nL 12.40625 0 \nz\n\" id=\"DejaVuSans-49\"/>\n      </defs>\n      <g style=\"fill:#262626;\" transform=\"translate(236.382516 257.616406)scale(0.11 -0.11)\">\n       <use xlink:href=\"#DejaVuSans-49\"/>\n       <use x=\"63.623047\" xlink:href=\"#DejaVuSans-46\"/>\n       <use x=\"95.410156\" xlink:href=\"#DejaVuSans-48\"/>\n      </g>\n     </g>\n    </g>\n    <g id=\"text_4\">\n     <!-- $x_1$ -->\n     <defs>\n      <path d=\"M 60.015625 54.6875 \nL 34.90625 27.875 \nL 50.296875 0 \nL 39.984375 0 \nL 28.421875 21.6875 \nL 8.296875 0 \nL -2.59375 0 \nL 24.3125 28.8125 \nL 10.015625 54.6875 \nL 20.3125 54.6875 \nL 30.8125 34.90625 \nL 49.125 54.6875 \nz\n\" id=\"DejaVuSans-Oblique-120\"/>\n     </defs>\n     <g style=\"fill:#262626;\" transform=\"translate(164.204844 273.022188)scale(0.12 -0.12)\">\n      <use transform=\"translate(0 0.3125)\" xlink:href=\"#DejaVuSans-Oblique-120\"/>\n      <use transform=\"translate(59.179688 -16.09375)scale(0.7)\" xlink:href=\"#DejaVuSans-49\"/>\n     </g>\n    </g>\n   </g>\n   <g id=\"matplotlib.axis_2\">\n    <g id=\"ytick_1\">\n     <g id=\"line2d_4\">\n      <path clip-path=\"url(#p6bb8a040b2)\" d=\"M 59.024844 224.142114 \nL 282.224844 224.142114 \n\" style=\"fill:none;stroke:#ffffff;stroke-linecap:round;\"/>\n     </g>\n     <g id=\"text_5\">\n      <!-- −0.2 -->\n      <defs>\n       <path d=\"M 10.59375 35.5 \nL 73.1875 35.5 \nL 73.1875 27.203125 \nL 10.59375 27.203125 \nz\n\" id=\"DejaVuSans-8722\"/>\n       <path d=\"M 19.1875 8.296875 \nL 53.609375 8.296875 \nL 53.609375 0 \nL 7.328125 0 \nL 7.328125 8.296875 \nQ 12.9375 14.109375 22.625 23.890625 \nQ 32.328125 33.6875 34.8125 36.53125 \nQ 39.546875 41.84375 41.421875 45.53125 \nQ 43.3125 49.21875 43.3125 52.78125 \nQ 43.3125 58.59375 39.234375 62.25 \nQ 35.15625 65.921875 28.609375 65.921875 \nQ 23.96875 65.921875 18.8125 64.3125 \nQ 13.671875 62.703125 7.8125 59.421875 \nL 7.8125 69.390625 \nQ 13.765625 71.78125 18.9375 73 \nQ 24.125 74.21875 28.421875 74.21875 \nQ 39.75 74.21875 46.484375 68.546875 \nQ 53.21875 62.890625 53.21875 53.421875 \nQ 53.21875 48.921875 51.53125 44.890625 \nQ 49.859375 40.875 45.40625 35.40625 \nQ 44.1875 33.984375 37.640625 27.21875 \nQ 31.109375 20.453125 19.1875 8.296875 \nz\n\" id=\"DejaVuSans-50\"/>\n      </defs>\n      <g style=\"fill:#262626;\" transform=\"translate(22.81375 228.321255)scale(0.11 -0.11)\">\n       <use xlink:href=\"#DejaVuSans-8722\"/>\n       <use x=\"83.789062\" xlink:href=\"#DejaVuSans-48\"/>\n       <use x=\"147.412109\" xlink:href=\"#DejaVuSans-46\"/>\n       <use x=\"179.199219\" xlink:href=\"#DejaVuSans-50\"/>\n      </g>\n     </g>\n    </g>\n    <g id=\"ytick_2\">\n     <g id=\"line2d_5\">\n      <path clip-path=\"url(#p6bb8a040b2)\" d=\"M 59.024844 197.463285 \nL 282.224844 197.463285 \n\" style=\"fill:none;stroke:#ffffff;stroke-linecap:round;\"/>\n     </g>\n     <g id=\"text_6\">\n      <!-- 0.0 -->\n      <g style=\"fill:#262626;\" transform=\"translate(32.031406 201.642426)scale(0.11 -0.11)\">\n       <use xlink:href=\"#DejaVuSans-48\"/>\n       <use x=\"63.623047\" xlink:href=\"#DejaVuSans-46\"/>\n       <use x=\"95.410156\" xlink:href=\"#DejaVuSans-48\"/>\n      </g>\n     </g>\n    </g>\n    <g id=\"ytick_3\">\n     <g id=\"line2d_6\">\n      <path clip-path=\"url(#p6bb8a040b2)\" d=\"M 59.024844 170.784456 \nL 282.224844 170.784456 \n\" style=\"fill:none;stroke:#ffffff;stroke-linecap:round;\"/>\n     </g>\n     <g id=\"text_7\">\n      <!-- 0.2 -->\n      <g style=\"fill:#262626;\" transform=\"translate(32.031406 174.963596)scale(0.11 -0.11)\">\n       <use xlink:href=\"#DejaVuSans-48\"/>\n       <use x=\"63.623047\" xlink:href=\"#DejaVuSans-46\"/>\n       <use x=\"95.410156\" xlink:href=\"#DejaVuSans-50\"/>\n      </g>\n     </g>\n    </g>\n    <g id=\"ytick_4\">\n     <g id=\"line2d_7\">\n      <path clip-path=\"url(#p6bb8a040b2)\" d=\"M 59.024844 144.105626 \nL 282.224844 144.105626 \n\" style=\"fill:none;stroke:#ffffff;stroke-linecap:round;\"/>\n     </g>\n     <g id=\"text_8\">\n      <!-- 0.4 -->\n      <defs>\n       <path d=\"M 37.796875 64.3125 \nL 12.890625 25.390625 \nL 37.796875 25.390625 \nz\nM 35.203125 72.90625 \nL 47.609375 72.90625 \nL 47.609375 25.390625 \nL 58.015625 25.390625 \nL 58.015625 17.1875 \nL 47.609375 17.1875 \nL 47.609375 0 \nL 37.796875 0 \nL 37.796875 17.1875 \nL 4.890625 17.1875 \nL 4.890625 26.703125 \nz\n\" id=\"DejaVuSans-52\"/>\n      </defs>\n      <g style=\"fill:#262626;\" transform=\"translate(32.031406 148.284767)scale(0.11 -0.11)\">\n       <use xlink:href=\"#DejaVuSans-48\"/>\n       <use x=\"63.623047\" xlink:href=\"#DejaVuSans-46\"/>\n       <use x=\"95.410156\" xlink:href=\"#DejaVuSans-52\"/>\n      </g>\n     </g>\n    </g>\n    <g id=\"ytick_5\">\n     <g id=\"line2d_8\">\n      <path clip-path=\"url(#p6bb8a040b2)\" d=\"M 59.024844 117.426797 \nL 282.224844 117.426797 \n\" style=\"fill:none;stroke:#ffffff;stroke-linecap:round;\"/>\n     </g>\n     <g id=\"text_9\">\n      <!-- 0.6 -->\n      <defs>\n       <path d=\"M 33.015625 40.375 \nQ 26.375 40.375 22.484375 35.828125 \nQ 18.609375 31.296875 18.609375 23.390625 \nQ 18.609375 15.53125 22.484375 10.953125 \nQ 26.375 6.390625 33.015625 6.390625 \nQ 39.65625 6.390625 43.53125 10.953125 \nQ 47.40625 15.53125 47.40625 23.390625 \nQ 47.40625 31.296875 43.53125 35.828125 \nQ 39.65625 40.375 33.015625 40.375 \nz\nM 52.59375 71.296875 \nL 52.59375 62.3125 \nQ 48.875 64.0625 45.09375 64.984375 \nQ 41.3125 65.921875 37.59375 65.921875 \nQ 27.828125 65.921875 22.671875 59.328125 \nQ 17.53125 52.734375 16.796875 39.40625 \nQ 19.671875 43.65625 24.015625 45.921875 \nQ 28.375 48.1875 33.59375 48.1875 \nQ 44.578125 48.1875 50.953125 41.515625 \nQ 57.328125 34.859375 57.328125 23.390625 \nQ 57.328125 12.15625 50.6875 5.359375 \nQ 44.046875 -1.421875 33.015625 -1.421875 \nQ 20.359375 -1.421875 13.671875 8.265625 \nQ 6.984375 17.96875 6.984375 36.375 \nQ 6.984375 53.65625 15.1875 63.9375 \nQ 23.390625 74.21875 37.203125 74.21875 \nQ 40.921875 74.21875 44.703125 73.484375 \nQ 48.484375 72.75 52.59375 71.296875 \nz\n\" id=\"DejaVuSans-54\"/>\n      </defs>\n      <g style=\"fill:#262626;\" transform=\"translate(32.031406 121.605938)scale(0.11 -0.11)\">\n       <use xlink:href=\"#DejaVuSans-48\"/>\n       <use x=\"63.623047\" xlink:href=\"#DejaVuSans-46\"/>\n       <use x=\"95.410156\" xlink:href=\"#DejaVuSans-54\"/>\n      </g>\n     </g>\n    </g>\n    <g id=\"ytick_6\">\n     <g id=\"line2d_9\">\n      <path clip-path=\"url(#p6bb8a040b2)\" d=\"M 59.024844 90.747968 \nL 282.224844 90.747968 \n\" style=\"fill:none;stroke:#ffffff;stroke-linecap:round;\"/>\n     </g>\n     <g id=\"text_10\">\n      <!-- 0.8 -->\n      <defs>\n       <path d=\"M 31.78125 34.625 \nQ 24.75 34.625 20.71875 30.859375 \nQ 16.703125 27.09375 16.703125 20.515625 \nQ 16.703125 13.921875 20.71875 10.15625 \nQ 24.75 6.390625 31.78125 6.390625 \nQ 38.8125 6.390625 42.859375 10.171875 \nQ 46.921875 13.96875 46.921875 20.515625 \nQ 46.921875 27.09375 42.890625 30.859375 \nQ 38.875 34.625 31.78125 34.625 \nz\nM 21.921875 38.8125 \nQ 15.578125 40.375 12.03125 44.71875 \nQ 8.5 49.078125 8.5 55.328125 \nQ 8.5 64.0625 14.71875 69.140625 \nQ 20.953125 74.21875 31.78125 74.21875 \nQ 42.671875 74.21875 48.875 69.140625 \nQ 55.078125 64.0625 55.078125 55.328125 \nQ 55.078125 49.078125 51.53125 44.71875 \nQ 48 40.375 41.703125 38.8125 \nQ 48.828125 37.15625 52.796875 32.3125 \nQ 56.78125 27.484375 56.78125 20.515625 \nQ 56.78125 9.90625 50.3125 4.234375 \nQ 43.84375 -1.421875 31.78125 -1.421875 \nQ 19.734375 -1.421875 13.25 4.234375 \nQ 6.78125 9.90625 6.78125 20.515625 \nQ 6.78125 27.484375 10.78125 32.3125 \nQ 14.796875 37.15625 21.921875 38.8125 \nz\nM 18.3125 54.390625 \nQ 18.3125 48.734375 21.84375 45.5625 \nQ 25.390625 42.390625 31.78125 42.390625 \nQ 38.140625 42.390625 41.71875 45.5625 \nQ 45.3125 48.734375 45.3125 54.390625 \nQ 45.3125 60.0625 41.71875 63.234375 \nQ 38.140625 66.40625 31.78125 66.40625 \nQ 25.390625 66.40625 21.84375 63.234375 \nQ 18.3125 60.0625 18.3125 54.390625 \nz\n\" id=\"DejaVuSans-56\"/>\n      </defs>\n      <g style=\"fill:#262626;\" transform=\"translate(32.031406 94.927109)scale(0.11 -0.11)\">\n       <use xlink:href=\"#DejaVuSans-48\"/>\n       <use x=\"63.623047\" xlink:href=\"#DejaVuSans-46\"/>\n       <use x=\"95.410156\" xlink:href=\"#DejaVuSans-56\"/>\n      </g>\n     </g>\n    </g>\n    <g id=\"ytick_7\">\n     <g id=\"line2d_10\">\n      <path clip-path=\"url(#p6bb8a040b2)\" d=\"M 59.024844 64.069139 \nL 282.224844 64.069139 \n\" style=\"fill:none;stroke:#ffffff;stroke-linecap:round;\"/>\n     </g>\n     <g id=\"text_11\">\n      <!-- 1.0 -->\n      <g style=\"fill:#262626;\" transform=\"translate(32.031406 68.248279)scale(0.11 -0.11)\">\n       <use xlink:href=\"#DejaVuSans-49\"/>\n       <use x=\"63.623047\" xlink:href=\"#DejaVuSans-46\"/>\n       <use x=\"95.410156\" xlink:href=\"#DejaVuSans-48\"/>\n      </g>\n     </g>\n    </g>\n    <g id=\"ytick_8\">\n     <g id=\"line2d_11\">\n      <path clip-path=\"url(#p6bb8a040b2)\" d=\"M 59.024844 37.390309 \nL 282.224844 37.390309 \n\" style=\"fill:none;stroke:#ffffff;stroke-linecap:round;\"/>\n     </g>\n     <g id=\"text_12\">\n      <!-- 1.2 -->\n      <g style=\"fill:#262626;\" transform=\"translate(32.031406 41.56945)scale(0.11 -0.11)\">\n       <use xlink:href=\"#DejaVuSans-49\"/>\n       <use x=\"63.623047\" xlink:href=\"#DejaVuSans-46\"/>\n       <use x=\"95.410156\" xlink:href=\"#DejaVuSans-50\"/>\n      </g>\n     </g>\n    </g>\n    <g id=\"text_13\">\n     <!-- $x_2$ -->\n     <g style=\"fill:#262626;\" transform=\"translate(16.318125 137.458125)rotate(-90)scale(0.12 -0.12)\">\n      <use transform=\"translate(0 0.3125)\" xlink:href=\"#DejaVuSans-Oblique-120\"/>\n      <use transform=\"translate(59.179688 -16.09375)scale(0.7)\" xlink:href=\"#DejaVuSans-50\"/>\n     </g>\n    </g>\n   </g>\n   <g id=\"PathCollection_1\">\n    <defs>\n     <path d=\"M 0 3 \nC 0.795609 3 1.55874 2.683901 2.12132 2.12132 \nC 2.683901 1.55874 3 0.795609 3 0 \nC 3 -0.795609 2.683901 -1.55874 2.12132 -2.12132 \nC 1.55874 -2.683901 0.795609 -3 0 -3 \nC -0.795609 -3 -1.55874 -2.683901 -2.12132 -2.12132 \nC -2.683901 -1.55874 -3 -0.795609 -3 0 \nC -3 0.795609 -2.683901 1.55874 -2.12132 2.12132 \nC -1.55874 2.683901 -0.795609 3 0 3 \nz\n\" id=\"md4e70e32ab\" style=\"stroke:#333333;\"/>\n    </defs>\n    <g clip-path=\"url(#p6bb8a040b2)\">\n     <use style=\"fill:#4c72b0;stroke:#333333;\" x=\"228.930652\" xlink:href=\"#md4e70e32ab\" y=\"94.35046\"/>\n     <use style=\"fill:#4c72b0;stroke:#333333;\" x=\"261.135509\" xlink:href=\"#md4e70e32ab\" y=\"83.619919\"/>\n     <use style=\"fill:#4c72b0;stroke:#333333;\" x=\"258.147811\" xlink:href=\"#md4e70e32ab\" y=\"45.03566\"/>\n     <use style=\"fill:#4c72b0;stroke:#333333;\" x=\"233.854043\" xlink:href=\"#md4e70e32ab\" y=\"59.843214\"/>\n     <use style=\"fill:#4c72b0;stroke:#333333;\" x=\"69.170298\" xlink:href=\"#md4e70e32ab\" y=\"200.680937\"/>\n     <use style=\"fill:#4c72b0;stroke:#333333;\" x=\"264.327378\" xlink:href=\"#md4e70e32ab\" y=\"49.657922\"/>\n     <use style=\"fill:#4c72b0;stroke:#333333;\" x=\"234.630556\" xlink:href=\"#md4e70e32ab\" y=\"32.201761\"/>\n     <use style=\"fill:#4c72b0;stroke:#333333;\" x=\"113.024947\" xlink:href=\"#md4e70e32ab\" y=\"215.952736\"/>\n     <use style=\"fill:#4c72b0;stroke:#333333;\" x=\"99.110882\" xlink:href=\"#md4e70e32ab\" y=\"187.677964\"/>\n     <use style=\"fill:#4c72b0;stroke:#333333;\" x=\"135.792315\" xlink:href=\"#md4e70e32ab\" y=\"204.903215\"/>\n     <use style=\"fill:#4c72b0;stroke:#333333;\" x=\"251.976224\" xlink:href=\"#md4e70e32ab\" y=\"64.325985\"/>\n     <use style=\"fill:#4c72b0;stroke:#333333;\" x=\"252.633291\" xlink:href=\"#md4e70e32ab\" y=\"71.919319\"/>\n     <use style=\"fill:#4c72b0;stroke:#333333;\" x=\"104.408744\" xlink:href=\"#md4e70e32ab\" y=\"205.402142\"/>\n     <use style=\"fill:#4c72b0;stroke:#333333;\" x=\"246.677739\" xlink:href=\"#md4e70e32ab\" y=\"59.499814\"/>\n     <use style=\"fill:#4c72b0;stroke:#333333;\" x=\"113.8869\" xlink:href=\"#md4e70e32ab\" y=\"201.303879\"/>\n     <use style=\"fill:#4c72b0;stroke:#333333;\" x=\"246.169442\" xlink:href=\"#md4e70e32ab\" y=\"56.503195\"/>\n     <use style=\"fill:#4c72b0;stroke:#333333;\" x=\"247.192099\" xlink:href=\"#md4e70e32ab\" y=\"68.21429\"/>\n     <use style=\"fill:#4c72b0;stroke:#333333;\" x=\"262.66807\" xlink:href=\"#md4e70e32ab\" y=\"57.842081\"/>\n     <use style=\"fill:#4c72b0;stroke:#333333;\" x=\"112.034529\" xlink:href=\"#md4e70e32ab\" y=\"199.698103\"/>\n     <use style=\"fill:#4c72b0;stroke:#333333;\" x=\"91.442333\" xlink:href=\"#md4e70e32ab\" y=\"204.140992\"/>\n     <use style=\"fill:#4c72b0;stroke:#333333;\" x=\"239.473941\" xlink:href=\"#md4e70e32ab\" y=\"55.198005\"/>\n     <use style=\"fill:#4c72b0;stroke:#333333;\" x=\"263.798876\" xlink:href=\"#md4e70e32ab\" y=\"88.6661\"/>\n     <use style=\"fill:#4c72b0;stroke:#333333;\" x=\"235.504494\" xlink:href=\"#md4e70e32ab\" y=\"82.026501\"/>\n     <use style=\"fill:#4c72b0;stroke:#333333;\" x=\"111.62108\" xlink:href=\"#md4e70e32ab\" y=\"217.366712\"/>\n     <use style=\"fill:#4c72b0;stroke:#333333;\" x=\"233.255204\" xlink:href=\"#md4e70e32ab\" y=\"68.99627\"/>\n     <use style=\"fill:#4c72b0;stroke:#333333;\" x=\"272.079389\" xlink:href=\"#md4e70e32ab\" y=\"72.28336\"/>\n     <use style=\"fill:#4c72b0;stroke:#333333;\" x=\"104.470038\" xlink:href=\"#md4e70e32ab\" y=\"206.439692\"/>\n     <use style=\"fill:#4c72b0;stroke:#333333;\" x=\"237.876418\" xlink:href=\"#md4e70e32ab\" y=\"38.97802\"/>\n     <use style=\"fill:#4c72b0;stroke:#333333;\" x=\"106.633753\" xlink:href=\"#md4e70e32ab\" y=\"199.527691\"/>\n     <use style=\"fill:#4c72b0;stroke:#333333;\" x=\"237.033458\" xlink:href=\"#md4e70e32ab\" y=\"57.502179\"/>\n     <use style=\"fill:#4c72b0;stroke:#333333;\" x=\"125.773304\" xlink:href=\"#md4e70e32ab\" y=\"205.779794\"/>\n     <use style=\"fill:#4c72b0;stroke:#333333;\" x=\"259.747227\" xlink:href=\"#md4e70e32ab\" y=\"54.863177\"/>\n     <use style=\"fill:#4c72b0;stroke:#333333;\" x=\"250.861132\" xlink:href=\"#md4e70e32ab\" y=\"73.876937\"/>\n     <use style=\"fill:#4c72b0;stroke:#333333;\" x=\"250.424901\" xlink:href=\"#md4e70e32ab\" y=\"73.260455\"/>\n     <use style=\"fill:#4c72b0;stroke:#333333;\" x=\"113.568172\" xlink:href=\"#md4e70e32ab\" y=\"175.236331\"/>\n     <use style=\"fill:#4c72b0;stroke:#333333;\" x=\"114.841245\" xlink:href=\"#md4e70e32ab\" y=\"210.387713\"/>\n     <use style=\"fill:#4c72b0;stroke:#333333;\" x=\"131.850808\" xlink:href=\"#md4e70e32ab\" y=\"208.024196\"/>\n     <use style=\"fill:#4c72b0;stroke:#333333;\" x=\"121.226528\" xlink:href=\"#md4e70e32ab\" y=\"225.211057\"/>\n     <use style=\"fill:#4c72b0;stroke:#333333;\" x=\"122.468374\" xlink:href=\"#md4e70e32ab\" y=\"201.842911\"/>\n     <use style=\"fill:#4c72b0;stroke:#333333;\" x=\"122.281284\" xlink:href=\"#md4e70e32ab\" y=\"197.522654\"/>\n     <use style=\"fill:#4c72b0;stroke:#333333;\" x=\"105.643562\" xlink:href=\"#md4e70e32ab\" y=\"196.090089\"/>\n     <use style=\"fill:#4c72b0;stroke:#333333;\" x=\"223.274663\" xlink:href=\"#md4e70e32ab\" y=\"46.017184\"/>\n     <use style=\"fill:#4c72b0;stroke:#333333;\" x=\"241.194304\" xlink:href=\"#md4e70e32ab\" y=\"62.451558\"/>\n     <use style=\"fill:#4c72b0;stroke:#333333;\" x=\"251.372641\" xlink:href=\"#md4e70e32ab\" y=\"54.101511\"/>\n     <use style=\"fill:#4c72b0;stroke:#333333;\" x=\"114.364114\" xlink:href=\"#md4e70e32ab\" y=\"216.075711\"/>\n     <use style=\"fill:#4c72b0;stroke:#333333;\" x=\"245.186799\" xlink:href=\"#md4e70e32ab\" y=\"53.547587\"/>\n     <use style=\"fill:#4c72b0;stroke:#333333;\" x=\"245.061379\" xlink:href=\"#md4e70e32ab\" y=\"68.483985\"/>\n     <use style=\"fill:#4c72b0;stroke:#333333;\" x=\"108.30282\" xlink:href=\"#md4e70e32ab\" y=\"212.723797\"/>\n     <use style=\"fill:#4c72b0;stroke:#333333;\" x=\"77.521311\" xlink:href=\"#md4e70e32ab\" y=\"220.461823\"/>\n     <use style=\"fill:#4c72b0;stroke:#333333;\" x=\"100.125209\" xlink:href=\"#md4e70e32ab\" y=\"211.971732\"/>\n     <use style=\"fill:#4c72b0;stroke:#333333;\" x=\"236.621527\" xlink:href=\"#md4e70e32ab\" y=\"51.272291\"/>\n     <use style=\"fill:#4c72b0;stroke:#333333;\" x=\"251.008165\" xlink:href=\"#md4e70e32ab\" y=\"58.94104\"/>\n     <use style=\"fill:#4c72b0;stroke:#333333;\" x=\"76.093404\" xlink:href=\"#md4e70e32ab\" y=\"209.96749\"/>\n     <use style=\"fill:#4c72b0;stroke:#333333;\" x=\"239.838443\" xlink:href=\"#md4e70e32ab\" y=\"73.912016\"/>\n     <use style=\"fill:#4c72b0;stroke:#333333;\" x=\"109.030382\" xlink:href=\"#md4e70e32ab\" y=\"202.003062\"/>\n     <use style=\"fill:#4c72b0;stroke:#333333;\" x=\"247.681012\" xlink:href=\"#md4e70e32ab\" y=\"72.487404\"/>\n     <use style=\"fill:#4c72b0;stroke:#333333;\" x=\"137.944651\" xlink:href=\"#md4e70e32ab\" y=\"204.588557\"/>\n     <use style=\"fill:#4c72b0;stroke:#333333;\" x=\"259.489605\" xlink:href=\"#md4e70e32ab\" y=\"86.462219\"/>\n     <use style=\"fill:#4c72b0;stroke:#333333;\" x=\"256.059465\" xlink:href=\"#md4e70e32ab\" y=\"52.622117\"/>\n     <use style=\"fill:#4c72b0;stroke:#333333;\" x=\"81.622116\" xlink:href=\"#md4e70e32ab\" y=\"191.929215\"/>\n     <use style=\"fill:#4c72b0;stroke:#333333;\" x=\"263.76553\" xlink:href=\"#md4e70e32ab\" y=\"65.444789\"/>\n     <use style=\"fill:#4c72b0;stroke:#333333;\" x=\"256.393037\" xlink:href=\"#md4e70e32ab\" y=\"71.137753\"/>\n     <use style=\"fill:#4c72b0;stroke:#333333;\" x=\"93.471564\" xlink:href=\"#md4e70e32ab\" y=\"197.934367\"/>\n     <use style=\"fill:#4c72b0;stroke:#333333;\" x=\"105.034331\" xlink:href=\"#md4e70e32ab\" y=\"229.874489\"/>\n     <use style=\"fill:#4c72b0;stroke:#333333;\" x=\"101.889267\" xlink:href=\"#md4e70e32ab\" y=\"182.741185\"/>\n     <use style=\"fill:#4c72b0;stroke:#333333;\" x=\"87.910855\" xlink:href=\"#md4e70e32ab\" y=\"190.307474\"/>\n     <use style=\"fill:#4c72b0;stroke:#333333;\" x=\"252.781553\" xlink:href=\"#md4e70e32ab\" y=\"68.775267\"/>\n     <use style=\"fill:#4c72b0;stroke:#333333;\" x=\"264.764805\" xlink:href=\"#md4e70e32ab\" y=\"60.6242\"/>\n     <use style=\"fill:#4c72b0;stroke:#333333;\" x=\"237.364712\" xlink:href=\"#md4e70e32ab\" y=\"83.633778\"/>\n     <use style=\"fill:#4c72b0;stroke:#333333;\" x=\"87.077797\" xlink:href=\"#md4e70e32ab\" y=\"186.819064\"/>\n     <use style=\"fill:#4c72b0;stroke:#333333;\" x=\"248.024072\" xlink:href=\"#md4e70e32ab\" y=\"87.387085\"/>\n     <use style=\"fill:#4c72b0;stroke:#333333;\" x=\"235.613494\" xlink:href=\"#md4e70e32ab\" y=\"65.089837\"/>\n     <use style=\"fill:#4c72b0;stroke:#333333;\" x=\"128.598226\" xlink:href=\"#md4e70e32ab\" y=\"218.692614\"/>\n     <use style=\"fill:#4c72b0;stroke:#333333;\" x=\"121.367318\" xlink:href=\"#md4e70e32ab\" y=\"194.146148\"/>\n     <use style=\"fill:#4c72b0;stroke:#333333;\" x=\"105.381335\" xlink:href=\"#md4e70e32ab\" y=\"191.363732\"/>\n     <use style=\"fill:#4c72b0;stroke:#333333;\" x=\"110.944385\" xlink:href=\"#md4e70e32ab\" y=\"180.859104\"/>\n     <use style=\"fill:#4c72b0;stroke:#333333;\" x=\"241.988211\" xlink:href=\"#md4e70e32ab\" y=\"58.804236\"/>\n     <use style=\"fill:#4c72b0;stroke:#333333;\" x=\"260.742553\" xlink:href=\"#md4e70e32ab\" y=\"70.127041\"/>\n     <use style=\"fill:#4c72b0;stroke:#333333;\" x=\"119.153922\" xlink:href=\"#md4e70e32ab\" y=\"196.980963\"/>\n     <use style=\"fill:#4c72b0;stroke:#333333;\" x=\"139.04145\" xlink:href=\"#md4e70e32ab\" y=\"208.014356\"/>\n     <use style=\"fill:#4c72b0;stroke:#333333;\" x=\"111.304571\" xlink:href=\"#md4e70e32ab\" y=\"201.714477\"/>\n     <use style=\"fill:#4c72b0;stroke:#333333;\" x=\"249.774913\" xlink:href=\"#md4e70e32ab\" y=\"70.465153\"/>\n     <use style=\"fill:#4c72b0;stroke:#333333;\" x=\"248.889554\" xlink:href=\"#md4e70e32ab\" y=\"71.218558\"/>\n     <use style=\"fill:#4c72b0;stroke:#333333;\" x=\"103.90802\" xlink:href=\"#md4e70e32ab\" y=\"206.697548\"/>\n     <use style=\"fill:#4c72b0;stroke:#333333;\" x=\"259.058453\" xlink:href=\"#md4e70e32ab\" y=\"44.162968\"/>\n     <use style=\"fill:#4c72b0;stroke:#333333;\" x=\"214.91598\" xlink:href=\"#md4e70e32ab\" y=\"81.904081\"/>\n     <use style=\"fill:#4c72b0;stroke:#333333;\" x=\"257.242609\" xlink:href=\"#md4e70e32ab\" y=\"40.174028\"/>\n     <use style=\"fill:#4c72b0;stroke:#333333;\" x=\"131.376573\" xlink:href=\"#md4e70e32ab\" y=\"199.356599\"/>\n     <use style=\"fill:#4c72b0;stroke:#333333;\" x=\"243.438727\" xlink:href=\"#md4e70e32ab\" y=\"54.110703\"/>\n     <use style=\"fill:#4c72b0;stroke:#333333;\" x=\"113.89782\" xlink:href=\"#md4e70e32ab\" y=\"192.016109\"/>\n     <use style=\"fill:#4c72b0;stroke:#333333;\" x=\"116.864899\" xlink:href=\"#md4e70e32ab\" y=\"215.394276\"/>\n     <use style=\"fill:#4c72b0;stroke:#333333;\" x=\"98.212823\" xlink:href=\"#md4e70e32ab\" y=\"192.516372\"/>\n     <use style=\"fill:#4c72b0;stroke:#333333;\" x=\"230.759892\" xlink:href=\"#md4e70e32ab\" y=\"41.403398\"/>\n     <use style=\"fill:#4c72b0;stroke:#333333;\" x=\"252.428121\" xlink:href=\"#md4e70e32ab\" y=\"48.685812\"/>\n     <use style=\"fill:#4c72b0;stroke:#333333;\" x=\"212.09533\" xlink:href=\"#md4e70e32ab\" y=\"50.919414\"/>\n     <use style=\"fill:#4c72b0;stroke:#333333;\" x=\"120.821411\" xlink:href=\"#md4e70e32ab\" y=\"201.149576\"/>\n     <use style=\"fill:#4c72b0;stroke:#333333;\" x=\"95.947717\" xlink:href=\"#md4e70e32ab\" y=\"204.325141\"/>\n     <use style=\"fill:#4c72b0;stroke:#333333;\" x=\"121.594994\" xlink:href=\"#md4e70e32ab\" y=\"194.048764\"/>\n     <use style=\"fill:#4c72b0;stroke:#333333;\" x=\"227.23464\" xlink:href=\"#md4e70e32ab\" y=\"70.179811\"/>\n     <use style=\"fill:#4c72b0;stroke:#333333;\" x=\"121.214192\" xlink:href=\"#md4e70e32ab\" y=\"191.813511\"/>\n     <use style=\"fill:#4c72b0;stroke:#333333;\" x=\"105.326714\" xlink:href=\"#md4e70e32ab\" y=\"190.517448\"/>\n     <use style=\"fill:#4c72b0;stroke:#333333;\" x=\"101.344869\" xlink:href=\"#md4e70e32ab\" y=\"208.103682\"/>\n     <use style=\"fill:#4c72b0;stroke:#333333;\" x=\"108.464446\" xlink:href=\"#md4e70e32ab\" y=\"211.823085\"/>\n     <use style=\"fill:#4c72b0;stroke:#333333;\" x=\"224.606494\" xlink:href=\"#md4e70e32ab\" y=\"54.41783\"/>\n    </g>\n   </g>\n   <g id=\"PathCollection_2\">\n    <defs>\n     <path d=\"M 0 3 \nC 0.795609 3 1.55874 2.683901 2.12132 2.12132 \nC 2.683901 1.55874 3 0.795609 3 0 \nC 3 -0.795609 2.683901 -1.55874 2.12132 -2.12132 \nC 1.55874 -2.683901 0.795609 -3 0 -3 \nC -0.795609 -3 -1.55874 -2.683901 -2.12132 -2.12132 \nC -2.683901 -1.55874 -3 -0.795609 -3 0 \nC -3 0.795609 -2.683901 1.55874 -2.12132 2.12132 \nC -1.55874 2.683901 -0.795609 3 0 3 \nz\n\" id=\"m87f890cefc\" style=\"stroke:#333333;\"/>\n    </defs>\n    <g clip-path=\"url(#p6bb8a040b2)\">\n     <use style=\"fill:#dd8452;stroke:#333333;\" x=\"251.855737\" xlink:href=\"#m87f890cefc\" y=\"214.578898\"/>\n     <use style=\"fill:#dd8452;stroke:#333333;\" x=\"248.496615\" xlink:href=\"#m87f890cefc\" y=\"197.814632\"/>\n     <use style=\"fill:#dd8452;stroke:#333333;\" x=\"267.330118\" xlink:href=\"#m87f890cefc\" y=\"193.143061\"/>\n     <use style=\"fill:#dd8452;stroke:#333333;\" x=\"252.020647\" xlink:href=\"#m87f890cefc\" y=\"190.621844\"/>\n     <use style=\"fill:#dd8452;stroke:#333333;\" x=\"100.21424\" xlink:href=\"#m87f890cefc\" y=\"51.595766\"/>\n     <use style=\"fill:#dd8452;stroke:#333333;\" x=\"250.252011\" xlink:href=\"#m87f890cefc\" y=\"191.612358\"/>\n     <use style=\"fill:#dd8452;stroke:#333333;\" x=\"110.772458\" xlink:href=\"#m87f890cefc\" y=\"69.145652\"/>\n     <use style=\"fill:#dd8452;stroke:#333333;\" x=\"242.205303\" xlink:href=\"#m87f890cefc\" y=\"198.428775\"/>\n     <use style=\"fill:#dd8452;stroke:#333333;\" x=\"106.554835\" xlink:href=\"#m87f890cefc\" y=\"50.972526\"/>\n     <use style=\"fill:#dd8452;stroke:#333333;\" x=\"256.584919\" xlink:href=\"#m87f890cefc\" y=\"217.623219\"/>\n     <use style=\"fill:#dd8452;stroke:#333333;\" x=\"244.333549\" xlink:href=\"#m87f890cefc\" y=\"203.543436\"/>\n     <use style=\"fill:#dd8452;stroke:#333333;\" x=\"232.476437\" xlink:href=\"#m87f890cefc\" y=\"212.1627\"/>\n     <use style=\"fill:#dd8452;stroke:#333333;\" x=\"94.016196\" xlink:href=\"#m87f890cefc\" y=\"57.640446\"/>\n     <use style=\"fill:#dd8452;stroke:#333333;\" x=\"116.636625\" xlink:href=\"#m87f890cefc\" y=\"62.381987\"/>\n     <use style=\"fill:#dd8452;stroke:#333333;\" x=\"108.894458\" xlink:href=\"#m87f890cefc\" y=\"85.727642\"/>\n     <use style=\"fill:#dd8452;stroke:#333333;\" x=\"92.954115\" xlink:href=\"#m87f890cefc\" y=\"67.81715\"/>\n     <use style=\"fill:#dd8452;stroke:#333333;\" x=\"100.351454\" xlink:href=\"#m87f890cefc\" y=\"69.238519\"/>\n     <use style=\"fill:#dd8452;stroke:#333333;\" x=\"262.012658\" xlink:href=\"#m87f890cefc\" y=\"186.644021\"/>\n     <use style=\"fill:#dd8452;stroke:#333333;\" x=\"252.601584\" xlink:href=\"#m87f890cefc\" y=\"198.863016\"/>\n     <use style=\"fill:#dd8452;stroke:#333333;\" x=\"223.702193\" xlink:href=\"#m87f890cefc\" y=\"186.173662\"/>\n     <use style=\"fill:#dd8452;stroke:#333333;\" x=\"97.202714\" xlink:href=\"#m87f890cefc\" y=\"61.732159\"/>\n     <use style=\"fill:#dd8452;stroke:#333333;\" x=\"221.632356\" xlink:href=\"#m87f890cefc\" y=\"193.415896\"/>\n     <use style=\"fill:#dd8452;stroke:#333333;\" x=\"239.563541\" xlink:href=\"#m87f890cefc\" y=\"210.684989\"/>\n     <use style=\"fill:#dd8452;stroke:#333333;\" x=\"238.64033\" xlink:href=\"#m87f890cefc\" y=\"180.99855\"/>\n     <use style=\"fill:#dd8452;stroke:#333333;\" x=\"232.217069\" xlink:href=\"#m87f890cefc\" y=\"190.103877\"/>\n     <use style=\"fill:#dd8452;stroke:#333333;\" x=\"263.609764\" xlink:href=\"#m87f890cefc\" y=\"178.252223\"/>\n     <use style=\"fill:#dd8452;stroke:#333333;\" x=\"125.171635\" xlink:href=\"#m87f890cefc\" y=\"44.360517\"/>\n     <use style=\"fill:#dd8452;stroke:#333333;\" x=\"260.735294\" xlink:href=\"#m87f890cefc\" y=\"181.087487\"/>\n     <use style=\"fill:#dd8452;stroke:#333333;\" x=\"99.145018\" xlink:href=\"#m87f890cefc\" y=\"60.228706\"/>\n     <use style=\"fill:#dd8452;stroke:#333333;\" x=\"261.10154\" xlink:href=\"#m87f890cefc\" y=\"207.037305\"/>\n     <use style=\"fill:#dd8452;stroke:#333333;\" x=\"82.215504\" xlink:href=\"#m87f890cefc\" y=\"66.078922\"/>\n     <use style=\"fill:#dd8452;stroke:#333333;\" x=\"135.74704\" xlink:href=\"#m87f890cefc\" y=\"59.844772\"/>\n     <use style=\"fill:#dd8452;stroke:#333333;\" x=\"245.210755\" xlink:href=\"#m87f890cefc\" y=\"201.8339\"/>\n     <use style=\"fill:#dd8452;stroke:#333333;\" x=\"242.343651\" xlink:href=\"#m87f890cefc\" y=\"197.712801\"/>\n     <use style=\"fill:#dd8452;stroke:#333333;\" x=\"110.579423\" xlink:href=\"#m87f890cefc\" y=\"66.351026\"/>\n     <use style=\"fill:#dd8452;stroke:#333333;\" x=\"235.325746\" xlink:href=\"#m87f890cefc\" y=\"190.307836\"/>\n     <use style=\"fill:#dd8452;stroke:#333333;\" x=\"122.087328\" xlink:href=\"#m87f890cefc\" y=\"81.625219\"/>\n     <use style=\"fill:#dd8452;stroke:#333333;\" x=\"106.319627\" xlink:href=\"#m87f890cefc\" y=\"91.742339\"/>\n     <use style=\"fill:#dd8452;stroke:#333333;\" x=\"236.950938\" xlink:href=\"#m87f890cefc\" y=\"182.802113\"/>\n     <use style=\"fill:#dd8452;stroke:#333333;\" x=\"263.635539\" xlink:href=\"#m87f890cefc\" y=\"197.774505\"/>\n     <use style=\"fill:#dd8452;stroke:#333333;\" x=\"115.930573\" xlink:href=\"#m87f890cefc\" y=\"49.29121\"/>\n     <use style=\"fill:#dd8452;stroke:#333333;\" x=\"124.947843\" xlink:href=\"#m87f890cefc\" y=\"63.664246\"/>\n     <use style=\"fill:#dd8452;stroke:#333333;\" x=\"79.944896\" xlink:href=\"#m87f890cefc\" y=\"67.41485\"/>\n     <use style=\"fill:#dd8452;stroke:#333333;\" x=\"249.894482\" xlink:href=\"#m87f890cefc\" y=\"180.166033\"/>\n     <use style=\"fill:#dd8452;stroke:#333333;\" x=\"95.448566\" xlink:href=\"#m87f890cefc\" y=\"65.697183\"/>\n     <use style=\"fill:#dd8452;stroke:#333333;\" x=\"270.210323\" xlink:href=\"#m87f890cefc\" y=\"203.905946\"/>\n     <use style=\"fill:#dd8452;stroke:#333333;\" x=\"110.242706\" xlink:href=\"#m87f890cefc\" y=\"78.762016\"/>\n     <use style=\"fill:#dd8452;stroke:#333333;\" x=\"124.832086\" xlink:href=\"#m87f890cefc\" y=\"87.164618\"/>\n     <use style=\"fill:#dd8452;stroke:#333333;\" x=\"133.694546\" xlink:href=\"#m87f890cefc\" y=\"51.411543\"/>\n     <use style=\"fill:#dd8452;stroke:#333333;\" x=\"232.883853\" xlink:href=\"#m87f890cefc\" y=\"225.336347\"/>\n     <use style=\"fill:#dd8452;stroke:#333333;\" x=\"95.442307\" xlink:href=\"#m87f890cefc\" y=\"82.63108\"/>\n     <use style=\"fill:#dd8452;stroke:#333333;\" x=\"112.922321\" xlink:href=\"#m87f890cefc\" y=\"66.925392\"/>\n     <use style=\"fill:#dd8452;stroke:#333333;\" x=\"226.419053\" xlink:href=\"#m87f890cefc\" y=\"200.900198\"/>\n     <use style=\"fill:#dd8452;stroke:#333333;\" x=\"240.891087\" xlink:href=\"#m87f890cefc\" y=\"196.50205\"/>\n     <use style=\"fill:#dd8452;stroke:#333333;\" x=\"111.718079\" xlink:href=\"#m87f890cefc\" y=\"68.859896\"/>\n     <use style=\"fill:#dd8452;stroke:#333333;\" x=\"109.204851\" xlink:href=\"#m87f890cefc\" y=\"38.176728\"/>\n     <use style=\"fill:#dd8452;stroke:#333333;\" x=\"242.826288\" xlink:href=\"#m87f890cefc\" y=\"191.300392\"/>\n     <use style=\"fill:#dd8452;stroke:#333333;\" x=\"237.831675\" xlink:href=\"#m87f890cefc\" y=\"202.012505\"/>\n     <use style=\"fill:#dd8452;stroke:#333333;\" x=\"110.499805\" xlink:href=\"#m87f890cefc\" y=\"55.177285\"/>\n     <use style=\"fill:#dd8452;stroke:#333333;\" x=\"101.555725\" xlink:href=\"#m87f890cefc\" y=\"42.444284\"/>\n     <use style=\"fill:#dd8452;stroke:#333333;\" x=\"92.17711\" xlink:href=\"#m87f890cefc\" y=\"85.773097\"/>\n     <use style=\"fill:#dd8452;stroke:#333333;\" x=\"114.594612\" xlink:href=\"#m87f890cefc\" y=\"66.379975\"/>\n     <use style=\"fill:#dd8452;stroke:#333333;\" x=\"98.01518\" xlink:href=\"#m87f890cefc\" y=\"68.82651\"/>\n     <use style=\"fill:#dd8452;stroke:#333333;\" x=\"107.653825\" xlink:href=\"#m87f890cefc\" y=\"59.006126\"/>\n     <use style=\"fill:#dd8452;stroke:#333333;\" x=\"120.398071\" xlink:href=\"#m87f890cefc\" y=\"73.694964\"/>\n     <use style=\"fill:#dd8452;stroke:#333333;\" x=\"228.381521\" xlink:href=\"#m87f890cefc\" y=\"210.052931\"/>\n     <use style=\"fill:#dd8452;stroke:#333333;\" x=\"85.2446\" xlink:href=\"#m87f890cefc\" y=\"88.156645\"/>\n     <use style=\"fill:#dd8452;stroke:#333333;\" x=\"241.942699\" xlink:href=\"#m87f890cefc\" y=\"192.175031\"/>\n     <use style=\"fill:#dd8452;stroke:#333333;\" x=\"240.553918\" xlink:href=\"#m87f890cefc\" y=\"194.929233\"/>\n     <use style=\"fill:#dd8452;stroke:#333333;\" x=\"262.357454\" xlink:href=\"#m87f890cefc\" y=\"169.364311\"/>\n     <use style=\"fill:#dd8452;stroke:#333333;\" x=\"238.192276\" xlink:href=\"#m87f890cefc\" y=\"199.562842\"/>\n     <use style=\"fill:#dd8452;stroke:#333333;\" x=\"109.512208\" xlink:href=\"#m87f890cefc\" y=\"74.771589\"/>\n     <use style=\"fill:#dd8452;stroke:#333333;\" x=\"222.293536\" xlink:href=\"#m87f890cefc\" y=\"191.163935\"/>\n     <use style=\"fill:#dd8452;stroke:#333333;\" x=\"233.983821\" xlink:href=\"#m87f890cefc\" y=\"188.200938\"/>\n     <use style=\"fill:#dd8452;stroke:#333333;\" x=\"111.969163\" xlink:href=\"#m87f890cefc\" y=\"67.008089\"/>\n     <use style=\"fill:#dd8452;stroke:#333333;\" x=\"130.554477\" xlink:href=\"#m87f890cefc\" y=\"55.038812\"/>\n     <use style=\"fill:#dd8452;stroke:#333333;\" x=\"256.078408\" xlink:href=\"#m87f890cefc\" y=\"185.826483\"/>\n     <use style=\"fill:#dd8452;stroke:#333333;\" x=\"111.887687\" xlink:href=\"#m87f890cefc\" y=\"61.221266\"/>\n     <use style=\"fill:#dd8452;stroke:#333333;\" x=\"114.31593\" xlink:href=\"#m87f890cefc\" y=\"67.237107\"/>\n     <use style=\"fill:#dd8452;stroke:#333333;\" x=\"117.686249\" xlink:href=\"#m87f890cefc\" y=\"87.495662\"/>\n     <use style=\"fill:#dd8452;stroke:#333333;\" x=\"239.728844\" xlink:href=\"#m87f890cefc\" y=\"178.94335\"/>\n     <use style=\"fill:#dd8452;stroke:#333333;\" x=\"247.615058\" xlink:href=\"#m87f890cefc\" y=\"170.03224\"/>\n     <use style=\"fill:#dd8452;stroke:#333333;\" x=\"234.528512\" xlink:href=\"#m87f890cefc\" y=\"205.123936\"/>\n     <use style=\"fill:#dd8452;stroke:#333333;\" x=\"107.081085\" xlink:href=\"#m87f890cefc\" y=\"59.336741\"/>\n     <use style=\"fill:#dd8452;stroke:#333333;\" x=\"254.982684\" xlink:href=\"#m87f890cefc\" y=\"222.991916\"/>\n     <use style=\"fill:#dd8452;stroke:#333333;\" x=\"236.135007\" xlink:href=\"#m87f890cefc\" y=\"210.803651\"/>\n     <use style=\"fill:#dd8452;stroke:#333333;\" x=\"250.475059\" xlink:href=\"#m87f890cefc\" y=\"183.461228\"/>\n     <use style=\"fill:#dd8452;stroke:#333333;\" x=\"133.49807\" xlink:href=\"#m87f890cefc\" y=\"51.440421\"/>\n     <use style=\"fill:#dd8452;stroke:#333333;\" x=\"89.424337\" xlink:href=\"#m87f890cefc\" y=\"68.390292\"/>\n     <use style=\"fill:#dd8452;stroke:#333333;\" x=\"235.925134\" xlink:href=\"#m87f890cefc\" y=\"198.671371\"/>\n     <use style=\"fill:#dd8452;stroke:#333333;\" x=\"121.094089\" xlink:href=\"#m87f890cefc\" y=\"88.113281\"/>\n     <use style=\"fill:#dd8452;stroke:#333333;\" x=\"126.405509\" xlink:href=\"#m87f890cefc\" y=\"48.761886\"/>\n     <use style=\"fill:#dd8452;stroke:#333333;\" x=\"126.556057\" xlink:href=\"#m87f890cefc\" y=\"54.710869\"/>\n     <use style=\"fill:#dd8452;stroke:#333333;\" x=\"100.093591\" xlink:href=\"#m87f890cefc\" y=\"57.585918\"/>\n     <use style=\"fill:#dd8452;stroke:#333333;\" x=\"248.839413\" xlink:href=\"#m87f890cefc\" y=\"213.430573\"/>\n     <use style=\"fill:#dd8452;stroke:#333333;\" x=\"250.063013\" xlink:href=\"#m87f890cefc\" y=\"209.237279\"/>\n    </g>\n   </g>\n   <g id=\"patch_3\">\n    <path d=\"M 59.024844 239.758125 \nL 59.024844 22.318125 \n\" style=\"fill:none;stroke:#ffffff;stroke-linecap:square;stroke-linejoin:miter;stroke-width:1.25;\"/>\n   </g>\n   <g id=\"patch_4\">\n    <path d=\"M 282.224844 239.758125 \nL 282.224844 22.318125 \n\" style=\"fill:none;stroke:#ffffff;stroke-linecap:square;stroke-linejoin:miter;stroke-width:1.25;\"/>\n   </g>\n   <g id=\"patch_5\">\n    <path d=\"M 59.024844 239.758125 \nL 282.224844 239.758125 \n\" style=\"fill:none;stroke:#ffffff;stroke-linecap:square;stroke-linejoin:miter;stroke-width:1.25;\"/>\n   </g>\n   <g id=\"patch_6\">\n    <path d=\"M 59.024844 22.318125 \nL 282.224844 22.318125 \n\" style=\"fill:none;stroke:#ffffff;stroke-linecap:square;stroke-linejoin:miter;stroke-width:1.25;\"/>\n   </g>\n   <g id=\"text_14\">\n    <!-- Dataset samples -->\n    <defs>\n     <path d=\"M 19.671875 64.796875 \nL 19.671875 8.109375 \nL 31.59375 8.109375 \nQ 46.6875 8.109375 53.6875 14.9375 \nQ 60.6875 21.78125 60.6875 36.53125 \nQ 60.6875 51.171875 53.6875 57.984375 \nQ 46.6875 64.796875 31.59375 64.796875 \nz\nM 9.8125 72.90625 \nL 30.078125 72.90625 \nQ 51.265625 72.90625 61.171875 64.09375 \nQ 71.09375 55.28125 71.09375 36.53125 \nQ 71.09375 17.671875 61.125 8.828125 \nQ 51.171875 0 30.078125 0 \nL 9.8125 0 \nz\n\" id=\"DejaVuSans-68\"/>\n     <path d=\"M 34.28125 27.484375 \nQ 23.390625 27.484375 19.1875 25 \nQ 14.984375 22.515625 14.984375 16.5 \nQ 14.984375 11.71875 18.140625 8.90625 \nQ 21.296875 6.109375 26.703125 6.109375 \nQ 34.1875 6.109375 38.703125 11.40625 \nQ 43.21875 16.703125 43.21875 25.484375 \nL 43.21875 27.484375 \nz\nM 52.203125 31.203125 \nL 52.203125 0 \nL 43.21875 0 \nL 43.21875 8.296875 \nQ 40.140625 3.328125 35.546875 0.953125 \nQ 30.953125 -1.421875 24.3125 -1.421875 \nQ 15.921875 -1.421875 10.953125 3.296875 \nQ 6 8.015625 6 15.921875 \nQ 6 25.140625 12.171875 29.828125 \nQ 18.359375 34.515625 30.609375 34.515625 \nL 43.21875 34.515625 \nL 43.21875 35.40625 \nQ 43.21875 41.609375 39.140625 45 \nQ 35.0625 48.390625 27.6875 48.390625 \nQ 23 48.390625 18.546875 47.265625 \nQ 14.109375 46.140625 10.015625 43.890625 \nL 10.015625 52.203125 \nQ 14.9375 54.109375 19.578125 55.046875 \nQ 24.21875 56 28.609375 56 \nQ 40.484375 56 46.34375 49.84375 \nQ 52.203125 43.703125 52.203125 31.203125 \nz\n\" id=\"DejaVuSans-97\"/>\n     <path d=\"M 18.3125 70.21875 \nL 18.3125 54.6875 \nL 36.8125 54.6875 \nL 36.8125 47.703125 \nL 18.3125 47.703125 \nL 18.3125 18.015625 \nQ 18.3125 11.328125 20.140625 9.421875 \nQ 21.96875 7.515625 27.59375 7.515625 \nL 36.8125 7.515625 \nL 36.8125 0 \nL 27.59375 0 \nQ 17.1875 0 13.234375 3.875 \nQ 9.28125 7.765625 9.28125 18.015625 \nL 9.28125 47.703125 \nL 2.6875 47.703125 \nL 2.6875 54.6875 \nL 9.28125 54.6875 \nL 9.28125 70.21875 \nz\n\" id=\"DejaVuSans-116\"/>\n     <path d=\"M 44.28125 53.078125 \nL 44.28125 44.578125 \nQ 40.484375 46.53125 36.375 47.5 \nQ 32.28125 48.484375 27.875 48.484375 \nQ 21.1875 48.484375 17.84375 46.4375 \nQ 14.5 44.390625 14.5 40.28125 \nQ 14.5 37.15625 16.890625 35.375 \nQ 19.28125 33.59375 26.515625 31.984375 \nL 29.59375 31.296875 \nQ 39.15625 29.25 43.1875 25.515625 \nQ 47.21875 21.78125 47.21875 15.09375 \nQ 47.21875 7.46875 41.1875 3.015625 \nQ 35.15625 -1.421875 24.609375 -1.421875 \nQ 20.21875 -1.421875 15.453125 -0.5625 \nQ 10.6875 0.296875 5.421875 2 \nL 5.421875 11.28125 \nQ 10.40625 8.6875 15.234375 7.390625 \nQ 20.0625 6.109375 24.8125 6.109375 \nQ 31.15625 6.109375 34.5625 8.28125 \nQ 37.984375 10.453125 37.984375 14.40625 \nQ 37.984375 18.0625 35.515625 20.015625 \nQ 33.0625 21.96875 24.703125 23.78125 \nL 21.578125 24.515625 \nQ 13.234375 26.265625 9.515625 29.90625 \nQ 5.8125 33.546875 5.8125 39.890625 \nQ 5.8125 47.609375 11.28125 51.796875 \nQ 16.75 56 26.8125 56 \nQ 31.78125 56 36.171875 55.265625 \nQ 40.578125 54.546875 44.28125 53.078125 \nz\n\" id=\"DejaVuSans-115\"/>\n     <path d=\"M 56.203125 29.59375 \nL 56.203125 25.203125 \nL 14.890625 25.203125 \nQ 15.484375 15.921875 20.484375 11.0625 \nQ 25.484375 6.203125 34.421875 6.203125 \nQ 39.59375 6.203125 44.453125 7.46875 \nQ 49.3125 8.734375 54.109375 11.28125 \nL 54.109375 2.78125 \nQ 49.265625 0.734375 44.1875 -0.34375 \nQ 39.109375 -1.421875 33.890625 -1.421875 \nQ 20.796875 -1.421875 13.15625 6.1875 \nQ 5.515625 13.8125 5.515625 26.8125 \nQ 5.515625 40.234375 12.765625 48.109375 \nQ 20.015625 56 32.328125 56 \nQ 43.359375 56 49.78125 48.890625 \nQ 56.203125 41.796875 56.203125 29.59375 \nz\nM 47.21875 32.234375 \nQ 47.125 39.59375 43.09375 43.984375 \nQ 39.0625 48.390625 32.421875 48.390625 \nQ 24.90625 48.390625 20.390625 44.140625 \nQ 15.875 39.890625 15.1875 32.171875 \nz\n\" id=\"DejaVuSans-101\"/>\n     <path id=\"DejaVuSans-32\"/>\n     <path d=\"M 52 44.1875 \nQ 55.375 50.25 60.0625 53.125 \nQ 64.75 56 71.09375 56 \nQ 79.640625 56 84.28125 50.015625 \nQ 88.921875 44.046875 88.921875 33.015625 \nL 88.921875 0 \nL 79.890625 0 \nL 79.890625 32.71875 \nQ 79.890625 40.578125 77.09375 44.375 \nQ 74.3125 48.1875 68.609375 48.1875 \nQ 61.625 48.1875 57.5625 43.546875 \nQ 53.515625 38.921875 53.515625 30.90625 \nL 53.515625 0 \nL 44.484375 0 \nL 44.484375 32.71875 \nQ 44.484375 40.625 41.703125 44.40625 \nQ 38.921875 48.1875 33.109375 48.1875 \nQ 26.21875 48.1875 22.15625 43.53125 \nQ 18.109375 38.875 18.109375 30.90625 \nL 18.109375 0 \nL 9.078125 0 \nL 9.078125 54.6875 \nL 18.109375 54.6875 \nL 18.109375 46.1875 \nQ 21.1875 51.21875 25.484375 53.609375 \nQ 29.78125 56 35.6875 56 \nQ 41.65625 56 45.828125 52.96875 \nQ 50 49.953125 52 44.1875 \nz\n\" id=\"DejaVuSans-109\"/>\n     <path d=\"M 18.109375 8.203125 \nL 18.109375 -20.796875 \nL 9.078125 -20.796875 \nL 9.078125 54.6875 \nL 18.109375 54.6875 \nL 18.109375 46.390625 \nQ 20.953125 51.265625 25.265625 53.625 \nQ 29.59375 56 35.59375 56 \nQ 45.5625 56 51.78125 48.09375 \nQ 58.015625 40.1875 58.015625 27.296875 \nQ 58.015625 14.40625 51.78125 6.484375 \nQ 45.5625 -1.421875 35.59375 -1.421875 \nQ 29.59375 -1.421875 25.265625 0.953125 \nQ 20.953125 3.328125 18.109375 8.203125 \nz\nM 48.6875 27.296875 \nQ 48.6875 37.203125 44.609375 42.84375 \nQ 40.53125 48.484375 33.40625 48.484375 \nQ 26.265625 48.484375 22.1875 42.84375 \nQ 18.109375 37.203125 18.109375 27.296875 \nQ 18.109375 17.390625 22.1875 11.75 \nQ 26.265625 6.109375 33.40625 6.109375 \nQ 40.53125 6.109375 44.609375 11.75 \nQ 48.6875 17.390625 48.6875 27.296875 \nz\n\" id=\"DejaVuSans-112\"/>\n     <path d=\"M 9.421875 75.984375 \nL 18.40625 75.984375 \nL 18.40625 0 \nL 9.421875 0 \nz\n\" id=\"DejaVuSans-108\"/>\n    </defs>\n    <g style=\"fill:#262626;\" transform=\"translate(120.282031 16.318125)scale(0.12 -0.12)\">\n     <use xlink:href=\"#DejaVuSans-68\"/>\n     <use x=\"77.001953\" xlink:href=\"#DejaVuSans-97\"/>\n     <use x=\"138.28125\" xlink:href=\"#DejaVuSans-116\"/>\n     <use x=\"177.490234\" xlink:href=\"#DejaVuSans-97\"/>\n     <use x=\"238.769531\" xlink:href=\"#DejaVuSans-115\"/>\n     <use x=\"290.869141\" xlink:href=\"#DejaVuSans-101\"/>\n     <use x=\"352.392578\" xlink:href=\"#DejaVuSans-116\"/>\n     <use x=\"391.601562\" xlink:href=\"#DejaVuSans-32\"/>\n     <use x=\"423.388672\" xlink:href=\"#DejaVuSans-115\"/>\n     <use x=\"475.488281\" xlink:href=\"#DejaVuSans-97\"/>\n     <use x=\"536.767578\" xlink:href=\"#DejaVuSans-109\"/>\n     <use x=\"634.179688\" xlink:href=\"#DejaVuSans-112\"/>\n     <use x=\"697.65625\" xlink:href=\"#DejaVuSans-108\"/>\n     <use x=\"725.439453\" xlink:href=\"#DejaVuSans-101\"/>\n     <use x=\"786.962891\" xlink:href=\"#DejaVuSans-115\"/>\n    </g>\n   </g>\n   <g id=\"legend_1\">\n    <g id=\"patch_7\">\n     <path d=\"M 199.891562 148.834063 \nL 274.524844 148.834063 \nQ 276.724844 148.834063 276.724844 146.634063 \nL 276.724844 115.442187 \nQ 276.724844 113.242188 274.524844 113.242188 \nL 199.891562 113.242188 \nQ 197.691562 113.242188 197.691562 115.442187 \nL 197.691562 146.634063 \nQ 197.691562 148.834063 199.891562 148.834063 \nz\n\" style=\"fill:#eaeaf2;opacity:0.8;stroke:#cccccc;stroke-linejoin:miter;\"/>\n    </g>\n    <g id=\"PathCollection_3\">\n     <g>\n      <use style=\"fill:#4c72b0;stroke:#333333;\" x=\"213.091562\" xlink:href=\"#md4e70e32ab\" y=\"123.112969\"/>\n     </g>\n    </g>\n    <g id=\"text_15\">\n     <!-- Class 0 -->\n     <defs>\n      <path d=\"M 64.40625 67.28125 \nL 64.40625 56.890625 \nQ 59.421875 61.53125 53.78125 63.8125 \nQ 48.140625 66.109375 41.796875 66.109375 \nQ 29.296875 66.109375 22.65625 58.46875 \nQ 16.015625 50.828125 16.015625 36.375 \nQ 16.015625 21.96875 22.65625 14.328125 \nQ 29.296875 6.6875 41.796875 6.6875 \nQ 48.140625 6.6875 53.78125 8.984375 \nQ 59.421875 11.28125 64.40625 15.921875 \nL 64.40625 5.609375 \nQ 59.234375 2.09375 53.4375 0.328125 \nQ 47.65625 -1.421875 41.21875 -1.421875 \nQ 24.65625 -1.421875 15.125 8.703125 \nQ 5.609375 18.84375 5.609375 36.375 \nQ 5.609375 53.953125 15.125 64.078125 \nQ 24.65625 74.21875 41.21875 74.21875 \nQ 47.75 74.21875 53.53125 72.484375 \nQ 59.328125 70.75 64.40625 67.28125 \nz\n\" id=\"DejaVuSans-67\"/>\n     </defs>\n     <g style=\"fill:#262626;\" transform=\"translate(232.891562 126.000469)scale(0.11 -0.11)\">\n      <use xlink:href=\"#DejaVuSans-67\"/>\n      <use x=\"69.824219\" xlink:href=\"#DejaVuSans-108\"/>\n      <use x=\"97.607422\" xlink:href=\"#DejaVuSans-97\"/>\n      <use x=\"158.886719\" xlink:href=\"#DejaVuSans-115\"/>\n      <use x=\"210.986328\" xlink:href=\"#DejaVuSans-115\"/>\n      <use x=\"263.085938\" xlink:href=\"#DejaVuSans-32\"/>\n      <use x=\"294.873047\" xlink:href=\"#DejaVuSans-48\"/>\n     </g>\n    </g>\n    <g id=\"PathCollection_4\">\n     <g>\n      <use style=\"fill:#dd8452;stroke:#333333;\" x=\"213.091562\" xlink:href=\"#m87f890cefc\" y=\"139.258906\"/>\n     </g>\n    </g>\n    <g id=\"text_16\">\n     <!-- Class 1 -->\n     <g style=\"fill:#262626;\" transform=\"translate(232.891562 142.146406)scale(0.11 -0.11)\">\n      <use xlink:href=\"#DejaVuSans-67\"/>\n      <use x=\"69.824219\" xlink:href=\"#DejaVuSans-108\"/>\n      <use x=\"97.607422\" xlink:href=\"#DejaVuSans-97\"/>\n      <use x=\"158.886719\" xlink:href=\"#DejaVuSans-115\"/>\n      <use x=\"210.986328\" xlink:href=\"#DejaVuSans-115\"/>\n      <use x=\"263.085938\" xlink:href=\"#DejaVuSans-32\"/>\n      <use x=\"294.873047\" xlink:href=\"#DejaVuSans-49\"/>\n     </g>\n    </g>\n   </g>\n  </g>\n </g>\n <defs>\n  <clipPath id=\"p6bb8a040b2\">\n   <rect height=\"217.44\" width=\"223.2\" x=\"59.024844\" y=\"22.318125\"/>\n  </clipPath>\n </defs>\n</svg>\n",
            "application/pdf": "[encoded data removed]"
          },
          "metadata": {}
        }
      ]
    },
    {
      "cell_type": "markdown",
      "metadata": {
        "id": "GkYc-XAxep7i"
      },
      "source": [
        "The decision boundaries might not look exactly as in the figure in the preamble of this section which can be caused by running it on CPU or a different GPU architecture. Nevertheless, the result on the accuracy metric should be the approximately the same. "
      ]
    },
    {
      "cell_type": "markdown",
      "metadata": {
        "id": "GR-yeoCmep7i"
      },
      "source": [
        "## Additional features we didn't get to discuss yet\n",
        "\n",
        "Finally, you are all set to start with your own PyTorch project! In summary, we have looked at how we can build neural networks in PyTorch, and train and test them on data. However, there is still much more to PyTorch we haven't discussed yet. In the comming series of Jupyter notebooks, we will discover more and more functionalities of PyTorch, so that you also get familiar to PyTorch concepts beyond the basics. If you are already interested in learning more of PyTorch, we recommend the official [tutorial website](https://pytorch.org/tutorials/) that contains many tutorials on various topics. "
      ]
    }
  ]
}